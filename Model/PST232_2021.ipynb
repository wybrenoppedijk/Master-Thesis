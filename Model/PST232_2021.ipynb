{
 "cells": [
  {
   "cell_type": "code",
   "execution_count": 174,
   "metadata": {
    "collapsed": true
   },
   "outputs": [],
   "source": [
    "import pandas as pd\n",
    "import os\n",
    "from glob import glob\n",
    "import numpy as np"
   ]
  },
  {
   "cell_type": "code",
   "execution_count": 175,
   "outputs": [
    {
     "data": {
      "text/plain": "(['data/HistoricData/PST232/PST232_2021_Juli.CSV',\n  'data/HistoricData/PST232/PST232_2020_Juli.CSV',\n  'data/HistoricData/PST232/PST232_2021_August.CSV',\n  'data/HistoricData/PST232/PST232_2021_Marts.CSV',\n  'data/HistoricData/PST232/PST232_2020_Juni.CSV',\n  'data/HistoricData/PST232/PST232_2021_Juni.CSV',\n  'data/HistoricData/PST232/PST232_2020_November.CSV',\n  'data/HistoricData/PST232/PST232_2020_December.CSV',\n  'data/HistoricData/PST232/PST232_2020_Oktober.CSV',\n  'data/HistoricData/PST232/PST232_2021_Februar.CSV',\n  'data/HistoricData/PST232/PST232_2020_September.CSV',\n  'data/HistoricData/PST232/PST232_2020_Maj.CSV',\n  'data/HistoricData/PST232/PST232_2020_September_2.CSV',\n  'data/HistoricData/PST232/PST232_2021_Januar.CSV',\n  'data/HistoricData/PST232/PST232_2021_April.CSV',\n  'data/HistoricData/PST232/PST232_2021_Maj.CSV',\n  'data/HistoricData/PST232/PST232_2020_August.CSV'],\n 17)"
     },
     "execution_count": 175,
     "metadata": {},
     "output_type": "execute_result"
    }
   ],
   "source": [
    "all_files = [file for path, subdir, files in os.walk('data/HistoricData') for file in glob(os.path.join(path, '*.CSV'))]\n",
    "all_files_232 = []\n",
    "for filename in all_files:\n",
    "    if '232' in filename:\n",
    "        all_files_232.append(filename)\n",
    "all_files_232, len(all_files_232)"
   ],
   "metadata": {
    "collapsed": false,
    "pycharm": {
     "name": "#%%\n"
    }
   }
  },
  {
   "cell_type": "code",
   "execution_count": 178,
   "outputs": [
    {
     "name": "stdout",
     "output_type": "stream",
     "text": [
      "reading data/HistoricData/PST232/PST232_2020_Juli.CSV\n"
     ]
    },
    {
     "data": {
      "text/plain": "           Tid   PST-232-P1-Strøm Senest målte motorstrøm P1 (0.0-20.0 A)  \\\n0       00:00,0                                                0.0          \n1       00:51,1                                                0.0          \n2       03:14,4                                                0.0          \n3       03:29,1                                                0.0          \n4       03:44,5                                                0.0          \n...         ...                                                ...          \n146079  55:37,2                                                0.0          \n146080  56:53,7                                                0.0          \n146081  57:29,2                                                0.0          \n146082  58:20,1                                                0.0          \n146083  59:26,6                                                0.0          \n\n        PST-232-P2-Strøm Senest målte motorstrøm P2 (0.0-20.0 A)  \\\n0                                                     0.0          \n1                                                     0.0          \n2                                                     0.0          \n3                                                     0.0          \n4                                                     0.0          \n...                                                   ...          \n146079                                                0.0          \n146080                                                0.0          \n146081                                                0.0          \n146082                                                0.0          \n146083                                                0.0          \n\n        PST-232-Niveau Niveau (0.00-10.00 m)  \\\n0                                       0.96   \n1                                       0.97   \n2                                       0.98   \n3                                       0.97   \n4                                       0.98   \n...                                      ...   \n146079                                  0.35   \n146080                                  0.36   \n146081                                  0.37   \n146082                                  0.38   \n146083                                  0.39   \n\n        PST-232-Flow_ud Flow (0.0-250.0 m3/h)  \n0                                         0.0  \n1                                         0.0  \n2                                         0.0  \n3                                         0.0  \n4                                         0.0  \n...                                       ...  \n146079                                    0.0  \n146080                                    0.0  \n146081                                    0.0  \n146082                                    0.0  \n146083                                    0.0  \n\n[146084 rows x 5 columns]",
      "text/html": "<div>\n<style scoped>\n    .dataframe tbody tr th:only-of-type {\n        vertical-align: middle;\n    }\n\n    .dataframe tbody tr th {\n        vertical-align: top;\n    }\n\n    .dataframe thead th {\n        text-align: right;\n    }\n</style>\n<table border=\"1\" class=\"dataframe\">\n  <thead>\n    <tr style=\"text-align: right;\">\n      <th></th>\n      <th>Tid</th>\n      <th>PST-232-P1-Strøm Senest målte motorstrøm P1 (0.0-20.0 A)</th>\n      <th>PST-232-P2-Strøm Senest målte motorstrøm P2 (0.0-20.0 A)</th>\n      <th>PST-232-Niveau Niveau (0.00-10.00 m)</th>\n      <th>PST-232-Flow_ud Flow (0.0-250.0 m3/h)</th>\n    </tr>\n  </thead>\n  <tbody>\n    <tr>\n      <th>0</th>\n      <td>00:00,0</td>\n      <td>0.0</td>\n      <td>0.0</td>\n      <td>0.96</td>\n      <td>0.0</td>\n    </tr>\n    <tr>\n      <th>1</th>\n      <td>00:51,1</td>\n      <td>0.0</td>\n      <td>0.0</td>\n      <td>0.97</td>\n      <td>0.0</td>\n    </tr>\n    <tr>\n      <th>2</th>\n      <td>03:14,4</td>\n      <td>0.0</td>\n      <td>0.0</td>\n      <td>0.98</td>\n      <td>0.0</td>\n    </tr>\n    <tr>\n      <th>3</th>\n      <td>03:29,1</td>\n      <td>0.0</td>\n      <td>0.0</td>\n      <td>0.97</td>\n      <td>0.0</td>\n    </tr>\n    <tr>\n      <th>4</th>\n      <td>03:44,5</td>\n      <td>0.0</td>\n      <td>0.0</td>\n      <td>0.98</td>\n      <td>0.0</td>\n    </tr>\n    <tr>\n      <th>...</th>\n      <td>...</td>\n      <td>...</td>\n      <td>...</td>\n      <td>...</td>\n      <td>...</td>\n    </tr>\n    <tr>\n      <th>146079</th>\n      <td>55:37,2</td>\n      <td>0.0</td>\n      <td>0.0</td>\n      <td>0.35</td>\n      <td>0.0</td>\n    </tr>\n    <tr>\n      <th>146080</th>\n      <td>56:53,7</td>\n      <td>0.0</td>\n      <td>0.0</td>\n      <td>0.36</td>\n      <td>0.0</td>\n    </tr>\n    <tr>\n      <th>146081</th>\n      <td>57:29,2</td>\n      <td>0.0</td>\n      <td>0.0</td>\n      <td>0.37</td>\n      <td>0.0</td>\n    </tr>\n    <tr>\n      <th>146082</th>\n      <td>58:20,1</td>\n      <td>0.0</td>\n      <td>0.0</td>\n      <td>0.38</td>\n      <td>0.0</td>\n    </tr>\n    <tr>\n      <th>146083</th>\n      <td>59:26,6</td>\n      <td>0.0</td>\n      <td>0.0</td>\n      <td>0.39</td>\n      <td>0.0</td>\n    </tr>\n  </tbody>\n</table>\n<p>146084 rows × 5 columns</p>\n</div>"
     },
     "execution_count": 178,
     "metadata": {},
     "output_type": "execute_result"
    }
   ],
   "source": [
    "p = all_files_232[0]\n",
    "print(f'reading {p}')\n",
    "df = pd.read_csv(p, encoding='cp1252', sep=';', decimal=',').reset_index().iloc[:,1:]\n",
    "df"
   ],
   "metadata": {
    "collapsed": false,
    "pycharm": {
     "name": "#%%\n"
    }
   }
  },
  {
   "cell_type": "code",
   "execution_count": 179,
   "outputs": [
    {
     "ename": "ParserError",
     "evalue": "hour must be in 0..23: 25:25,3",
     "output_type": "error",
     "traceback": [
      "\u001B[0;31m---------------------------------------------------------------------------\u001B[0m",
      "\u001B[0;31mValueError\u001B[0m                                Traceback (most recent call last)",
      "File \u001B[0;32m~/miniforge3/envs/MLOPS/lib/python3.9/site-packages/dateutil/parser/_parser.py:649\u001B[0m, in \u001B[0;36mparser.parse\u001B[0;34m(self, timestr, default, ignoretz, tzinfos, **kwargs)\u001B[0m\n\u001B[1;32m    648\u001B[0m \u001B[38;5;28;01mtry\u001B[39;00m:\n\u001B[0;32m--> 649\u001B[0m     ret \u001B[38;5;241m=\u001B[39m \u001B[38;5;28;43mself\u001B[39;49m\u001B[38;5;241;43m.\u001B[39;49m\u001B[43m_build_naive\u001B[49m\u001B[43m(\u001B[49m\u001B[43mres\u001B[49m\u001B[43m,\u001B[49m\u001B[43m \u001B[49m\u001B[43mdefault\u001B[49m\u001B[43m)\u001B[49m\n\u001B[1;32m    650\u001B[0m \u001B[38;5;28;01mexcept\u001B[39;00m \u001B[38;5;167;01mValueError\u001B[39;00m \u001B[38;5;28;01mas\u001B[39;00m e:\n",
      "File \u001B[0;32m~/miniforge3/envs/MLOPS/lib/python3.9/site-packages/dateutil/parser/_parser.py:1235\u001B[0m, in \u001B[0;36mparser._build_naive\u001B[0;34m(self, res, default)\u001B[0m\n\u001B[1;32m   1233\u001B[0m         repl[\u001B[38;5;124m'\u001B[39m\u001B[38;5;124mday\u001B[39m\u001B[38;5;124m'\u001B[39m] \u001B[38;5;241m=\u001B[39m monthrange(cyear, cmonth)[\u001B[38;5;241m1\u001B[39m]\n\u001B[0;32m-> 1235\u001B[0m naive \u001B[38;5;241m=\u001B[39m \u001B[43mdefault\u001B[49m\u001B[38;5;241;43m.\u001B[39;49m\u001B[43mreplace\u001B[49m\u001B[43m(\u001B[49m\u001B[38;5;241;43m*\u001B[39;49m\u001B[38;5;241;43m*\u001B[39;49m\u001B[43mrepl\u001B[49m\u001B[43m)\u001B[49m\n\u001B[1;32m   1237\u001B[0m \u001B[38;5;28;01mif\u001B[39;00m res\u001B[38;5;241m.\u001B[39mweekday \u001B[38;5;129;01mis\u001B[39;00m \u001B[38;5;129;01mnot\u001B[39;00m \u001B[38;5;28;01mNone\u001B[39;00m \u001B[38;5;129;01mand\u001B[39;00m \u001B[38;5;129;01mnot\u001B[39;00m res\u001B[38;5;241m.\u001B[39mday:\n",
      "\u001B[0;31mValueError\u001B[0m: hour must be in 0..23",
      "\nThe above exception was the direct cause of the following exception:\n",
      "\u001B[0;31mParserError\u001B[0m                               Traceback (most recent call last)",
      "File \u001B[0;32m~/miniforge3/envs/MLOPS/lib/python3.9/site-packages/pandas/_libs/tslib.pyx:534\u001B[0m, in \u001B[0;36mpandas._libs.tslib.array_to_datetime\u001B[0;34m()\u001B[0m\n",
      "File \u001B[0;32m~/miniforge3/envs/MLOPS/lib/python3.9/site-packages/pandas/_libs/tslibs/parsing.pyx:257\u001B[0m, in \u001B[0;36mpandas._libs.tslibs.parsing.parse_datetime_string\u001B[0;34m()\u001B[0m\n",
      "File \u001B[0;32m~/miniforge3/envs/MLOPS/lib/python3.9/site-packages/dateutil/parser/_parser.py:1368\u001B[0m, in \u001B[0;36mparse\u001B[0;34m(timestr, parserinfo, **kwargs)\u001B[0m\n\u001B[1;32m   1367\u001B[0m \u001B[38;5;28;01melse\u001B[39;00m:\n\u001B[0;32m-> 1368\u001B[0m     \u001B[38;5;28;01mreturn\u001B[39;00m \u001B[43mDEFAULTPARSER\u001B[49m\u001B[38;5;241;43m.\u001B[39;49m\u001B[43mparse\u001B[49m\u001B[43m(\u001B[49m\u001B[43mtimestr\u001B[49m\u001B[43m,\u001B[49m\u001B[43m \u001B[49m\u001B[38;5;241;43m*\u001B[39;49m\u001B[38;5;241;43m*\u001B[39;49m\u001B[43mkwargs\u001B[49m\u001B[43m)\u001B[49m\n",
      "File \u001B[0;32m~/miniforge3/envs/MLOPS/lib/python3.9/site-packages/dateutil/parser/_parser.py:651\u001B[0m, in \u001B[0;36mparser.parse\u001B[0;34m(self, timestr, default, ignoretz, tzinfos, **kwargs)\u001B[0m\n\u001B[1;32m    650\u001B[0m \u001B[38;5;28;01mexcept\u001B[39;00m \u001B[38;5;167;01mValueError\u001B[39;00m \u001B[38;5;28;01mas\u001B[39;00m e:\n\u001B[0;32m--> 651\u001B[0m     \u001B[43msix\u001B[49m\u001B[38;5;241;43m.\u001B[39;49m\u001B[43mraise_from\u001B[49m\u001B[43m(\u001B[49m\u001B[43mParserError\u001B[49m\u001B[43m(\u001B[49m\u001B[38;5;28;43mstr\u001B[39;49m\u001B[43m(\u001B[49m\u001B[43me\u001B[49m\u001B[43m)\u001B[49m\u001B[43m \u001B[49m\u001B[38;5;241;43m+\u001B[39;49m\u001B[43m \u001B[49m\u001B[38;5;124;43m\"\u001B[39;49m\u001B[38;5;124;43m: \u001B[39;49m\u001B[38;5;132;43;01m%s\u001B[39;49;00m\u001B[38;5;124;43m\"\u001B[39;49m\u001B[43m,\u001B[49m\u001B[43m \u001B[49m\u001B[43mtimestr\u001B[49m\u001B[43m)\u001B[49m\u001B[43m,\u001B[49m\u001B[43m \u001B[49m\u001B[43me\u001B[49m\u001B[43m)\u001B[49m\n\u001B[1;32m    653\u001B[0m \u001B[38;5;28;01mif\u001B[39;00m \u001B[38;5;129;01mnot\u001B[39;00m ignoretz:\n",
      "File \u001B[0;32m<string>:3\u001B[0m, in \u001B[0;36mraise_from\u001B[0;34m(value, from_value)\u001B[0m\n",
      "\u001B[0;31mParserError\u001B[0m: hour must be in 0..23: 25:25,3",
      "\nDuring handling of the above exception, another exception occurred:\n",
      "\u001B[0;31mTypeError\u001B[0m                                 Traceback (most recent call last)",
      "File \u001B[0;32m~/miniforge3/envs/MLOPS/lib/python3.9/site-packages/pandas/_libs/tslib.pyx:545\u001B[0m, in \u001B[0;36mpandas._libs.tslib.array_to_datetime\u001B[0;34m()\u001B[0m\n",
      "\u001B[0;31mTypeError\u001B[0m: invalid string coercion to datetime",
      "\nDuring handling of the above exception, another exception occurred:\n",
      "\u001B[0;31mValueError\u001B[0m                                Traceback (most recent call last)",
      "File \u001B[0;32m~/miniforge3/envs/MLOPS/lib/python3.9/site-packages/dateutil/parser/_parser.py:649\u001B[0m, in \u001B[0;36mparser.parse\u001B[0;34m(self, timestr, default, ignoretz, tzinfos, **kwargs)\u001B[0m\n\u001B[1;32m    648\u001B[0m \u001B[38;5;28;01mtry\u001B[39;00m:\n\u001B[0;32m--> 649\u001B[0m     ret \u001B[38;5;241m=\u001B[39m \u001B[38;5;28;43mself\u001B[39;49m\u001B[38;5;241;43m.\u001B[39;49m\u001B[43m_build_naive\u001B[49m\u001B[43m(\u001B[49m\u001B[43mres\u001B[49m\u001B[43m,\u001B[49m\u001B[43m \u001B[49m\u001B[43mdefault\u001B[49m\u001B[43m)\u001B[49m\n\u001B[1;32m    650\u001B[0m \u001B[38;5;28;01mexcept\u001B[39;00m \u001B[38;5;167;01mValueError\u001B[39;00m \u001B[38;5;28;01mas\u001B[39;00m e:\n",
      "File \u001B[0;32m~/miniforge3/envs/MLOPS/lib/python3.9/site-packages/dateutil/parser/_parser.py:1235\u001B[0m, in \u001B[0;36mparser._build_naive\u001B[0;34m(self, res, default)\u001B[0m\n\u001B[1;32m   1233\u001B[0m         repl[\u001B[38;5;124m'\u001B[39m\u001B[38;5;124mday\u001B[39m\u001B[38;5;124m'\u001B[39m] \u001B[38;5;241m=\u001B[39m monthrange(cyear, cmonth)[\u001B[38;5;241m1\u001B[39m]\n\u001B[0;32m-> 1235\u001B[0m naive \u001B[38;5;241m=\u001B[39m \u001B[43mdefault\u001B[49m\u001B[38;5;241;43m.\u001B[39;49m\u001B[43mreplace\u001B[49m\u001B[43m(\u001B[49m\u001B[38;5;241;43m*\u001B[39;49m\u001B[38;5;241;43m*\u001B[39;49m\u001B[43mrepl\u001B[49m\u001B[43m)\u001B[49m\n\u001B[1;32m   1237\u001B[0m \u001B[38;5;28;01mif\u001B[39;00m res\u001B[38;5;241m.\u001B[39mweekday \u001B[38;5;129;01mis\u001B[39;00m \u001B[38;5;129;01mnot\u001B[39;00m \u001B[38;5;28;01mNone\u001B[39;00m \u001B[38;5;129;01mand\u001B[39;00m \u001B[38;5;129;01mnot\u001B[39;00m res\u001B[38;5;241m.\u001B[39mday:\n",
      "\u001B[0;31mValueError\u001B[0m: hour must be in 0..23",
      "\nThe above exception was the direct cause of the following exception:\n",
      "\u001B[0;31mParserError\u001B[0m                               Traceback (most recent call last)",
      "Input \u001B[0;32mIn [179]\u001B[0m, in \u001B[0;36m<module>\u001B[0;34m\u001B[0m\n\u001B[1;32m      1\u001B[0m df\u001B[38;5;241m.\u001B[39mcolumns \u001B[38;5;241m=\u001B[39m [\u001B[38;5;124m'\u001B[39m\u001B[38;5;124mtime\u001B[39m\u001B[38;5;124m'\u001B[39m, \u001B[38;5;124m'\u001B[39m\u001B[38;5;124mcurrent_1\u001B[39m\u001B[38;5;124m'\u001B[39m, \u001B[38;5;124m'\u001B[39m\u001B[38;5;124mcurrent_2\u001B[39m\u001B[38;5;124m'\u001B[39m, \u001B[38;5;124m'\u001B[39m\u001B[38;5;124mwater_level\u001B[39m\u001B[38;5;124m'\u001B[39m, \u001B[38;5;124m'\u001B[39m\u001B[38;5;124moutflow_level\u001B[39m\u001B[38;5;124m'\u001B[39m]\n\u001B[1;32m      2\u001B[0m df \u001B[38;5;241m=\u001B[39m df\u001B[38;5;241m.\u001B[39mastype({\n\u001B[1;32m      3\u001B[0m     \u001B[38;5;124m'\u001B[39m\u001B[38;5;124mcurrent_1\u001B[39m\u001B[38;5;124m'\u001B[39m: \u001B[38;5;28mfloat\u001B[39m,\n\u001B[1;32m      4\u001B[0m     \u001B[38;5;124m'\u001B[39m\u001B[38;5;124mcurrent_2\u001B[39m\u001B[38;5;124m'\u001B[39m: \u001B[38;5;28mfloat\u001B[39m,\n\u001B[1;32m      5\u001B[0m     \u001B[38;5;124m'\u001B[39m\u001B[38;5;124mwater_level\u001B[39m\u001B[38;5;124m'\u001B[39m: \u001B[38;5;28mfloat\u001B[39m,\n\u001B[1;32m      6\u001B[0m     \u001B[38;5;124m'\u001B[39m\u001B[38;5;124moutflow_level\u001B[39m\u001B[38;5;124m'\u001B[39m: \u001B[38;5;28mfloat\u001B[39m,\n\u001B[1;32m      7\u001B[0m })\n\u001B[0;32m----> 8\u001B[0m df\u001B[38;5;241m.\u001B[39mtime \u001B[38;5;241m=\u001B[39m \u001B[43mpd\u001B[49m\u001B[38;5;241;43m.\u001B[39;49m\u001B[43mto_datetime\u001B[49m\u001B[43m(\u001B[49m\u001B[43mdf\u001B[49m\u001B[38;5;241;43m.\u001B[39;49m\u001B[43mtime\u001B[49m\u001B[43m)\u001B[49m\n\u001B[1;32m      9\u001B[0m df\n",
      "File \u001B[0;32m~/miniforge3/envs/MLOPS/lib/python3.9/site-packages/pandas/core/tools/datetimes.py:887\u001B[0m, in \u001B[0;36mto_datetime\u001B[0;34m(arg, errors, dayfirst, yearfirst, utc, format, exact, unit, infer_datetime_format, origin, cache)\u001B[0m\n\u001B[1;32m    885\u001B[0m         result \u001B[38;5;241m=\u001B[39m arg\u001B[38;5;241m.\u001B[39mmap(cache_array)\n\u001B[1;32m    886\u001B[0m     \u001B[38;5;28;01melse\u001B[39;00m:\n\u001B[0;32m--> 887\u001B[0m         values \u001B[38;5;241m=\u001B[39m \u001B[43mconvert_listlike\u001B[49m\u001B[43m(\u001B[49m\u001B[43marg\u001B[49m\u001B[38;5;241;43m.\u001B[39;49m\u001B[43m_values\u001B[49m\u001B[43m,\u001B[49m\u001B[43m \u001B[49m\u001B[38;5;28;43mformat\u001B[39;49m\u001B[43m)\u001B[49m\n\u001B[1;32m    888\u001B[0m         result \u001B[38;5;241m=\u001B[39m arg\u001B[38;5;241m.\u001B[39m_constructor(values, index\u001B[38;5;241m=\u001B[39marg\u001B[38;5;241m.\u001B[39mindex, name\u001B[38;5;241m=\u001B[39marg\u001B[38;5;241m.\u001B[39mname)\n\u001B[1;32m    889\u001B[0m \u001B[38;5;28;01melif\u001B[39;00m \u001B[38;5;28misinstance\u001B[39m(arg, (ABCDataFrame, abc\u001B[38;5;241m.\u001B[39mMutableMapping)):\n",
      "File \u001B[0;32m~/miniforge3/envs/MLOPS/lib/python3.9/site-packages/pandas/core/tools/datetimes.py:401\u001B[0m, in \u001B[0;36m_convert_listlike_datetimes\u001B[0;34m(arg, format, name, tz, unit, errors, infer_datetime_format, dayfirst, yearfirst, exact)\u001B[0m\n\u001B[1;32m    399\u001B[0m \u001B[38;5;28;01massert\u001B[39;00m \u001B[38;5;28mformat\u001B[39m \u001B[38;5;129;01mis\u001B[39;00m \u001B[38;5;28;01mNone\u001B[39;00m \u001B[38;5;129;01mor\u001B[39;00m infer_datetime_format\n\u001B[1;32m    400\u001B[0m utc \u001B[38;5;241m=\u001B[39m tz \u001B[38;5;241m==\u001B[39m \u001B[38;5;124m\"\u001B[39m\u001B[38;5;124mutc\u001B[39m\u001B[38;5;124m\"\u001B[39m\n\u001B[0;32m--> 401\u001B[0m result, tz_parsed \u001B[38;5;241m=\u001B[39m \u001B[43mobjects_to_datetime64ns\u001B[49m\u001B[43m(\u001B[49m\n\u001B[1;32m    402\u001B[0m \u001B[43m    \u001B[49m\u001B[43marg\u001B[49m\u001B[43m,\u001B[49m\n\u001B[1;32m    403\u001B[0m \u001B[43m    \u001B[49m\u001B[43mdayfirst\u001B[49m\u001B[38;5;241;43m=\u001B[39;49m\u001B[43mdayfirst\u001B[49m\u001B[43m,\u001B[49m\n\u001B[1;32m    404\u001B[0m \u001B[43m    \u001B[49m\u001B[43myearfirst\u001B[49m\u001B[38;5;241;43m=\u001B[39;49m\u001B[43myearfirst\u001B[49m\u001B[43m,\u001B[49m\n\u001B[1;32m    405\u001B[0m \u001B[43m    \u001B[49m\u001B[43mutc\u001B[49m\u001B[38;5;241;43m=\u001B[39;49m\u001B[43mutc\u001B[49m\u001B[43m,\u001B[49m\n\u001B[1;32m    406\u001B[0m \u001B[43m    \u001B[49m\u001B[43merrors\u001B[49m\u001B[38;5;241;43m=\u001B[39;49m\u001B[43merrors\u001B[49m\u001B[43m,\u001B[49m\n\u001B[1;32m    407\u001B[0m \u001B[43m    \u001B[49m\u001B[43mrequire_iso8601\u001B[49m\u001B[38;5;241;43m=\u001B[39;49m\u001B[43mrequire_iso8601\u001B[49m\u001B[43m,\u001B[49m\n\u001B[1;32m    408\u001B[0m \u001B[43m    \u001B[49m\u001B[43mallow_object\u001B[49m\u001B[38;5;241;43m=\u001B[39;49m\u001B[38;5;28;43;01mTrue\u001B[39;49;00m\u001B[43m,\u001B[49m\n\u001B[1;32m    409\u001B[0m \u001B[43m\u001B[49m\u001B[43m)\u001B[49m\n\u001B[1;32m    411\u001B[0m \u001B[38;5;28;01mif\u001B[39;00m tz_parsed \u001B[38;5;129;01mis\u001B[39;00m \u001B[38;5;129;01mnot\u001B[39;00m \u001B[38;5;28;01mNone\u001B[39;00m:\n\u001B[1;32m    412\u001B[0m     \u001B[38;5;66;03m# We can take a shortcut since the datetime64 numpy array\u001B[39;00m\n\u001B[1;32m    413\u001B[0m     \u001B[38;5;66;03m# is in UTC\u001B[39;00m\n\u001B[1;32m    414\u001B[0m     dta \u001B[38;5;241m=\u001B[39m DatetimeArray(result, dtype\u001B[38;5;241m=\u001B[39mtz_to_dtype(tz_parsed))\n",
      "File \u001B[0;32m~/miniforge3/envs/MLOPS/lib/python3.9/site-packages/pandas/core/arrays/datetimes.py:2193\u001B[0m, in \u001B[0;36mobjects_to_datetime64ns\u001B[0;34m(data, dayfirst, yearfirst, utc, errors, require_iso8601, allow_object, allow_mixed)\u001B[0m\n\u001B[1;32m   2191\u001B[0m         \u001B[38;5;28;01mreturn\u001B[39;00m values\u001B[38;5;241m.\u001B[39mview(\u001B[38;5;124m\"\u001B[39m\u001B[38;5;124mi8\u001B[39m\u001B[38;5;124m\"\u001B[39m), tz_parsed\n\u001B[1;32m   2192\u001B[0m     \u001B[38;5;28;01mexcept\u001B[39;00m (\u001B[38;5;167;01mValueError\u001B[39;00m, \u001B[38;5;167;01mTypeError\u001B[39;00m):\n\u001B[0;32m-> 2193\u001B[0m         \u001B[38;5;28;01mraise\u001B[39;00m err\n\u001B[1;32m   2195\u001B[0m \u001B[38;5;28;01mif\u001B[39;00m tz_parsed \u001B[38;5;129;01mis\u001B[39;00m \u001B[38;5;129;01mnot\u001B[39;00m \u001B[38;5;28;01mNone\u001B[39;00m:\n\u001B[1;32m   2196\u001B[0m     \u001B[38;5;66;03m# We can take a shortcut since the datetime64 numpy array\u001B[39;00m\n\u001B[1;32m   2197\u001B[0m     \u001B[38;5;66;03m#  is in UTC\u001B[39;00m\n\u001B[1;32m   2198\u001B[0m     \u001B[38;5;66;03m# Return i8 values to denote unix timestamps\u001B[39;00m\n\u001B[1;32m   2199\u001B[0m     \u001B[38;5;28;01mreturn\u001B[39;00m result\u001B[38;5;241m.\u001B[39mview(\u001B[38;5;124m\"\u001B[39m\u001B[38;5;124mi8\u001B[39m\u001B[38;5;124m\"\u001B[39m), tz_parsed\n",
      "File \u001B[0;32m~/miniforge3/envs/MLOPS/lib/python3.9/site-packages/pandas/core/arrays/datetimes.py:2175\u001B[0m, in \u001B[0;36mobjects_to_datetime64ns\u001B[0;34m(data, dayfirst, yearfirst, utc, errors, require_iso8601, allow_object, allow_mixed)\u001B[0m\n\u001B[1;32m   2173\u001B[0m order: Literal[\u001B[38;5;124m\"\u001B[39m\u001B[38;5;124mF\u001B[39m\u001B[38;5;124m\"\u001B[39m, \u001B[38;5;124m\"\u001B[39m\u001B[38;5;124mC\u001B[39m\u001B[38;5;124m\"\u001B[39m] \u001B[38;5;241m=\u001B[39m \u001B[38;5;124m\"\u001B[39m\u001B[38;5;124mF\u001B[39m\u001B[38;5;124m\"\u001B[39m \u001B[38;5;28;01mif\u001B[39;00m flags\u001B[38;5;241m.\u001B[39mf_contiguous \u001B[38;5;28;01melse\u001B[39;00m \u001B[38;5;124m\"\u001B[39m\u001B[38;5;124mC\u001B[39m\u001B[38;5;124m\"\u001B[39m\n\u001B[1;32m   2174\u001B[0m \u001B[38;5;28;01mtry\u001B[39;00m:\n\u001B[0;32m-> 2175\u001B[0m     result, tz_parsed \u001B[38;5;241m=\u001B[39m \u001B[43mtslib\u001B[49m\u001B[38;5;241;43m.\u001B[39;49m\u001B[43marray_to_datetime\u001B[49m\u001B[43m(\u001B[49m\n\u001B[1;32m   2176\u001B[0m \u001B[43m        \u001B[49m\u001B[43mdata\u001B[49m\u001B[38;5;241;43m.\u001B[39;49m\u001B[43mravel\u001B[49m\u001B[43m(\u001B[49m\u001B[38;5;124;43m\"\u001B[39;49m\u001B[38;5;124;43mK\u001B[39;49m\u001B[38;5;124;43m\"\u001B[39;49m\u001B[43m)\u001B[49m\u001B[43m,\u001B[49m\n\u001B[1;32m   2177\u001B[0m \u001B[43m        \u001B[49m\u001B[43merrors\u001B[49m\u001B[38;5;241;43m=\u001B[39;49m\u001B[43merrors\u001B[49m\u001B[43m,\u001B[49m\n\u001B[1;32m   2178\u001B[0m \u001B[43m        \u001B[49m\u001B[43mutc\u001B[49m\u001B[38;5;241;43m=\u001B[39;49m\u001B[43mutc\u001B[49m\u001B[43m,\u001B[49m\n\u001B[1;32m   2179\u001B[0m \u001B[43m        \u001B[49m\u001B[43mdayfirst\u001B[49m\u001B[38;5;241;43m=\u001B[39;49m\u001B[43mdayfirst\u001B[49m\u001B[43m,\u001B[49m\n\u001B[1;32m   2180\u001B[0m \u001B[43m        \u001B[49m\u001B[43myearfirst\u001B[49m\u001B[38;5;241;43m=\u001B[39;49m\u001B[43myearfirst\u001B[49m\u001B[43m,\u001B[49m\n\u001B[1;32m   2181\u001B[0m \u001B[43m        \u001B[49m\u001B[43mrequire_iso8601\u001B[49m\u001B[38;5;241;43m=\u001B[39;49m\u001B[43mrequire_iso8601\u001B[49m\u001B[43m,\u001B[49m\n\u001B[1;32m   2182\u001B[0m \u001B[43m        \u001B[49m\u001B[43mallow_mixed\u001B[49m\u001B[38;5;241;43m=\u001B[39;49m\u001B[43mallow_mixed\u001B[49m\u001B[43m,\u001B[49m\n\u001B[1;32m   2183\u001B[0m \u001B[43m    \u001B[49m\u001B[43m)\u001B[49m\n\u001B[1;32m   2184\u001B[0m     result \u001B[38;5;241m=\u001B[39m result\u001B[38;5;241m.\u001B[39mreshape(data\u001B[38;5;241m.\u001B[39mshape, order\u001B[38;5;241m=\u001B[39morder)\n\u001B[1;32m   2185\u001B[0m \u001B[38;5;28;01mexcept\u001B[39;00m \u001B[38;5;167;01mValueError\u001B[39;00m \u001B[38;5;28;01mas\u001B[39;00m err:\n",
      "File \u001B[0;32m~/miniforge3/envs/MLOPS/lib/python3.9/site-packages/pandas/_libs/tslib.pyx:379\u001B[0m, in \u001B[0;36mpandas._libs.tslib.array_to_datetime\u001B[0;34m()\u001B[0m\n",
      "File \u001B[0;32m~/miniforge3/envs/MLOPS/lib/python3.9/site-packages/pandas/_libs/tslib.pyx:611\u001B[0m, in \u001B[0;36mpandas._libs.tslib.array_to_datetime\u001B[0;34m()\u001B[0m\n",
      "File \u001B[0;32m~/miniforge3/envs/MLOPS/lib/python3.9/site-packages/pandas/_libs/tslib.pyx:749\u001B[0m, in \u001B[0;36mpandas._libs.tslib._array_to_datetime_object\u001B[0;34m()\u001B[0m\n",
      "File \u001B[0;32m~/miniforge3/envs/MLOPS/lib/python3.9/site-packages/pandas/_libs/tslib.pyx:740\u001B[0m, in \u001B[0;36mpandas._libs.tslib._array_to_datetime_object\u001B[0;34m()\u001B[0m\n",
      "File \u001B[0;32m~/miniforge3/envs/MLOPS/lib/python3.9/site-packages/pandas/_libs/tslibs/parsing.pyx:257\u001B[0m, in \u001B[0;36mpandas._libs.tslibs.parsing.parse_datetime_string\u001B[0;34m()\u001B[0m\n",
      "File \u001B[0;32m~/miniforge3/envs/MLOPS/lib/python3.9/site-packages/dateutil/parser/_parser.py:1368\u001B[0m, in \u001B[0;36mparse\u001B[0;34m(timestr, parserinfo, **kwargs)\u001B[0m\n\u001B[1;32m   1366\u001B[0m     \u001B[38;5;28;01mreturn\u001B[39;00m parser(parserinfo)\u001B[38;5;241m.\u001B[39mparse(timestr, \u001B[38;5;241m*\u001B[39m\u001B[38;5;241m*\u001B[39mkwargs)\n\u001B[1;32m   1367\u001B[0m \u001B[38;5;28;01melse\u001B[39;00m:\n\u001B[0;32m-> 1368\u001B[0m     \u001B[38;5;28;01mreturn\u001B[39;00m \u001B[43mDEFAULTPARSER\u001B[49m\u001B[38;5;241;43m.\u001B[39;49m\u001B[43mparse\u001B[49m\u001B[43m(\u001B[49m\u001B[43mtimestr\u001B[49m\u001B[43m,\u001B[49m\u001B[43m \u001B[49m\u001B[38;5;241;43m*\u001B[39;49m\u001B[38;5;241;43m*\u001B[39;49m\u001B[43mkwargs\u001B[49m\u001B[43m)\u001B[49m\n",
      "File \u001B[0;32m~/miniforge3/envs/MLOPS/lib/python3.9/site-packages/dateutil/parser/_parser.py:651\u001B[0m, in \u001B[0;36mparser.parse\u001B[0;34m(self, timestr, default, ignoretz, tzinfos, **kwargs)\u001B[0m\n\u001B[1;32m    649\u001B[0m     ret \u001B[38;5;241m=\u001B[39m \u001B[38;5;28mself\u001B[39m\u001B[38;5;241m.\u001B[39m_build_naive(res, default)\n\u001B[1;32m    650\u001B[0m \u001B[38;5;28;01mexcept\u001B[39;00m \u001B[38;5;167;01mValueError\u001B[39;00m \u001B[38;5;28;01mas\u001B[39;00m e:\n\u001B[0;32m--> 651\u001B[0m     \u001B[43msix\u001B[49m\u001B[38;5;241;43m.\u001B[39;49m\u001B[43mraise_from\u001B[49m\u001B[43m(\u001B[49m\u001B[43mParserError\u001B[49m\u001B[43m(\u001B[49m\u001B[38;5;28;43mstr\u001B[39;49m\u001B[43m(\u001B[49m\u001B[43me\u001B[49m\u001B[43m)\u001B[49m\u001B[43m \u001B[49m\u001B[38;5;241;43m+\u001B[39;49m\u001B[43m \u001B[49m\u001B[38;5;124;43m\"\u001B[39;49m\u001B[38;5;124;43m: \u001B[39;49m\u001B[38;5;132;43;01m%s\u001B[39;49;00m\u001B[38;5;124;43m\"\u001B[39;49m\u001B[43m,\u001B[49m\u001B[43m \u001B[49m\u001B[43mtimestr\u001B[49m\u001B[43m)\u001B[49m\u001B[43m,\u001B[49m\u001B[43m \u001B[49m\u001B[43me\u001B[49m\u001B[43m)\u001B[49m\n\u001B[1;32m    653\u001B[0m \u001B[38;5;28;01mif\u001B[39;00m \u001B[38;5;129;01mnot\u001B[39;00m ignoretz:\n\u001B[1;32m    654\u001B[0m     ret \u001B[38;5;241m=\u001B[39m \u001B[38;5;28mself\u001B[39m\u001B[38;5;241m.\u001B[39m_build_tzaware(ret, res, tzinfos)\n",
      "File \u001B[0;32m<string>:3\u001B[0m, in \u001B[0;36mraise_from\u001B[0;34m(value, from_value)\u001B[0m\n",
      "\u001B[0;31mParserError\u001B[0m: hour must be in 0..23: 25:25,3"
     ]
    }
   ],
   "source": [
    "df.columns = ['time', 'current_1', 'current_2', 'water_level', 'outflow_level']\n",
    "df = df.astype({\n",
    "    'current_1': float,\n",
    "    'current_2': float,\n",
    "    'water_level': float,\n",
    "    'outflow_level': float,\n",
    "})\n",
    "df.time = pd.to_datetime(df.time)\n",
    "df"
   ],
   "metadata": {
    "collapsed": false,
    "pycharm": {
     "name": "#%%\n"
    }
   }
  },
  {
   "cell_type": "code",
   "execution_count": 163,
   "outputs": [],
   "source": [
    "df['currents'] = df.apply(lambda row: [row.current_1, row.current_2], axis=1)\n",
    "df['current_tot'] = df.apply(lambda row: row.current_1 + row.current_2, axis=1)\n",
    "df.drop(columns=['current_1', 'current_2'], inplace=True)"
   ],
   "metadata": {
    "collapsed": false,
    "pycharm": {
     "name": "#%%\n"
    }
   }
  },
  {
   "cell_type": "code",
   "execution_count": 170,
   "outputs": [
    {
     "data": {
      "text/plain": "                         water_level  outflow_level  current_tot\ntime                                                            \n2021-01-07 00:00:00.000         1.05            0.0          0.0\n2021-01-07 00:01:26.166         1.07            0.0          0.0\n2021-01-07 00:04:18.640         1.09            0.0          0.0\n2021-01-07 00:07:34.170         1.11            0.0          0.0\n2021-01-07 00:11:12.242         1.13            0.0          0.0\n...                              ...            ...          ...\n2021-07-31 23:57:16.738         0.26            0.0          0.0\n2021-07-31 23:57:39.732         0.27            0.0          0.0\n2021-07-31 23:58:37.031         0.28            0.0          0.0\n2021-07-31 23:59:00.056         0.29            0.0          0.0\n2021-07-31 23:59:23.098         0.30            0.0          0.0\n\n[102121 rows x 3 columns]",
      "text/html": "<div>\n<style scoped>\n    .dataframe tbody tr th:only-of-type {\n        vertical-align: middle;\n    }\n\n    .dataframe tbody tr th {\n        vertical-align: top;\n    }\n\n    .dataframe thead th {\n        text-align: right;\n    }\n</style>\n<table border=\"1\" class=\"dataframe\">\n  <thead>\n    <tr style=\"text-align: right;\">\n      <th></th>\n      <th>water_level</th>\n      <th>outflow_level</th>\n      <th>current_tot</th>\n    </tr>\n    <tr>\n      <th>time</th>\n      <th></th>\n      <th></th>\n      <th></th>\n    </tr>\n  </thead>\n  <tbody>\n    <tr>\n      <th>2021-01-07 00:00:00.000</th>\n      <td>1.05</td>\n      <td>0.0</td>\n      <td>0.0</td>\n    </tr>\n    <tr>\n      <th>2021-01-07 00:01:26.166</th>\n      <td>1.07</td>\n      <td>0.0</td>\n      <td>0.0</td>\n    </tr>\n    <tr>\n      <th>2021-01-07 00:04:18.640</th>\n      <td>1.09</td>\n      <td>0.0</td>\n      <td>0.0</td>\n    </tr>\n    <tr>\n      <th>2021-01-07 00:07:34.170</th>\n      <td>1.11</td>\n      <td>0.0</td>\n      <td>0.0</td>\n    </tr>\n    <tr>\n      <th>2021-01-07 00:11:12.242</th>\n      <td>1.13</td>\n      <td>0.0</td>\n      <td>0.0</td>\n    </tr>\n    <tr>\n      <th>...</th>\n      <td>...</td>\n      <td>...</td>\n      <td>...</td>\n    </tr>\n    <tr>\n      <th>2021-07-31 23:57:16.738</th>\n      <td>0.26</td>\n      <td>0.0</td>\n      <td>0.0</td>\n    </tr>\n    <tr>\n      <th>2021-07-31 23:57:39.732</th>\n      <td>0.27</td>\n      <td>0.0</td>\n      <td>0.0</td>\n    </tr>\n    <tr>\n      <th>2021-07-31 23:58:37.031</th>\n      <td>0.28</td>\n      <td>0.0</td>\n      <td>0.0</td>\n    </tr>\n    <tr>\n      <th>2021-07-31 23:59:00.056</th>\n      <td>0.29</td>\n      <td>0.0</td>\n      <td>0.0</td>\n    </tr>\n    <tr>\n      <th>2021-07-31 23:59:23.098</th>\n      <td>0.30</td>\n      <td>0.0</td>\n      <td>0.0</td>\n    </tr>\n  </tbody>\n</table>\n<p>102121 rows × 3 columns</p>\n</div>"
     },
     "execution_count": 170,
     "metadata": {},
     "output_type": "execute_result"
    }
   ],
   "source": [
    "df_subset = df[0:]\n",
    "df_subset = df_subset.set_index(df_subset.time)\n",
    "df_subset.drop(columns=['time','currents'], inplace=True)\n",
    "df_subset"
   ],
   "metadata": {
    "collapsed": false,
    "pycharm": {
     "name": "#%%\n"
    }
   }
  },
  {
   "cell_type": "code",
   "execution_count": 171,
   "outputs": [],
   "source": [
    "def resample_time_weighted_mean(x, target_index, closed=None, label=None):\n",
    "    shift = 1 if closed == \"right\" else -1\n",
    "    fill = \"bfill\" if closed == \"right\" else \"ffill\"\n",
    "    # Determine length of each interval (daylight saving aware)\n",
    "    extended_index = target_index.union(\n",
    "        [target_index[0] - target_index.freq, target_index[-1] + target_index.freq]\n",
    "    )\n",
    "    interval_lengths = -extended_index.to_series().diff(periods=shift)\n",
    "\n",
    "    # Create a combined index of the source index and target index and reindex to combined index\n",
    "    combined_index = x.index.union(extended_index)\n",
    "    x = x.reindex(index=combined_index, method=fill)\n",
    "    interval_lengths = interval_lengths.reindex(index=combined_index, method=fill)\n",
    "\n",
    "    # Determine weights of each value and multiply source values\n",
    "    weights = -x.index.to_series().diff(periods=shift) / interval_lengths\n",
    "    x = x.mul(weights, axis=0)\n",
    "\n",
    "    # Resample to new index, the final reindex is necessary because resample\n",
    "    # might return more rows based on the frequency\n",
    "    return (\n",
    "        x.resample(target_index.freq, closed=closed, label=label)\n",
    "        .sum()\n",
    "        .reindex(target_index)\n",
    "    )"
   ],
   "metadata": {
    "collapsed": false,
    "pycharm": {
     "name": "#%%\n"
    }
   }
  },
  {
   "cell_type": "code",
   "execution_count": 172,
   "outputs": [
    {
     "ename": "ValueError",
     "evalue": "index must be monotonic increasing or decreasing",
     "output_type": "error",
     "traceback": [
      "\u001B[0;31m---------------------------------------------------------------------------\u001B[0m",
      "\u001B[0;31mValueError\u001B[0m                                Traceback (most recent call last)",
      "Input \u001B[0;32mIn [172]\u001B[0m, in \u001B[0;36m<module>\u001B[0;34m\u001B[0m\n\u001B[1;32m      1\u001B[0m opts \u001B[38;5;241m=\u001B[39m \u001B[38;5;28mdict\u001B[39m(closed\u001B[38;5;241m=\u001B[39m\u001B[38;5;124m\"\u001B[39m\u001B[38;5;124mleft\u001B[39m\u001B[38;5;124m\"\u001B[39m, label\u001B[38;5;241m=\u001B[39m\u001B[38;5;124m\"\u001B[39m\u001B[38;5;124mleft\u001B[39m\u001B[38;5;124m\"\u001B[39m)\n\u001B[0;32m----> 3\u001B[0m \u001B[43mresample_time_weighted_mean\u001B[49m\u001B[43m(\u001B[49m\n\u001B[1;32m      4\u001B[0m \u001B[43m    \u001B[49m\u001B[43mdf_subset\u001B[49m\u001B[43m,\u001B[49m\u001B[43m \u001B[49m\u001B[43mpd\u001B[49m\u001B[38;5;241;43m.\u001B[39;49m\u001B[43mDatetimeIndex\u001B[49m\u001B[43m(\u001B[49m\u001B[43mdf_subset\u001B[49m\u001B[38;5;241;43m.\u001B[39;49m\u001B[43mresample\u001B[49m\u001B[43m(\u001B[49m\u001B[38;5;124;43m\"\u001B[39;49m\u001B[38;5;124;43m10S\u001B[39;49m\u001B[38;5;124;43m\"\u001B[39;49m\u001B[43m,\u001B[49m\u001B[43m \u001B[49m\u001B[38;5;241;43m*\u001B[39;49m\u001B[38;5;241;43m*\u001B[39;49m\u001B[43mopts\u001B[49m\u001B[43m)\u001B[49m\u001B[38;5;241;43m.\u001B[39;49m\u001B[43mgroups\u001B[49m\u001B[38;5;241;43m.\u001B[39;49m\u001B[43mkeys\u001B[49m\u001B[43m(\u001B[49m\u001B[43m)\u001B[49m\u001B[43m,\u001B[49m\u001B[43m \u001B[49m\u001B[43mfreq\u001B[49m\u001B[38;5;241;43m=\u001B[39;49m\u001B[38;5;124;43m\"\u001B[39;49m\u001B[38;5;124;43minfer\u001B[39;49m\u001B[38;5;124;43m\"\u001B[39;49m\u001B[43m)\u001B[49m\u001B[43m,\u001B[49m\u001B[43m \u001B[49m\u001B[38;5;241;43m*\u001B[39;49m\u001B[38;5;241;43m*\u001B[39;49m\u001B[43mopts\u001B[49m\n\u001B[1;32m      5\u001B[0m \u001B[43m)\u001B[49m\n",
      "Input \u001B[0;32mIn [171]\u001B[0m, in \u001B[0;36mresample_time_weighted_mean\u001B[0;34m(x, target_index, closed, label)\u001B[0m\n\u001B[1;32m     10\u001B[0m \u001B[38;5;66;03m# Create a combined index of the source index and target index and reindex to combined index\u001B[39;00m\n\u001B[1;32m     11\u001B[0m combined_index \u001B[38;5;241m=\u001B[39m x\u001B[38;5;241m.\u001B[39mindex\u001B[38;5;241m.\u001B[39munion(extended_index)\n\u001B[0;32m---> 12\u001B[0m x \u001B[38;5;241m=\u001B[39m \u001B[43mx\u001B[49m\u001B[38;5;241;43m.\u001B[39;49m\u001B[43mreindex\u001B[49m\u001B[43m(\u001B[49m\u001B[43mindex\u001B[49m\u001B[38;5;241;43m=\u001B[39;49m\u001B[43mcombined_index\u001B[49m\u001B[43m,\u001B[49m\u001B[43m \u001B[49m\u001B[43mmethod\u001B[49m\u001B[38;5;241;43m=\u001B[39;49m\u001B[43mfill\u001B[49m\u001B[43m)\u001B[49m\n\u001B[1;32m     13\u001B[0m interval_lengths \u001B[38;5;241m=\u001B[39m interval_lengths\u001B[38;5;241m.\u001B[39mreindex(index\u001B[38;5;241m=\u001B[39mcombined_index, method\u001B[38;5;241m=\u001B[39mfill)\n\u001B[1;32m     15\u001B[0m \u001B[38;5;66;03m# Determine weights of each value and multiply source values\u001B[39;00m\n",
      "File \u001B[0;32m~/miniforge3/envs/MLOPS/lib/python3.9/site-packages/pandas/util/_decorators.py:324\u001B[0m, in \u001B[0;36mrewrite_axis_style_signature.<locals>.decorate.<locals>.wrapper\u001B[0;34m(*args, **kwargs)\u001B[0m\n\u001B[1;32m    322\u001B[0m \u001B[38;5;129m@wraps\u001B[39m(func)\n\u001B[1;32m    323\u001B[0m \u001B[38;5;28;01mdef\u001B[39;00m \u001B[38;5;21mwrapper\u001B[39m(\u001B[38;5;241m*\u001B[39margs, \u001B[38;5;241m*\u001B[39m\u001B[38;5;241m*\u001B[39mkwargs) \u001B[38;5;241m-\u001B[39m\u001B[38;5;241m>\u001B[39m Callable[\u001B[38;5;241m.\u001B[39m\u001B[38;5;241m.\u001B[39m\u001B[38;5;241m.\u001B[39m, Any]:\n\u001B[0;32m--> 324\u001B[0m     \u001B[38;5;28;01mreturn\u001B[39;00m \u001B[43mfunc\u001B[49m\u001B[43m(\u001B[49m\u001B[38;5;241;43m*\u001B[39;49m\u001B[43margs\u001B[49m\u001B[43m,\u001B[49m\u001B[43m \u001B[49m\u001B[38;5;241;43m*\u001B[39;49m\u001B[38;5;241;43m*\u001B[39;49m\u001B[43mkwargs\u001B[49m\u001B[43m)\u001B[49m\n",
      "File \u001B[0;32m~/miniforge3/envs/MLOPS/lib/python3.9/site-packages/pandas/core/frame.py:4772\u001B[0m, in \u001B[0;36mDataFrame.reindex\u001B[0;34m(self, *args, **kwargs)\u001B[0m\n\u001B[1;32m   4770\u001B[0m kwargs\u001B[38;5;241m.\u001B[39mpop(\u001B[38;5;124m\"\u001B[39m\u001B[38;5;124maxis\u001B[39m\u001B[38;5;124m\"\u001B[39m, \u001B[38;5;28;01mNone\u001B[39;00m)\n\u001B[1;32m   4771\u001B[0m kwargs\u001B[38;5;241m.\u001B[39mpop(\u001B[38;5;124m\"\u001B[39m\u001B[38;5;124mlabels\u001B[39m\u001B[38;5;124m\"\u001B[39m, \u001B[38;5;28;01mNone\u001B[39;00m)\n\u001B[0;32m-> 4772\u001B[0m \u001B[38;5;28;01mreturn\u001B[39;00m \u001B[38;5;28;43msuper\u001B[39;49m\u001B[43m(\u001B[49m\u001B[43m)\u001B[49m\u001B[38;5;241;43m.\u001B[39;49m\u001B[43mreindex\u001B[49m\u001B[43m(\u001B[49m\u001B[38;5;241;43m*\u001B[39;49m\u001B[38;5;241;43m*\u001B[39;49m\u001B[43mkwargs\u001B[49m\u001B[43m)\u001B[49m\n",
      "File \u001B[0;32m~/miniforge3/envs/MLOPS/lib/python3.9/site-packages/pandas/core/generic.py:4818\u001B[0m, in \u001B[0;36mNDFrame.reindex\u001B[0;34m(self, *args, **kwargs)\u001B[0m\n\u001B[1;32m   4815\u001B[0m     \u001B[38;5;28;01mreturn\u001B[39;00m \u001B[38;5;28mself\u001B[39m\u001B[38;5;241m.\u001B[39m_reindex_multi(axes, copy, fill_value)\n\u001B[1;32m   4817\u001B[0m \u001B[38;5;66;03m# perform the reindex on the axes\u001B[39;00m\n\u001B[0;32m-> 4818\u001B[0m \u001B[38;5;28;01mreturn\u001B[39;00m \u001B[38;5;28;43mself\u001B[39;49m\u001B[38;5;241;43m.\u001B[39;49m\u001B[43m_reindex_axes\u001B[49m\u001B[43m(\u001B[49m\n\u001B[1;32m   4819\u001B[0m \u001B[43m    \u001B[49m\u001B[43maxes\u001B[49m\u001B[43m,\u001B[49m\u001B[43m \u001B[49m\u001B[43mlevel\u001B[49m\u001B[43m,\u001B[49m\u001B[43m \u001B[49m\u001B[43mlimit\u001B[49m\u001B[43m,\u001B[49m\u001B[43m \u001B[49m\u001B[43mtolerance\u001B[49m\u001B[43m,\u001B[49m\u001B[43m \u001B[49m\u001B[43mmethod\u001B[49m\u001B[43m,\u001B[49m\u001B[43m \u001B[49m\u001B[43mfill_value\u001B[49m\u001B[43m,\u001B[49m\u001B[43m \u001B[49m\u001B[43mcopy\u001B[49m\n\u001B[1;32m   4820\u001B[0m \u001B[43m\u001B[49m\u001B[43m)\u001B[49m\u001B[38;5;241m.\u001B[39m__finalize__(\u001B[38;5;28mself\u001B[39m, method\u001B[38;5;241m=\u001B[39m\u001B[38;5;124m\"\u001B[39m\u001B[38;5;124mreindex\u001B[39m\u001B[38;5;124m\"\u001B[39m)\n",
      "File \u001B[0;32m~/miniforge3/envs/MLOPS/lib/python3.9/site-packages/pandas/core/frame.py:4597\u001B[0m, in \u001B[0;36mDataFrame._reindex_axes\u001B[0;34m(self, axes, level, limit, tolerance, method, fill_value, copy)\u001B[0m\n\u001B[1;32m   4595\u001B[0m index \u001B[38;5;241m=\u001B[39m axes[\u001B[38;5;124m\"\u001B[39m\u001B[38;5;124mindex\u001B[39m\u001B[38;5;124m\"\u001B[39m]\n\u001B[1;32m   4596\u001B[0m \u001B[38;5;28;01mif\u001B[39;00m index \u001B[38;5;129;01mis\u001B[39;00m \u001B[38;5;129;01mnot\u001B[39;00m \u001B[38;5;28;01mNone\u001B[39;00m:\n\u001B[0;32m-> 4597\u001B[0m     frame \u001B[38;5;241m=\u001B[39m \u001B[43mframe\u001B[49m\u001B[38;5;241;43m.\u001B[39;49m\u001B[43m_reindex_index\u001B[49m\u001B[43m(\u001B[49m\n\u001B[1;32m   4598\u001B[0m \u001B[43m        \u001B[49m\u001B[43mindex\u001B[49m\u001B[43m,\u001B[49m\u001B[43m \u001B[49m\u001B[43mmethod\u001B[49m\u001B[43m,\u001B[49m\u001B[43m \u001B[49m\u001B[43mcopy\u001B[49m\u001B[43m,\u001B[49m\u001B[43m \u001B[49m\u001B[43mlevel\u001B[49m\u001B[43m,\u001B[49m\u001B[43m \u001B[49m\u001B[43mfill_value\u001B[49m\u001B[43m,\u001B[49m\u001B[43m \u001B[49m\u001B[43mlimit\u001B[49m\u001B[43m,\u001B[49m\u001B[43m \u001B[49m\u001B[43mtolerance\u001B[49m\n\u001B[1;32m   4599\u001B[0m \u001B[43m    \u001B[49m\u001B[43m)\u001B[49m\n\u001B[1;32m   4601\u001B[0m \u001B[38;5;28;01mreturn\u001B[39;00m frame\n",
      "File \u001B[0;32m~/miniforge3/envs/MLOPS/lib/python3.9/site-packages/pandas/core/frame.py:4613\u001B[0m, in \u001B[0;36mDataFrame._reindex_index\u001B[0;34m(self, new_index, method, copy, level, fill_value, limit, tolerance)\u001B[0m\n\u001B[1;32m   4603\u001B[0m \u001B[38;5;28;01mdef\u001B[39;00m \u001B[38;5;21m_reindex_index\u001B[39m(\n\u001B[1;32m   4604\u001B[0m     \u001B[38;5;28mself\u001B[39m,\n\u001B[1;32m   4605\u001B[0m     new_index,\n\u001B[0;32m   (...)\u001B[0m\n\u001B[1;32m   4611\u001B[0m     tolerance\u001B[38;5;241m=\u001B[39m\u001B[38;5;28;01mNone\u001B[39;00m,\n\u001B[1;32m   4612\u001B[0m ):\n\u001B[0;32m-> 4613\u001B[0m     new_index, indexer \u001B[38;5;241m=\u001B[39m \u001B[38;5;28;43mself\u001B[39;49m\u001B[38;5;241;43m.\u001B[39;49m\u001B[43mindex\u001B[49m\u001B[38;5;241;43m.\u001B[39;49m\u001B[43mreindex\u001B[49m\u001B[43m(\u001B[49m\n\u001B[1;32m   4614\u001B[0m \u001B[43m        \u001B[49m\u001B[43mnew_index\u001B[49m\u001B[43m,\u001B[49m\u001B[43m \u001B[49m\u001B[43mmethod\u001B[49m\u001B[38;5;241;43m=\u001B[39;49m\u001B[43mmethod\u001B[49m\u001B[43m,\u001B[49m\u001B[43m \u001B[49m\u001B[43mlevel\u001B[49m\u001B[38;5;241;43m=\u001B[39;49m\u001B[43mlevel\u001B[49m\u001B[43m,\u001B[49m\u001B[43m \u001B[49m\u001B[43mlimit\u001B[49m\u001B[38;5;241;43m=\u001B[39;49m\u001B[43mlimit\u001B[49m\u001B[43m,\u001B[49m\u001B[43m \u001B[49m\u001B[43mtolerance\u001B[49m\u001B[38;5;241;43m=\u001B[39;49m\u001B[43mtolerance\u001B[49m\n\u001B[1;32m   4615\u001B[0m \u001B[43m    \u001B[49m\u001B[43m)\u001B[49m\n\u001B[1;32m   4616\u001B[0m     \u001B[38;5;28;01mreturn\u001B[39;00m \u001B[38;5;28mself\u001B[39m\u001B[38;5;241m.\u001B[39m_reindex_with_indexers(\n\u001B[1;32m   4617\u001B[0m         {\u001B[38;5;241m0\u001B[39m: [new_index, indexer]},\n\u001B[1;32m   4618\u001B[0m         copy\u001B[38;5;241m=\u001B[39mcopy,\n\u001B[1;32m   4619\u001B[0m         fill_value\u001B[38;5;241m=\u001B[39mfill_value,\n\u001B[1;32m   4620\u001B[0m         allow_dups\u001B[38;5;241m=\u001B[39m\u001B[38;5;28;01mFalse\u001B[39;00m,\n\u001B[1;32m   4621\u001B[0m     )\n",
      "File \u001B[0;32m~/miniforge3/envs/MLOPS/lib/python3.9/site-packages/pandas/core/indexes/base.py:3825\u001B[0m, in \u001B[0;36mIndex.reindex\u001B[0;34m(self, target, method, level, limit, tolerance)\u001B[0m\n\u001B[1;32m   3823\u001B[0m \u001B[38;5;28;01melse\u001B[39;00m:\n\u001B[1;32m   3824\u001B[0m     \u001B[38;5;28;01mif\u001B[39;00m \u001B[38;5;28mself\u001B[39m\u001B[38;5;241m.\u001B[39m_index_as_unique:\n\u001B[0;32m-> 3825\u001B[0m         indexer \u001B[38;5;241m=\u001B[39m \u001B[38;5;28;43mself\u001B[39;49m\u001B[38;5;241;43m.\u001B[39;49m\u001B[43mget_indexer\u001B[49m\u001B[43m(\u001B[49m\n\u001B[1;32m   3826\u001B[0m \u001B[43m            \u001B[49m\u001B[43mtarget\u001B[49m\u001B[43m,\u001B[49m\u001B[43m \u001B[49m\u001B[43mmethod\u001B[49m\u001B[38;5;241;43m=\u001B[39;49m\u001B[43mmethod\u001B[49m\u001B[43m,\u001B[49m\u001B[43m \u001B[49m\u001B[43mlimit\u001B[49m\u001B[38;5;241;43m=\u001B[39;49m\u001B[43mlimit\u001B[49m\u001B[43m,\u001B[49m\u001B[43m \u001B[49m\u001B[43mtolerance\u001B[49m\u001B[38;5;241;43m=\u001B[39;49m\u001B[43mtolerance\u001B[49m\n\u001B[1;32m   3827\u001B[0m \u001B[43m        \u001B[49m\u001B[43m)\u001B[49m\n\u001B[1;32m   3828\u001B[0m     \u001B[38;5;28;01melse\u001B[39;00m:\n\u001B[1;32m   3829\u001B[0m         \u001B[38;5;28;01mif\u001B[39;00m method \u001B[38;5;129;01mis\u001B[39;00m \u001B[38;5;129;01mnot\u001B[39;00m \u001B[38;5;28;01mNone\u001B[39;00m \u001B[38;5;129;01mor\u001B[39;00m limit \u001B[38;5;129;01mis\u001B[39;00m \u001B[38;5;129;01mnot\u001B[39;00m \u001B[38;5;28;01mNone\u001B[39;00m:\n",
      "File \u001B[0;32m~/miniforge3/envs/MLOPS/lib/python3.9/site-packages/pandas/core/indexes/base.py:3486\u001B[0m, in \u001B[0;36mIndex.get_indexer\u001B[0;34m(self, target, method, limit, tolerance)\u001B[0m\n\u001B[1;32m   3481\u001B[0m \u001B[38;5;28;01mif\u001B[39;00m pself \u001B[38;5;129;01mis\u001B[39;00m \u001B[38;5;129;01mnot\u001B[39;00m \u001B[38;5;28mself\u001B[39m \u001B[38;5;129;01mor\u001B[39;00m ptarget \u001B[38;5;129;01mis\u001B[39;00m \u001B[38;5;129;01mnot\u001B[39;00m target:\n\u001B[1;32m   3482\u001B[0m     \u001B[38;5;28;01mreturn\u001B[39;00m pself\u001B[38;5;241m.\u001B[39mget_indexer(\n\u001B[1;32m   3483\u001B[0m         ptarget, method\u001B[38;5;241m=\u001B[39mmethod, limit\u001B[38;5;241m=\u001B[39mlimit, tolerance\u001B[38;5;241m=\u001B[39mtolerance\n\u001B[1;32m   3484\u001B[0m     )\n\u001B[0;32m-> 3486\u001B[0m \u001B[38;5;28;01mreturn\u001B[39;00m \u001B[38;5;28;43mself\u001B[39;49m\u001B[38;5;241;43m.\u001B[39;49m\u001B[43m_get_indexer\u001B[49m\u001B[43m(\u001B[49m\u001B[43mtarget\u001B[49m\u001B[43m,\u001B[49m\u001B[43m \u001B[49m\u001B[43mmethod\u001B[49m\u001B[43m,\u001B[49m\u001B[43m \u001B[49m\u001B[43mlimit\u001B[49m\u001B[43m,\u001B[49m\u001B[43m \u001B[49m\u001B[43mtolerance\u001B[49m\u001B[43m)\u001B[49m\n",
      "File \u001B[0;32m~/miniforge3/envs/MLOPS/lib/python3.9/site-packages/pandas/core/indexes/base.py:3508\u001B[0m, in \u001B[0;36mIndex._get_indexer\u001B[0;34m(self, target, method, limit, tolerance)\u001B[0m\n\u001B[1;32m   3503\u001B[0m     \u001B[38;5;28;01mreturn\u001B[39;00m this\u001B[38;5;241m.\u001B[39mget_indexer(\n\u001B[1;32m   3504\u001B[0m         target, method\u001B[38;5;241m=\u001B[39mmethod, limit\u001B[38;5;241m=\u001B[39mlimit, tolerance\u001B[38;5;241m=\u001B[39mtolerance\n\u001B[1;32m   3505\u001B[0m     )\n\u001B[1;32m   3507\u001B[0m \u001B[38;5;28;01mif\u001B[39;00m method \u001B[38;5;129;01min\u001B[39;00m [\u001B[38;5;124m\"\u001B[39m\u001B[38;5;124mpad\u001B[39m\u001B[38;5;124m\"\u001B[39m, \u001B[38;5;124m\"\u001B[39m\u001B[38;5;124mbackfill\u001B[39m\u001B[38;5;124m\"\u001B[39m]:\n\u001B[0;32m-> 3508\u001B[0m     indexer \u001B[38;5;241m=\u001B[39m \u001B[38;5;28;43mself\u001B[39;49m\u001B[38;5;241;43m.\u001B[39;49m\u001B[43m_get_fill_indexer\u001B[49m\u001B[43m(\u001B[49m\u001B[43mtarget\u001B[49m\u001B[43m,\u001B[49m\u001B[43m \u001B[49m\u001B[43mmethod\u001B[49m\u001B[43m,\u001B[49m\u001B[43m \u001B[49m\u001B[43mlimit\u001B[49m\u001B[43m,\u001B[49m\u001B[43m \u001B[49m\u001B[43mtolerance\u001B[49m\u001B[43m)\u001B[49m\n\u001B[1;32m   3509\u001B[0m \u001B[38;5;28;01melif\u001B[39;00m method \u001B[38;5;241m==\u001B[39m \u001B[38;5;124m\"\u001B[39m\u001B[38;5;124mnearest\u001B[39m\u001B[38;5;124m\"\u001B[39m:\n\u001B[1;32m   3510\u001B[0m     indexer \u001B[38;5;241m=\u001B[39m \u001B[38;5;28mself\u001B[39m\u001B[38;5;241m.\u001B[39m_get_nearest_indexer(target, limit, tolerance)\n",
      "File \u001B[0;32m~/miniforge3/envs/MLOPS/lib/python3.9/site-packages/pandas/core/indexes/base.py:3584\u001B[0m, in \u001B[0;36mIndex._get_fill_indexer\u001B[0;34m(self, target, method, limit, tolerance)\u001B[0m\n\u001B[1;32m   3582\u001B[0m     indexer \u001B[38;5;241m=\u001B[39m engine_method(target_values, limit)\n\u001B[1;32m   3583\u001B[0m \u001B[38;5;28;01melse\u001B[39;00m:\n\u001B[0;32m-> 3584\u001B[0m     indexer \u001B[38;5;241m=\u001B[39m \u001B[38;5;28;43mself\u001B[39;49m\u001B[38;5;241;43m.\u001B[39;49m\u001B[43m_get_fill_indexer_searchsorted\u001B[49m\u001B[43m(\u001B[49m\u001B[43mtarget\u001B[49m\u001B[43m,\u001B[49m\u001B[43m \u001B[49m\u001B[43mmethod\u001B[49m\u001B[43m,\u001B[49m\u001B[43m \u001B[49m\u001B[43mlimit\u001B[49m\u001B[43m)\u001B[49m\n\u001B[1;32m   3585\u001B[0m \u001B[38;5;28;01mif\u001B[39;00m tolerance \u001B[38;5;129;01mis\u001B[39;00m \u001B[38;5;129;01mnot\u001B[39;00m \u001B[38;5;28;01mNone\u001B[39;00m \u001B[38;5;129;01mand\u001B[39;00m \u001B[38;5;28mlen\u001B[39m(\u001B[38;5;28mself\u001B[39m):\n\u001B[1;32m   3586\u001B[0m     indexer \u001B[38;5;241m=\u001B[39m \u001B[38;5;28mself\u001B[39m\u001B[38;5;241m.\u001B[39m_filter_indexer_tolerance(target_values, indexer, tolerance)\n",
      "File \u001B[0;32m~/miniforge3/envs/MLOPS/lib/python3.9/site-packages/pandas/core/indexes/base.py:3608\u001B[0m, in \u001B[0;36mIndex._get_fill_indexer_searchsorted\u001B[0;34m(self, target, method, limit)\u001B[0m\n\u001B[1;32m   3606\u001B[0m indexer \u001B[38;5;241m=\u001B[39m \u001B[38;5;28mself\u001B[39m\u001B[38;5;241m.\u001B[39mget_indexer(target)\n\u001B[1;32m   3607\u001B[0m nonexact \u001B[38;5;241m=\u001B[39m indexer \u001B[38;5;241m==\u001B[39m \u001B[38;5;241m-\u001B[39m\u001B[38;5;241m1\u001B[39m\n\u001B[0;32m-> 3608\u001B[0m indexer[nonexact] \u001B[38;5;241m=\u001B[39m \u001B[38;5;28;43mself\u001B[39;49m\u001B[38;5;241;43m.\u001B[39;49m\u001B[43m_searchsorted_monotonic\u001B[49m\u001B[43m(\u001B[49m\u001B[43mtarget\u001B[49m\u001B[43m[\u001B[49m\u001B[43mnonexact\u001B[49m\u001B[43m]\u001B[49m\u001B[43m,\u001B[49m\u001B[43m \u001B[49m\u001B[43mside\u001B[49m\u001B[43m)\u001B[49m\n\u001B[1;32m   3609\u001B[0m \u001B[38;5;28;01mif\u001B[39;00m side \u001B[38;5;241m==\u001B[39m \u001B[38;5;124m\"\u001B[39m\u001B[38;5;124mleft\u001B[39m\u001B[38;5;124m\"\u001B[39m:\n\u001B[1;32m   3610\u001B[0m     \u001B[38;5;66;03m# searchsorted returns \"indices into a sorted array such that,\u001B[39;00m\n\u001B[1;32m   3611\u001B[0m     \u001B[38;5;66;03m# if the corresponding elements in v were inserted before the\u001B[39;00m\n\u001B[1;32m   3612\u001B[0m     \u001B[38;5;66;03m# indices, the order of a would be preserved\".\u001B[39;00m\n\u001B[1;32m   3613\u001B[0m     \u001B[38;5;66;03m# Thus, we need to subtract 1 to find values to the left.\u001B[39;00m\n\u001B[1;32m   3614\u001B[0m     indexer[nonexact] \u001B[38;5;241m-\u001B[39m\u001B[38;5;241m=\u001B[39m \u001B[38;5;241m1\u001B[39m\n",
      "File \u001B[0;32m~/miniforge3/envs/MLOPS/lib/python3.9/site-packages/pandas/core/indexes/base.py:5765\u001B[0m, in \u001B[0;36mIndex._searchsorted_monotonic\u001B[0;34m(self, label, side)\u001B[0m\n\u001B[1;32m   5760\u001B[0m     pos \u001B[38;5;241m=\u001B[39m \u001B[38;5;28mself\u001B[39m[::\u001B[38;5;241m-\u001B[39m\u001B[38;5;241m1\u001B[39m]\u001B[38;5;241m.\u001B[39msearchsorted(\n\u001B[1;32m   5761\u001B[0m         label, side\u001B[38;5;241m=\u001B[39m\u001B[38;5;124m\"\u001B[39m\u001B[38;5;124mright\u001B[39m\u001B[38;5;124m\"\u001B[39m \u001B[38;5;28;01mif\u001B[39;00m side \u001B[38;5;241m==\u001B[39m \u001B[38;5;124m\"\u001B[39m\u001B[38;5;124mleft\u001B[39m\u001B[38;5;124m\"\u001B[39m \u001B[38;5;28;01melse\u001B[39;00m \u001B[38;5;124m\"\u001B[39m\u001B[38;5;124mleft\u001B[39m\u001B[38;5;124m\"\u001B[39m\n\u001B[1;32m   5762\u001B[0m     )\n\u001B[1;32m   5763\u001B[0m     \u001B[38;5;28;01mreturn\u001B[39;00m \u001B[38;5;28mlen\u001B[39m(\u001B[38;5;28mself\u001B[39m) \u001B[38;5;241m-\u001B[39m pos\n\u001B[0;32m-> 5765\u001B[0m \u001B[38;5;28;01mraise\u001B[39;00m \u001B[38;5;167;01mValueError\u001B[39;00m(\u001B[38;5;124m\"\u001B[39m\u001B[38;5;124mindex must be monotonic increasing or decreasing\u001B[39m\u001B[38;5;124m\"\u001B[39m)\n",
      "\u001B[0;31mValueError\u001B[0m: index must be monotonic increasing or decreasing"
     ]
    }
   ],
   "source": [
    "\n",
    "\n",
    "opts = dict(closed=\"left\", label=\"left\")\n",
    "\n",
    "resample_time_weighted_mean(\n",
    "    df_subset, pd.DatetimeIndex(df_subset.resample(\"10S\", **opts).groups.keys(), freq=\"infer\"), **opts\n",
    ")"
   ],
   "metadata": {
    "collapsed": false,
    "pycharm": {
     "name": "#%%\n"
    }
   }
  },
  {
   "cell_type": "code",
   "execution_count": 166,
   "outputs": [],
   "source": [],
   "metadata": {
    "collapsed": false,
    "pycharm": {
     "name": "#%%\n"
    }
   }
  }
 ],
 "metadata": {
  "kernelspec": {
   "display_name": "Python 3",
   "language": "python",
   "name": "python3"
  },
  "language_info": {
   "codemirror_mode": {
    "name": "ipython",
    "version": 2
   },
   "file_extension": ".py",
   "mimetype": "text/x-python",
   "name": "python",
   "nbconvert_exporter": "python",
   "pygments_lexer": "ipython2",
   "version": "2.7.6"
  }
 },
 "nbformat": 4,
 "nbformat_minor": 0
}