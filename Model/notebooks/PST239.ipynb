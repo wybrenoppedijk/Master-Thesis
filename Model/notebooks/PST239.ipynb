{
 "cells": [
  {
   "cell_type": "code",
   "execution_count": 12,
   "metadata": {
    "collapsed": true
   },
   "outputs": [],
   "source": [
    "import pandas as pd\n",
    "import os\n",
    "from glob import glob"
   ]
  },
  {
   "cell_type": "code",
   "execution_count": 21,
   "outputs": [
    {
     "data": {
      "text/plain": "(['data/HistoricData/PST239_Oktober/PST239_Oktober.CSV',\n  'data/HistoricData/PST239_Juli/PST239_Juli.CSV',\n  'data/HistoricData/PST239_August/PST239_August.CSV',\n  'data/HistoricData/PST239_December/PST239_December.CSV',\n  'data/HistoricData/PST239_Maj/PST239_Maj.CSV',\n  'data/HistoricData/PST239_November/PST239_November.CSV',\n  'data/HistoricData/PST239_Juni/PST239_Juni.CSV',\n  'data/HistoricData/PST239_Februar/PST239_Februar.CSV',\n  'data/HistoricData/PST239_Februar/PST239_Februar_Graphs.CSV',\n  'data/HistoricData/PST239_April/PST239_April.CSV'],\n 10)"
     },
     "execution_count": 21,
     "metadata": {},
     "output_type": "execute_result"
    }
   ],
   "source": [
    "all_files = [file for path, subdir, files in os.walk('data/HistoricData') for file in glob(os.path.join(path, '*.CSV'))]\n",
    "all_files_239 = []\n",
    "for filename in all_files:\n",
    "    if '239' in filename:\n",
    "        all_files_239.append(filename)\n",
    "all_files_239, len(all_files_239)"
   ],
   "metadata": {
    "collapsed": false,
    "pycharm": {
     "name": "#%%\n"
    }
   }
  },
  {
   "cell_type": "code",
   "execution_count": 22,
   "outputs": [
    {
     "name": "stdout",
     "output_type": "stream",
     "text": [
      "reading data/HistoricData/PST239_Oktober/PST239_Oktober.CSV\n"
     ]
    }
   ],
   "source": [
    "p = all_files_239[0]\n",
    "print(f'reading {p}')\n",
    "df = pd.read_csv(p, encoding='cp1252', sep=';', decimal=',').reset_index().iloc[:,1:]"
   ],
   "metadata": {
    "collapsed": false,
    "pycharm": {
     "name": "#%%\n"
    }
   }
  },
  {
   "cell_type": "code",
   "execution_count": 23,
   "outputs": [
    {
     "data": {
      "text/plain": "                          time  current_1  current_2  water_level  \\\n0      2020-01-10 00:00:00.000      0.460        0.0         0.04   \n1      2020-01-10 00:00:01.561      0.461        0.0         0.04   \n2      2020-01-10 00:00:05.929      0.460        0.0         0.04   \n3      2020-01-10 00:00:10.266      0.460        0.0         0.04   \n4      2020-01-10 00:00:14.665      0.460        0.0         0.04   \n...                        ...        ...        ...          ...   \n614462 2020-10-31 23:59:37.529      0.661        0.0         0.04   \n614463 2020-10-31 23:59:41.866      0.662        0.0         0.04   \n614464 2020-10-31 23:59:46.967      0.658        0.0         0.04   \n614465 2020-10-31 23:59:51.974      0.661        0.0         0.04   \n614466 2020-10-31 23:59:56.327      0.663        0.0         0.04   \n\n        outflow_level  \n0                 0.0  \n1                 0.0  \n2                 0.0  \n3                 0.0  \n4                 0.0  \n...               ...  \n614462            0.0  \n614463            0.0  \n614464            0.0  \n614465            0.0  \n614466            0.0  \n\n[614467 rows x 5 columns]",
      "text/html": "<div>\n<style scoped>\n    .dataframe tbody tr th:only-of-type {\n        vertical-align: middle;\n    }\n\n    .dataframe tbody tr th {\n        vertical-align: top;\n    }\n\n    .dataframe thead th {\n        text-align: right;\n    }\n</style>\n<table border=\"1\" class=\"dataframe\">\n  <thead>\n    <tr style=\"text-align: right;\">\n      <th></th>\n      <th>time</th>\n      <th>current_1</th>\n      <th>current_2</th>\n      <th>water_level</th>\n      <th>outflow_level</th>\n    </tr>\n  </thead>\n  <tbody>\n    <tr>\n      <th>0</th>\n      <td>2020-01-10 00:00:00.000</td>\n      <td>0.460</td>\n      <td>0.0</td>\n      <td>0.04</td>\n      <td>0.0</td>\n    </tr>\n    <tr>\n      <th>1</th>\n      <td>2020-01-10 00:00:01.561</td>\n      <td>0.461</td>\n      <td>0.0</td>\n      <td>0.04</td>\n      <td>0.0</td>\n    </tr>\n    <tr>\n      <th>2</th>\n      <td>2020-01-10 00:00:05.929</td>\n      <td>0.460</td>\n      <td>0.0</td>\n      <td>0.04</td>\n      <td>0.0</td>\n    </tr>\n    <tr>\n      <th>3</th>\n      <td>2020-01-10 00:00:10.266</td>\n      <td>0.460</td>\n      <td>0.0</td>\n      <td>0.04</td>\n      <td>0.0</td>\n    </tr>\n    <tr>\n      <th>4</th>\n      <td>2020-01-10 00:00:14.665</td>\n      <td>0.460</td>\n      <td>0.0</td>\n      <td>0.04</td>\n      <td>0.0</td>\n    </tr>\n    <tr>\n      <th>...</th>\n      <td>...</td>\n      <td>...</td>\n      <td>...</td>\n      <td>...</td>\n      <td>...</td>\n    </tr>\n    <tr>\n      <th>614462</th>\n      <td>2020-10-31 23:59:37.529</td>\n      <td>0.661</td>\n      <td>0.0</td>\n      <td>0.04</td>\n      <td>0.0</td>\n    </tr>\n    <tr>\n      <th>614463</th>\n      <td>2020-10-31 23:59:41.866</td>\n      <td>0.662</td>\n      <td>0.0</td>\n      <td>0.04</td>\n      <td>0.0</td>\n    </tr>\n    <tr>\n      <th>614464</th>\n      <td>2020-10-31 23:59:46.967</td>\n      <td>0.658</td>\n      <td>0.0</td>\n      <td>0.04</td>\n      <td>0.0</td>\n    </tr>\n    <tr>\n      <th>614465</th>\n      <td>2020-10-31 23:59:51.974</td>\n      <td>0.661</td>\n      <td>0.0</td>\n      <td>0.04</td>\n      <td>0.0</td>\n    </tr>\n    <tr>\n      <th>614466</th>\n      <td>2020-10-31 23:59:56.327</td>\n      <td>0.663</td>\n      <td>0.0</td>\n      <td>0.04</td>\n      <td>0.0</td>\n    </tr>\n  </tbody>\n</table>\n<p>614467 rows × 5 columns</p>\n</div>"
     },
     "execution_count": 23,
     "metadata": {},
     "output_type": "execute_result"
    }
   ],
   "source": [
    "df.columns = ['time', 'current_1', 'current_2', 'water_level', 'outflow_level']\n",
    "df = df.astype({\n",
    "    'current_1': float,\n",
    "    'current_2': float,\n",
    "    'water_level': float,\n",
    "    'outflow_level': float,\n",
    "})\n",
    "df.time = pd.to_datetime(df.time)\n",
    "df"
   ],
   "metadata": {
    "collapsed": false,
    "pycharm": {
     "name": "#%%\n"
    }
   }
  },
  {
   "cell_type": "code",
   "execution_count": 24,
   "outputs": [],
   "source": [
    "df['currents'] = df.apply(lambda row: [row.current_1, row.current_2], axis=1)\n",
    "df['current_tot'] = df.apply(lambda row: row.current_1 + row.current_2, axis=1)\n",
    "df.drop(columns=['current_1', 'current_2'], inplace=True)"
   ],
   "metadata": {
    "collapsed": false,
    "pycharm": {
     "name": "#%%\n"
    }
   }
  },
  {
   "cell_type": "code",
   "execution_count": 80,
   "outputs": [
    {
     "data": {
      "text/plain": "                          time  water_level  outflow_level      currents  \\\n0      2020-04-23 12:00:00.000         0.02            0.0  [1.624, 0.0]   \n1      2020-04-23 12:00:00.000         0.02            0.0  [1.624, 0.0]   \n2      2020-04-23 12:54:10.276        23.72            0.0   [0.0, 51.4]   \n3      2020-04-23 12:54:15.690        23.79            0.0  [0.0, 48.28]   \n4      2020-04-23 12:54:20.495        23.84            0.0  [0.0, 49.91]   \n...                        ...          ...            ...           ...   \n139842 2020-04-30 23:59:40.691         0.04            0.0  [1.087, 0.0]   \n139843 2020-04-30 23:59:44.528         0.04            0.0  [1.096, 0.0]   \n139844 2020-04-30 23:59:48.567         9.03            0.0  [1.106, 0.0]   \n139845 2020-04-30 23:59:52.450        12.24            0.0  [1.114, 0.0]   \n139846 2020-04-30 23:59:56.490        15.24            0.0  [1.123, 0.0]   \n\n        current_tot  \n0             1.624  \n1             1.624  \n2            51.400  \n3            48.280  \n4            49.910  \n...             ...  \n139842        1.087  \n139843        1.096  \n139844        1.106  \n139845        1.114  \n139846        1.123  \n\n[139847 rows x 5 columns]",
      "text/html": "<div>\n<style scoped>\n    .dataframe tbody tr th:only-of-type {\n        vertical-align: middle;\n    }\n\n    .dataframe tbody tr th {\n        vertical-align: top;\n    }\n\n    .dataframe thead th {\n        text-align: right;\n    }\n</style>\n<table border=\"1\" class=\"dataframe\">\n  <thead>\n    <tr style=\"text-align: right;\">\n      <th></th>\n      <th>time</th>\n      <th>water_level</th>\n      <th>outflow_level</th>\n      <th>currents</th>\n      <th>current_tot</th>\n    </tr>\n  </thead>\n  <tbody>\n    <tr>\n      <th>0</th>\n      <td>2020-04-23 12:00:00.000</td>\n      <td>0.02</td>\n      <td>0.0</td>\n      <td>[1.624, 0.0]</td>\n      <td>1.624</td>\n    </tr>\n    <tr>\n      <th>1</th>\n      <td>2020-04-23 12:00:00.000</td>\n      <td>0.02</td>\n      <td>0.0</td>\n      <td>[1.624, 0.0]</td>\n      <td>1.624</td>\n    </tr>\n    <tr>\n      <th>2</th>\n      <td>2020-04-23 12:54:10.276</td>\n      <td>23.72</td>\n      <td>0.0</td>\n      <td>[0.0, 51.4]</td>\n      <td>51.400</td>\n    </tr>\n    <tr>\n      <th>3</th>\n      <td>2020-04-23 12:54:15.690</td>\n      <td>23.79</td>\n      <td>0.0</td>\n      <td>[0.0, 48.28]</td>\n      <td>48.280</td>\n    </tr>\n    <tr>\n      <th>4</th>\n      <td>2020-04-23 12:54:20.495</td>\n      <td>23.84</td>\n      <td>0.0</td>\n      <td>[0.0, 49.91]</td>\n      <td>49.910</td>\n    </tr>\n    <tr>\n      <th>...</th>\n      <td>...</td>\n      <td>...</td>\n      <td>...</td>\n      <td>...</td>\n      <td>...</td>\n    </tr>\n    <tr>\n      <th>139842</th>\n      <td>2020-04-30 23:59:40.691</td>\n      <td>0.04</td>\n      <td>0.0</td>\n      <td>[1.087, 0.0]</td>\n      <td>1.087</td>\n    </tr>\n    <tr>\n      <th>139843</th>\n      <td>2020-04-30 23:59:44.528</td>\n      <td>0.04</td>\n      <td>0.0</td>\n      <td>[1.096, 0.0]</td>\n      <td>1.096</td>\n    </tr>\n    <tr>\n      <th>139844</th>\n      <td>2020-04-30 23:59:48.567</td>\n      <td>9.03</td>\n      <td>0.0</td>\n      <td>[1.106, 0.0]</td>\n      <td>1.106</td>\n    </tr>\n    <tr>\n      <th>139845</th>\n      <td>2020-04-30 23:59:52.450</td>\n      <td>12.24</td>\n      <td>0.0</td>\n      <td>[1.114, 0.0]</td>\n      <td>1.114</td>\n    </tr>\n    <tr>\n      <th>139846</th>\n      <td>2020-04-30 23:59:56.490</td>\n      <td>15.24</td>\n      <td>0.0</td>\n      <td>[1.123, 0.0]</td>\n      <td>1.123</td>\n    </tr>\n  </tbody>\n</table>\n<p>139847 rows × 5 columns</p>\n</div>"
     },
     "execution_count": 80,
     "metadata": {},
     "output_type": "execute_result"
    }
   ],
   "source": [
    "df"
   ],
   "metadata": {
    "collapsed": false,
    "pycharm": {
     "name": "#%%\n"
    }
   }
  },
  {
   "cell_type": "code",
   "execution_count": null,
   "outputs": [],
   "source": [],
   "metadata": {
    "collapsed": false,
    "pycharm": {
     "name": "#%%\n"
    }
   }
  }
 ],
 "metadata": {
  "kernelspec": {
   "display_name": "Python 3",
   "language": "python",
   "name": "python3"
  },
  "language_info": {
   "codemirror_mode": {
    "name": "ipython",
    "version": 2
   },
   "file_extension": ".py",
   "mimetype": "text/x-python",
   "name": "python",
   "nbconvert_exporter": "python",
   "pygments_lexer": "ipython2",
   "version": "2.7.6"
  }
 },
 "nbformat": 4,
 "nbformat_minor": 0
}