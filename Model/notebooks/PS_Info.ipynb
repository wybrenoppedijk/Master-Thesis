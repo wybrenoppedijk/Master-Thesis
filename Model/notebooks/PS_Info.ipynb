{
 "cells": [
  {
   "cell_type": "code",
   "execution_count": 4,
   "metadata": {
    "collapsed": true
   },
   "outputs": [],
   "source": [
    "import pandas as pd\n",
    "import os\n",
    "from glob import glob\n",
    "import numpy as np\n",
    "from glob import glob\n",
    "import path"
   ]
  },
  {
   "cell_type": "code",
   "execution_count": 5,
   "outputs": [
    {
     "data": {
      "text/plain": "                0          1\nPST232  55.278004  14.803541\nPST238  55.275994  14.805272\nPST237  55.275431  14.804389\nPST233  55.275424  14.804389\nPST234  55.270763  14.809371\nPST239  55.271984  14.807498\nPST240  55.267675   14.80468",
      "text/html": "<div>\n<style scoped>\n    .dataframe tbody tr th:only-of-type {\n        vertical-align: middle;\n    }\n\n    .dataframe tbody tr th {\n        vertical-align: top;\n    }\n\n    .dataframe thead th {\n        text-align: right;\n    }\n</style>\n<table border=\"1\" class=\"dataframe\">\n  <thead>\n    <tr style=\"text-align: right;\">\n      <th></th>\n      <th>0</th>\n      <th>1</th>\n    </tr>\n  </thead>\n  <tbody>\n    <tr>\n      <th>PST232</th>\n      <td>55.278004</td>\n      <td>14.803541</td>\n    </tr>\n    <tr>\n      <th>PST238</th>\n      <td>55.275994</td>\n      <td>14.805272</td>\n    </tr>\n    <tr>\n      <th>PST237</th>\n      <td>55.275431</td>\n      <td>14.804389</td>\n    </tr>\n    <tr>\n      <th>PST233</th>\n      <td>55.275424</td>\n      <td>14.804389</td>\n    </tr>\n    <tr>\n      <th>PST234</th>\n      <td>55.270763</td>\n      <td>14.809371</td>\n    </tr>\n    <tr>\n      <th>PST239</th>\n      <td>55.271984</td>\n      <td>14.807498</td>\n    </tr>\n    <tr>\n      <th>PST240</th>\n      <td>55.267675</td>\n      <td>14.80468</td>\n    </tr>\n  </tbody>\n</table>\n</div>"
     },
     "execution_count": 5,
     "metadata": {},
     "output_type": "execute_result"
    }
   ],
   "source": [
    "data_path = \"data/pump_locations.csv\"\n",
    "df = pd.read_csv(data_path).T[1:]\n",
    "df"
   ],
   "metadata": {
    "collapsed": false,
    "pycharm": {
     "name": "#%%\n"
    }
   }
  },
  {
   "cell_type": "code",
   "execution_count": 24,
   "outputs": [
    {
     "data": {
      "text/plain": "     Item           Name                          Adress   P1   P2   P3  \\\n1  PST232    Blindtarmen  Kæmpestranden 16, 3770 Allinge  4.8  4.8  NaN   \n2  PST238        Kjærnes   Kæmpestranden 2, 3770 Allinge  1.5  1.5  NaN   \n3  PST237        Løsebæk    Løsebækgade 1D, 3770 Allinge  4.7  4.7  NaN   \n4  PST233  Grønnedalsvej  Grønnedalsvej 29, 3770 Allinge  4.4  4.4  NaN   \n5  PST234      Hyldeslet       Hyldeslet 5, 3770 Allinge  2.6  2.6  NaN   \n6  PST239       Knudsnæs    Løsebækgade 15, 3770 Allinge   15   54  NaN   \n7  PST240     Ostekarret       Tejnvej 22B, 3770 Allinge  105   22   22   \n\n  Volumen  \n1     2,9  \n2     1,3  \n3     NaN  \n4       2  \n5     1,5  \n6    10,5  \n7     NaN  ",
      "text/html": "<div>\n<style scoped>\n    .dataframe tbody tr th:only-of-type {\n        vertical-align: middle;\n    }\n\n    .dataframe tbody tr th {\n        vertical-align: top;\n    }\n\n    .dataframe thead th {\n        text-align: right;\n    }\n</style>\n<table border=\"1\" class=\"dataframe\">\n  <thead>\n    <tr style=\"text-align: right;\">\n      <th></th>\n      <th>Item</th>\n      <th>Name</th>\n      <th>Adress</th>\n      <th>P1</th>\n      <th>P2</th>\n      <th>P3</th>\n      <th>Volumen</th>\n    </tr>\n  </thead>\n  <tbody>\n    <tr>\n      <th>1</th>\n      <td>PST232</td>\n      <td>Blindtarmen</td>\n      <td>Kæmpestranden 16, 3770 Allinge</td>\n      <td>4.8</td>\n      <td>4.8</td>\n      <td>NaN</td>\n      <td>2,9</td>\n    </tr>\n    <tr>\n      <th>2</th>\n      <td>PST238</td>\n      <td>Kjærnes</td>\n      <td>Kæmpestranden 2, 3770 Allinge</td>\n      <td>1.5</td>\n      <td>1.5</td>\n      <td>NaN</td>\n      <td>1,3</td>\n    </tr>\n    <tr>\n      <th>3</th>\n      <td>PST237</td>\n      <td>Løsebæk</td>\n      <td>Løsebækgade 1D, 3770 Allinge</td>\n      <td>4.7</td>\n      <td>4.7</td>\n      <td>NaN</td>\n      <td>NaN</td>\n    </tr>\n    <tr>\n      <th>4</th>\n      <td>PST233</td>\n      <td>Grønnedalsvej</td>\n      <td>Grønnedalsvej 29, 3770 Allinge</td>\n      <td>4.4</td>\n      <td>4.4</td>\n      <td>NaN</td>\n      <td>2</td>\n    </tr>\n    <tr>\n      <th>5</th>\n      <td>PST234</td>\n      <td>Hyldeslet</td>\n      <td>Hyldeslet 5, 3770 Allinge</td>\n      <td>2.6</td>\n      <td>2.6</td>\n      <td>NaN</td>\n      <td>1,5</td>\n    </tr>\n    <tr>\n      <th>6</th>\n      <td>PST239</td>\n      <td>Knudsnæs</td>\n      <td>Løsebækgade 15, 3770 Allinge</td>\n      <td>15</td>\n      <td>54</td>\n      <td>NaN</td>\n      <td>10,5</td>\n    </tr>\n    <tr>\n      <th>7</th>\n      <td>PST240</td>\n      <td>Ostekarret</td>\n      <td>Tejnvej 22B, 3770 Allinge</td>\n      <td>105</td>\n      <td>22</td>\n      <td>22</td>\n      <td>NaN</td>\n    </tr>\n  </tbody>\n</table>\n</div>"
     },
     "execution_count": 24,
     "metadata": {},
     "output_type": "execute_result"
    }
   ],
   "source": [
    "data_path = 'data/PST Pump powers and volumes.xlsx'\n",
    "df_info = pd.read_excel(data_path, usecols='A:G').iloc[1:8]\n",
    "df"
   ],
   "metadata": {
    "collapsed": false,
    "pycharm": {
     "name": "#%%\n"
    }
   }
  },
  {
   "cell_type": "code",
   "execution_count": null,
   "outputs": [],
   "source": [],
   "metadata": {
    "collapsed": false,
    "pycharm": {
     "name": "#%%\n"
    }
   }
  }
 ],
 "metadata": {
  "kernelspec": {
   "display_name": "Python 3",
   "language": "python",
   "name": "python3"
  },
  "language_info": {
   "codemirror_mode": {
    "name": "ipython",
    "version": 2
   },
   "file_extension": ".py",
   "mimetype": "text/x-python",
   "name": "python",
   "nbconvert_exporter": "python",
   "pygments_lexer": "ipython2",
   "version": "2.7.6"
  }
 },
 "nbformat": 4,
 "nbformat_minor": 0
}