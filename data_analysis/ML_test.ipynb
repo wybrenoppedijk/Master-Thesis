{
 "cells": [
  {
   "cell_type": "code",
   "execution_count": 2,
   "metadata": {
    "collapsed": true
   },
   "outputs": [],
   "source": [
    "import numpy as np\n",
    "import pandas as pd"
   ]
  },
  {
   "cell_type": "code",
   "execution_count": 24,
   "outputs": [],
   "source": [
    "df = pd.read_pickle('../output/pst232.pkl', compression='gzip')\n",
    "df2 = pd.read_pickle('../output/pst232-2.pkl', compression='gzip')"
   ],
   "metadata": {
    "collapsed": false,
    "pycharm": {
     "name": "#%%\n"
    }
   }
  },
  {
   "cell_type": "code",
   "execution_count": 15,
   "outputs": [
    {
     "data": {
      "text/plain": "                     water_level  outflow_level    currents  current_tot  \\\n2020-05-01 00:00:00     0.980000            0.0  [0.0, 0.0]          0.0   \n2020-05-01 00:01:00     0.980000            0.0  [0.0, 0.0]          0.0   \n2020-05-01 00:02:00     0.980000            0.0  [0.0, 0.0]          0.0   \n2020-05-01 00:03:00     0.980000            0.0  [0.0, 0.0]          0.0   \n2020-05-01 00:04:00     0.980000            0.0  [0.0, 0.0]          0.0   \n...                          ...            ...         ...          ...   \n2021-08-31 23:51:00     0.704740            0.0  [0.0, 0.0]          0.0   \n2021-08-31 23:52:00     0.704903            0.0  [0.0, 0.0]          0.0   \n2021-08-31 23:53:00     0.701638            0.0  [0.0, 0.0]          0.0   \n2021-08-31 23:54:00     0.705495            0.0  [0.0, 0.0]          0.0   \n2021-08-31 23:55:00     0.707759            0.0  [0.0, 0.0]          0.0   \n\n                                 pumping_station       temp      prcp  snow  \n2020-05-01 00:00:00  PUMPING_STATION_ENUM.PST233   8.000000  0.000000   NaN  \n2020-05-01 00:01:00  PUMPING_STATION_ENUM.PST233   8.016667  0.001667   NaN  \n2020-05-01 00:02:00  PUMPING_STATION_ENUM.PST233   8.033333  0.003333   NaN  \n2020-05-01 00:03:00  PUMPING_STATION_ENUM.PST233   8.050000  0.005000   NaN  \n2020-05-01 00:04:00  PUMPING_STATION_ENUM.PST233   8.066667  0.006667   NaN  \n...                                          ...        ...       ...   ...  \n2021-08-31 23:51:00  PUMPING_STATION_ENUM.PST233  14.500000  0.000000   NaN  \n2021-08-31 23:52:00  PUMPING_STATION_ENUM.PST233  14.500000  0.000000   NaN  \n2021-08-31 23:53:00  PUMPING_STATION_ENUM.PST233  14.500000  0.000000   NaN  \n2021-08-31 23:54:00  PUMPING_STATION_ENUM.PST233  14.500000  0.000000   NaN  \n2021-08-31 23:55:00  PUMPING_STATION_ENUM.PST233  14.500000  0.000000   NaN  \n\n[701990 rows x 8 columns]",
      "text/html": "<div>\n<style scoped>\n    .dataframe tbody tr th:only-of-type {\n        vertical-align: middle;\n    }\n\n    .dataframe tbody tr th {\n        vertical-align: top;\n    }\n\n    .dataframe thead th {\n        text-align: right;\n    }\n</style>\n<table border=\"1\" class=\"dataframe\">\n  <thead>\n    <tr style=\"text-align: right;\">\n      <th></th>\n      <th>water_level</th>\n      <th>outflow_level</th>\n      <th>currents</th>\n      <th>current_tot</th>\n      <th>pumping_station</th>\n      <th>temp</th>\n      <th>prcp</th>\n      <th>snow</th>\n    </tr>\n  </thead>\n  <tbody>\n    <tr>\n      <th>2020-05-01 00:00:00</th>\n      <td>0.980000</td>\n      <td>0.0</td>\n      <td>[0.0, 0.0]</td>\n      <td>0.0</td>\n      <td>PUMPING_STATION_ENUM.PST233</td>\n      <td>8.000000</td>\n      <td>0.000000</td>\n      <td>NaN</td>\n    </tr>\n    <tr>\n      <th>2020-05-01 00:01:00</th>\n      <td>0.980000</td>\n      <td>0.0</td>\n      <td>[0.0, 0.0]</td>\n      <td>0.0</td>\n      <td>PUMPING_STATION_ENUM.PST233</td>\n      <td>8.016667</td>\n      <td>0.001667</td>\n      <td>NaN</td>\n    </tr>\n    <tr>\n      <th>2020-05-01 00:02:00</th>\n      <td>0.980000</td>\n      <td>0.0</td>\n      <td>[0.0, 0.0]</td>\n      <td>0.0</td>\n      <td>PUMPING_STATION_ENUM.PST233</td>\n      <td>8.033333</td>\n      <td>0.003333</td>\n      <td>NaN</td>\n    </tr>\n    <tr>\n      <th>2020-05-01 00:03:00</th>\n      <td>0.980000</td>\n      <td>0.0</td>\n      <td>[0.0, 0.0]</td>\n      <td>0.0</td>\n      <td>PUMPING_STATION_ENUM.PST233</td>\n      <td>8.050000</td>\n      <td>0.005000</td>\n      <td>NaN</td>\n    </tr>\n    <tr>\n      <th>2020-05-01 00:04:00</th>\n      <td>0.980000</td>\n      <td>0.0</td>\n      <td>[0.0, 0.0]</td>\n      <td>0.0</td>\n      <td>PUMPING_STATION_ENUM.PST233</td>\n      <td>8.066667</td>\n      <td>0.006667</td>\n      <td>NaN</td>\n    </tr>\n    <tr>\n      <th>...</th>\n      <td>...</td>\n      <td>...</td>\n      <td>...</td>\n      <td>...</td>\n      <td>...</td>\n      <td>...</td>\n      <td>...</td>\n      <td>...</td>\n    </tr>\n    <tr>\n      <th>2021-08-31 23:51:00</th>\n      <td>0.704740</td>\n      <td>0.0</td>\n      <td>[0.0, 0.0]</td>\n      <td>0.0</td>\n      <td>PUMPING_STATION_ENUM.PST233</td>\n      <td>14.500000</td>\n      <td>0.000000</td>\n      <td>NaN</td>\n    </tr>\n    <tr>\n      <th>2021-08-31 23:52:00</th>\n      <td>0.704903</td>\n      <td>0.0</td>\n      <td>[0.0, 0.0]</td>\n      <td>0.0</td>\n      <td>PUMPING_STATION_ENUM.PST233</td>\n      <td>14.500000</td>\n      <td>0.000000</td>\n      <td>NaN</td>\n    </tr>\n    <tr>\n      <th>2021-08-31 23:53:00</th>\n      <td>0.701638</td>\n      <td>0.0</td>\n      <td>[0.0, 0.0]</td>\n      <td>0.0</td>\n      <td>PUMPING_STATION_ENUM.PST233</td>\n      <td>14.500000</td>\n      <td>0.000000</td>\n      <td>NaN</td>\n    </tr>\n    <tr>\n      <th>2021-08-31 23:54:00</th>\n      <td>0.705495</td>\n      <td>0.0</td>\n      <td>[0.0, 0.0]</td>\n      <td>0.0</td>\n      <td>PUMPING_STATION_ENUM.PST233</td>\n      <td>14.500000</td>\n      <td>0.000000</td>\n      <td>NaN</td>\n    </tr>\n    <tr>\n      <th>2021-08-31 23:55:00</th>\n      <td>0.707759</td>\n      <td>0.0</td>\n      <td>[0.0, 0.0]</td>\n      <td>0.0</td>\n      <td>PUMPING_STATION_ENUM.PST233</td>\n      <td>14.500000</td>\n      <td>0.000000</td>\n      <td>NaN</td>\n    </tr>\n  </tbody>\n</table>\n<p>701990 rows × 8 columns</p>\n</div>"
     },
     "execution_count": 15,
     "metadata": {},
     "output_type": "execute_result"
    }
   ],
   "source": [
    "df"
   ],
   "metadata": {
    "collapsed": false,
    "pycharm": {
     "name": "#%%\n"
    }
   }
  },
  {
   "cell_type": "code",
   "execution_count": 16,
   "outputs": [
    {
     "data": {
      "text/plain": "701990"
     },
     "execution_count": 16,
     "metadata": {},
     "output_type": "execute_result"
    }
   ],
   "source": [
    "len(df)"
   ],
   "metadata": {
    "collapsed": false,
    "pycharm": {
     "name": "#%%\n"
    }
   }
  },
  {
   "cell_type": "markdown",
   "source": [],
   "metadata": {
    "collapsed": false
   }
  },
  {
   "cell_type": "code",
   "execution_count": 25,
   "outputs": [
    {
     "data": {
      "text/plain": "                     water_level  outflow_level                   currents  \\\n2020-10-14 09:34:00     0.520000            0.0               [0.0, 100.0]   \n2020-10-14 09:35:00     0.529733            0.0               [0.0, 100.0]   \n2020-10-14 09:36:00     0.530000            0.0               [0.0, 100.0]   \n2020-10-14 09:37:00     0.530000            0.0               [0.0, 100.0]   \n2020-10-14 09:38:00     0.530000            0.0               [0.0, 100.0]   \n2020-10-14 09:39:00     0.539734            0.0               [0.0, 100.0]   \n2020-10-14 09:40:00     0.540855            0.0               [0.0, 100.0]   \n2020-10-14 09:41:00     0.547577            0.0  [0.0, 100.00000000000001]   \n2020-10-14 09:42:00     0.550000            0.0               [0.0, 100.0]   \n2020-10-14 09:43:00     0.551302            0.0               [0.0, 100.0]   \n2020-10-14 09:44:00     0.560000            0.0               [0.0, 100.0]   \n2020-10-14 09:45:00     0.560000            0.0               [0.0, 100.0]   \n2020-10-14 09:46:00     0.560000            0.0               [0.0, 100.0]   \n2020-10-14 09:47:00     0.560000            0.0               [0.0, 100.0]   \n2020-10-14 09:48:00     0.560000            0.0               [0.0, 100.0]   \n2020-10-14 09:49:00     0.560000            0.0   [0.0, 64.49833333333333]   \n2021-02-22 15:15:00     0.473587            0.0   [0.0, 99.85833333333332]   \n\n                     current_tot              pumping_station  temp  prcp  \\\n2020-10-14 09:34:00   100.000000  PUMPING_STATION_ENUM.PST233  12.0   0.0   \n2020-10-14 09:35:00   100.000000  PUMPING_STATION_ENUM.PST233  12.0   0.0   \n2020-10-14 09:36:00   100.000000  PUMPING_STATION_ENUM.PST233  12.0   0.0   \n2020-10-14 09:37:00   100.000000  PUMPING_STATION_ENUM.PST233  12.0   0.0   \n2020-10-14 09:38:00   100.000000  PUMPING_STATION_ENUM.PST233  12.0   0.0   \n2020-10-14 09:39:00   100.000000  PUMPING_STATION_ENUM.PST233  12.0   0.0   \n2020-10-14 09:40:00   100.000000  PUMPING_STATION_ENUM.PST233  12.0   0.0   \n2020-10-14 09:41:00   100.000000  PUMPING_STATION_ENUM.PST233  12.0   0.0   \n2020-10-14 09:42:00   100.000000  PUMPING_STATION_ENUM.PST233  12.0   0.0   \n2020-10-14 09:43:00   100.000000  PUMPING_STATION_ENUM.PST233  12.0   0.0   \n2020-10-14 09:44:00   100.000000  PUMPING_STATION_ENUM.PST233  12.0   0.0   \n2020-10-14 09:45:00   100.000000  PUMPING_STATION_ENUM.PST233  12.0   0.0   \n2020-10-14 09:46:00   100.000000  PUMPING_STATION_ENUM.PST233  12.0   0.0   \n2020-10-14 09:47:00   100.000000  PUMPING_STATION_ENUM.PST233  12.0   0.0   \n2020-10-14 09:48:00   100.000000  PUMPING_STATION_ENUM.PST233  12.0   0.0   \n2020-10-14 09:49:00    64.498333  PUMPING_STATION_ENUM.PST233  12.0   0.0   \n2021-02-22 15:15:00    99.858333  PUMPING_STATION_ENUM.PST233   6.2   0.0   \n\n                     snow  \n2020-10-14 09:34:00   NaN  \n2020-10-14 09:35:00   NaN  \n2020-10-14 09:36:00   NaN  \n2020-10-14 09:37:00   NaN  \n2020-10-14 09:38:00   NaN  \n2020-10-14 09:39:00   NaN  \n2020-10-14 09:40:00   NaN  \n2020-10-14 09:41:00   NaN  \n2020-10-14 09:42:00   NaN  \n2020-10-14 09:43:00   NaN  \n2020-10-14 09:44:00   NaN  \n2020-10-14 09:45:00   NaN  \n2020-10-14 09:46:00   NaN  \n2020-10-14 09:47:00   NaN  \n2020-10-14 09:48:00   NaN  \n2020-10-14 09:49:00   NaN  \n2021-02-22 15:15:00   NaN  ",
      "text/html": "<div>\n<style scoped>\n    .dataframe tbody tr th:only-of-type {\n        vertical-align: middle;\n    }\n\n    .dataframe tbody tr th {\n        vertical-align: top;\n    }\n\n    .dataframe thead th {\n        text-align: right;\n    }\n</style>\n<table border=\"1\" class=\"dataframe\">\n  <thead>\n    <tr style=\"text-align: right;\">\n      <th></th>\n      <th>water_level</th>\n      <th>outflow_level</th>\n      <th>currents</th>\n      <th>current_tot</th>\n      <th>pumping_station</th>\n      <th>temp</th>\n      <th>prcp</th>\n      <th>snow</th>\n    </tr>\n  </thead>\n  <tbody>\n    <tr>\n      <th>2020-10-14 09:34:00</th>\n      <td>0.520000</td>\n      <td>0.0</td>\n      <td>[0.0, 100.0]</td>\n      <td>100.000000</td>\n      <td>PUMPING_STATION_ENUM.PST233</td>\n      <td>12.0</td>\n      <td>0.0</td>\n      <td>NaN</td>\n    </tr>\n    <tr>\n      <th>2020-10-14 09:35:00</th>\n      <td>0.529733</td>\n      <td>0.0</td>\n      <td>[0.0, 100.0]</td>\n      <td>100.000000</td>\n      <td>PUMPING_STATION_ENUM.PST233</td>\n      <td>12.0</td>\n      <td>0.0</td>\n      <td>NaN</td>\n    </tr>\n    <tr>\n      <th>2020-10-14 09:36:00</th>\n      <td>0.530000</td>\n      <td>0.0</td>\n      <td>[0.0, 100.0]</td>\n      <td>100.000000</td>\n      <td>PUMPING_STATION_ENUM.PST233</td>\n      <td>12.0</td>\n      <td>0.0</td>\n      <td>NaN</td>\n    </tr>\n    <tr>\n      <th>2020-10-14 09:37:00</th>\n      <td>0.530000</td>\n      <td>0.0</td>\n      <td>[0.0, 100.0]</td>\n      <td>100.000000</td>\n      <td>PUMPING_STATION_ENUM.PST233</td>\n      <td>12.0</td>\n      <td>0.0</td>\n      <td>NaN</td>\n    </tr>\n    <tr>\n      <th>2020-10-14 09:38:00</th>\n      <td>0.530000</td>\n      <td>0.0</td>\n      <td>[0.0, 100.0]</td>\n      <td>100.000000</td>\n      <td>PUMPING_STATION_ENUM.PST233</td>\n      <td>12.0</td>\n      <td>0.0</td>\n      <td>NaN</td>\n    </tr>\n    <tr>\n      <th>2020-10-14 09:39:00</th>\n      <td>0.539734</td>\n      <td>0.0</td>\n      <td>[0.0, 100.0]</td>\n      <td>100.000000</td>\n      <td>PUMPING_STATION_ENUM.PST233</td>\n      <td>12.0</td>\n      <td>0.0</td>\n      <td>NaN</td>\n    </tr>\n    <tr>\n      <th>2020-10-14 09:40:00</th>\n      <td>0.540855</td>\n      <td>0.0</td>\n      <td>[0.0, 100.0]</td>\n      <td>100.000000</td>\n      <td>PUMPING_STATION_ENUM.PST233</td>\n      <td>12.0</td>\n      <td>0.0</td>\n      <td>NaN</td>\n    </tr>\n    <tr>\n      <th>2020-10-14 09:41:00</th>\n      <td>0.547577</td>\n      <td>0.0</td>\n      <td>[0.0, 100.00000000000001]</td>\n      <td>100.000000</td>\n      <td>PUMPING_STATION_ENUM.PST233</td>\n      <td>12.0</td>\n      <td>0.0</td>\n      <td>NaN</td>\n    </tr>\n    <tr>\n      <th>2020-10-14 09:42:00</th>\n      <td>0.550000</td>\n      <td>0.0</td>\n      <td>[0.0, 100.0]</td>\n      <td>100.000000</td>\n      <td>PUMPING_STATION_ENUM.PST233</td>\n      <td>12.0</td>\n      <td>0.0</td>\n      <td>NaN</td>\n    </tr>\n    <tr>\n      <th>2020-10-14 09:43:00</th>\n      <td>0.551302</td>\n      <td>0.0</td>\n      <td>[0.0, 100.0]</td>\n      <td>100.000000</td>\n      <td>PUMPING_STATION_ENUM.PST233</td>\n      <td>12.0</td>\n      <td>0.0</td>\n      <td>NaN</td>\n    </tr>\n    <tr>\n      <th>2020-10-14 09:44:00</th>\n      <td>0.560000</td>\n      <td>0.0</td>\n      <td>[0.0, 100.0]</td>\n      <td>100.000000</td>\n      <td>PUMPING_STATION_ENUM.PST233</td>\n      <td>12.0</td>\n      <td>0.0</td>\n      <td>NaN</td>\n    </tr>\n    <tr>\n      <th>2020-10-14 09:45:00</th>\n      <td>0.560000</td>\n      <td>0.0</td>\n      <td>[0.0, 100.0]</td>\n      <td>100.000000</td>\n      <td>PUMPING_STATION_ENUM.PST233</td>\n      <td>12.0</td>\n      <td>0.0</td>\n      <td>NaN</td>\n    </tr>\n    <tr>\n      <th>2020-10-14 09:46:00</th>\n      <td>0.560000</td>\n      <td>0.0</td>\n      <td>[0.0, 100.0]</td>\n      <td>100.000000</td>\n      <td>PUMPING_STATION_ENUM.PST233</td>\n      <td>12.0</td>\n      <td>0.0</td>\n      <td>NaN</td>\n    </tr>\n    <tr>\n      <th>2020-10-14 09:47:00</th>\n      <td>0.560000</td>\n      <td>0.0</td>\n      <td>[0.0, 100.0]</td>\n      <td>100.000000</td>\n      <td>PUMPING_STATION_ENUM.PST233</td>\n      <td>12.0</td>\n      <td>0.0</td>\n      <td>NaN</td>\n    </tr>\n    <tr>\n      <th>2020-10-14 09:48:00</th>\n      <td>0.560000</td>\n      <td>0.0</td>\n      <td>[0.0, 100.0]</td>\n      <td>100.000000</td>\n      <td>PUMPING_STATION_ENUM.PST233</td>\n      <td>12.0</td>\n      <td>0.0</td>\n      <td>NaN</td>\n    </tr>\n    <tr>\n      <th>2020-10-14 09:49:00</th>\n      <td>0.560000</td>\n      <td>0.0</td>\n      <td>[0.0, 64.49833333333333]</td>\n      <td>64.498333</td>\n      <td>PUMPING_STATION_ENUM.PST233</td>\n      <td>12.0</td>\n      <td>0.0</td>\n      <td>NaN</td>\n    </tr>\n    <tr>\n      <th>2021-02-22 15:15:00</th>\n      <td>0.473587</td>\n      <td>0.0</td>\n      <td>[0.0, 99.85833333333332]</td>\n      <td>99.858333</td>\n      <td>PUMPING_STATION_ENUM.PST233</td>\n      <td>6.2</td>\n      <td>0.0</td>\n      <td>NaN</td>\n    </tr>\n  </tbody>\n</table>\n</div>"
     },
     "execution_count": 25,
     "metadata": {},
     "output_type": "execute_result"
    }
   ],
   "source": [
    "df[df.current_tot > 40]"
   ],
   "metadata": {
    "collapsed": false,
    "pycharm": {
     "name": "#%%\n"
    }
   }
  },
  {
   "cell_type": "code",
   "execution_count": 27,
   "outputs": [
    {
     "data": {
      "text/plain": "                         water_level  outflow_level  cycle_nr  cycle_step  \\\ntime                                                                        \n2020-05-01 00:00:00.000         1.13            0.0      <NA>        <NA>   \n2020-05-01 00:01:31.268         1.15            0.0      <NA>        <NA>   \n2020-05-01 00:05:41.157         1.17            0.0      <NA>        <NA>   \n2020-05-01 00:11:02.430         1.19            0.0      <NA>        <NA>   \n2020-05-01 00:15:12.358         1.21            0.0      <NA>        <NA>   \n...                              ...            ...       ...         ...   \n2021-08-31 23:55:44.561         0.72            0.0      <NA>        <NA>   \n2021-08-31 23:55:56.089         0.71            0.0      <NA>        <NA>   \n2021-08-31 23:56:07.602         0.72            0.0      <NA>        <NA>   \n2021-08-31 23:57:50.968         0.73            0.0      <NA>        <NA>   \n2021-08-31 23:59:34.645         0.74            0.0      <NA>        <NA>   \n\n                        cycle_state cycle_state_transition error    currents  \\\ntime                                                                           \n2020-05-01 00:00:00.000        None                   None  None  [0.0, 0.0]   \n2020-05-01 00:01:31.268        None                   None  None  [0.0, 0.0]   \n2020-05-01 00:05:41.157        None                   None  None  [0.0, 0.0]   \n2020-05-01 00:11:02.430        None                   None  None  [0.0, 0.0]   \n2020-05-01 00:15:12.358        None                   None  None  [0.0, 0.0]   \n...                             ...                    ...   ...         ...   \n2021-08-31 23:55:44.561        None                   None  None  [0.0, 0.0]   \n2021-08-31 23:55:56.089        None                   None  None  [0.0, 0.0]   \n2021-08-31 23:56:07.602        None                   None  None  [0.0, 0.0]   \n2021-08-31 23:57:50.968        None                   None  None  [0.0, 0.0]   \n2021-08-31 23:59:34.645        None                   None  None  [0.0, 0.0]   \n\n                         current_tot              pumping_station  \ntime                                                               \n2020-05-01 00:00:00.000          0.0  PUMPING_STATION_ENUM.PST232  \n2020-05-01 00:01:31.268          0.0  PUMPING_STATION_ENUM.PST232  \n2020-05-01 00:05:41.157          0.0  PUMPING_STATION_ENUM.PST232  \n2020-05-01 00:11:02.430          0.0  PUMPING_STATION_ENUM.PST232  \n2020-05-01 00:15:12.358          0.0  PUMPING_STATION_ENUM.PST232  \n...                              ...                          ...  \n2021-08-31 23:55:44.561          0.0  PUMPING_STATION_ENUM.PST232  \n2021-08-31 23:55:56.089          0.0  PUMPING_STATION_ENUM.PST232  \n2021-08-31 23:56:07.602          0.0  PUMPING_STATION_ENUM.PST232  \n2021-08-31 23:57:50.968          0.0  PUMPING_STATION_ENUM.PST232  \n2021-08-31 23:59:34.645          0.0  PUMPING_STATION_ENUM.PST232  \n\n[1407518 rows x 10 columns]",
      "text/html": "<div>\n<style scoped>\n    .dataframe tbody tr th:only-of-type {\n        vertical-align: middle;\n    }\n\n    .dataframe tbody tr th {\n        vertical-align: top;\n    }\n\n    .dataframe thead th {\n        text-align: right;\n    }\n</style>\n<table border=\"1\" class=\"dataframe\">\n  <thead>\n    <tr style=\"text-align: right;\">\n      <th></th>\n      <th>water_level</th>\n      <th>outflow_level</th>\n      <th>cycle_nr</th>\n      <th>cycle_step</th>\n      <th>cycle_state</th>\n      <th>cycle_state_transition</th>\n      <th>error</th>\n      <th>currents</th>\n      <th>current_tot</th>\n      <th>pumping_station</th>\n    </tr>\n    <tr>\n      <th>time</th>\n      <th></th>\n      <th></th>\n      <th></th>\n      <th></th>\n      <th></th>\n      <th></th>\n      <th></th>\n      <th></th>\n      <th></th>\n      <th></th>\n    </tr>\n  </thead>\n  <tbody>\n    <tr>\n      <th>2020-05-01 00:00:00.000</th>\n      <td>1.13</td>\n      <td>0.0</td>\n      <td>&lt;NA&gt;</td>\n      <td>&lt;NA&gt;</td>\n      <td>None</td>\n      <td>None</td>\n      <td>None</td>\n      <td>[0.0, 0.0]</td>\n      <td>0.0</td>\n      <td>PUMPING_STATION_ENUM.PST232</td>\n    </tr>\n    <tr>\n      <th>2020-05-01 00:01:31.268</th>\n      <td>1.15</td>\n      <td>0.0</td>\n      <td>&lt;NA&gt;</td>\n      <td>&lt;NA&gt;</td>\n      <td>None</td>\n      <td>None</td>\n      <td>None</td>\n      <td>[0.0, 0.0]</td>\n      <td>0.0</td>\n      <td>PUMPING_STATION_ENUM.PST232</td>\n    </tr>\n    <tr>\n      <th>2020-05-01 00:05:41.157</th>\n      <td>1.17</td>\n      <td>0.0</td>\n      <td>&lt;NA&gt;</td>\n      <td>&lt;NA&gt;</td>\n      <td>None</td>\n      <td>None</td>\n      <td>None</td>\n      <td>[0.0, 0.0]</td>\n      <td>0.0</td>\n      <td>PUMPING_STATION_ENUM.PST232</td>\n    </tr>\n    <tr>\n      <th>2020-05-01 00:11:02.430</th>\n      <td>1.19</td>\n      <td>0.0</td>\n      <td>&lt;NA&gt;</td>\n      <td>&lt;NA&gt;</td>\n      <td>None</td>\n      <td>None</td>\n      <td>None</td>\n      <td>[0.0, 0.0]</td>\n      <td>0.0</td>\n      <td>PUMPING_STATION_ENUM.PST232</td>\n    </tr>\n    <tr>\n      <th>2020-05-01 00:15:12.358</th>\n      <td>1.21</td>\n      <td>0.0</td>\n      <td>&lt;NA&gt;</td>\n      <td>&lt;NA&gt;</td>\n      <td>None</td>\n      <td>None</td>\n      <td>None</td>\n      <td>[0.0, 0.0]</td>\n      <td>0.0</td>\n      <td>PUMPING_STATION_ENUM.PST232</td>\n    </tr>\n    <tr>\n      <th>...</th>\n      <td>...</td>\n      <td>...</td>\n      <td>...</td>\n      <td>...</td>\n      <td>...</td>\n      <td>...</td>\n      <td>...</td>\n      <td>...</td>\n      <td>...</td>\n      <td>...</td>\n    </tr>\n    <tr>\n      <th>2021-08-31 23:55:44.561</th>\n      <td>0.72</td>\n      <td>0.0</td>\n      <td>&lt;NA&gt;</td>\n      <td>&lt;NA&gt;</td>\n      <td>None</td>\n      <td>None</td>\n      <td>None</td>\n      <td>[0.0, 0.0]</td>\n      <td>0.0</td>\n      <td>PUMPING_STATION_ENUM.PST232</td>\n    </tr>\n    <tr>\n      <th>2021-08-31 23:55:56.089</th>\n      <td>0.71</td>\n      <td>0.0</td>\n      <td>&lt;NA&gt;</td>\n      <td>&lt;NA&gt;</td>\n      <td>None</td>\n      <td>None</td>\n      <td>None</td>\n      <td>[0.0, 0.0]</td>\n      <td>0.0</td>\n      <td>PUMPING_STATION_ENUM.PST232</td>\n    </tr>\n    <tr>\n      <th>2021-08-31 23:56:07.602</th>\n      <td>0.72</td>\n      <td>0.0</td>\n      <td>&lt;NA&gt;</td>\n      <td>&lt;NA&gt;</td>\n      <td>None</td>\n      <td>None</td>\n      <td>None</td>\n      <td>[0.0, 0.0]</td>\n      <td>0.0</td>\n      <td>PUMPING_STATION_ENUM.PST232</td>\n    </tr>\n    <tr>\n      <th>2021-08-31 23:57:50.968</th>\n      <td>0.73</td>\n      <td>0.0</td>\n      <td>&lt;NA&gt;</td>\n      <td>&lt;NA&gt;</td>\n      <td>None</td>\n      <td>None</td>\n      <td>None</td>\n      <td>[0.0, 0.0]</td>\n      <td>0.0</td>\n      <td>PUMPING_STATION_ENUM.PST232</td>\n    </tr>\n    <tr>\n      <th>2021-08-31 23:59:34.645</th>\n      <td>0.74</td>\n      <td>0.0</td>\n      <td>&lt;NA&gt;</td>\n      <td>&lt;NA&gt;</td>\n      <td>None</td>\n      <td>None</td>\n      <td>None</td>\n      <td>[0.0, 0.0]</td>\n      <td>0.0</td>\n      <td>PUMPING_STATION_ENUM.PST232</td>\n    </tr>\n  </tbody>\n</table>\n<p>1407518 rows × 10 columns</p>\n</div>"
     },
     "execution_count": 27,
     "metadata": {},
     "output_type": "execute_result"
    }
   ],
   "source": [
    "df2"
   ],
   "metadata": {
    "collapsed": false,
    "pycharm": {
     "name": "#%%\n"
    }
   }
  },
  {
   "cell_type": "code",
   "execution_count": null,
   "outputs": [],
   "source": [],
   "metadata": {
    "collapsed": false,
    "pycharm": {
     "name": "#%%\n"
    }
   }
  }
 ],
 "metadata": {
  "kernelspec": {
   "display_name": "Python 3",
   "language": "python",
   "name": "python3"
  },
  "language_info": {
   "codemirror_mode": {
    "name": "ipython",
    "version": 2
   },
   "file_extension": ".py",
   "mimetype": "text/x-python",
   "name": "python",
   "nbconvert_exporter": "python",
   "pygments_lexer": "ipython2",
   "version": "2.7.6"
  }
 },
 "nbformat": 4,
 "nbformat_minor": 0
}