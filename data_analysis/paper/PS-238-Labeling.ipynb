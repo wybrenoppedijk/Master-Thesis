{
 "cells": [
  {
   "cell_type": "code",
   "execution_count": null,
   "metadata": {},
   "outputs": [],
   "source": [
    "import pandas as pd\n",
    "import math as m\n",
    "import plotly.graph_objects as go\n",
    "from plotly.subplots import make_subplots\n",
    "import numpy as np\n",
    "import matplotlib.pyplot as plt\n",
    "import seaborn as sns"
   ]
  },
  {
   "cell_type": "code",
   "execution_count": null,
   "metadata": {
    "pycharm": {
     "name": "#%%\n"
    }
   },
   "outputs": [],
   "source": [
    "df = pd.read_pickle('../../output/238-we-wa-se.pkl', compression='gzip')"
   ]
  },
  {
   "cell_type": "code",
   "execution_count": null,
   "metadata": {
    "pycharm": {
     "name": "#%%\n"
    }
   },
   "outputs": [],
   "source": [
    "fig = make_subplots(specs=[[{\"secondary_y\": True}]])\n",
    "\n",
    "fig.add_trace(\n",
    "    go.Scatter(x=df.index, y=df.water_level, name=\"Water Level\", mode=\"lines\"),\n",
    "    secondary_y=False,\n",
    ")\n",
    "# fig.add_trace(\n",
    "#     go.Scatter(x=df.index, y=df.current_tot, name=\"Current [TOT]\", mode=\"lines\"),\n",
    "#     secondary_y=False,\n",
    "# )\n",
    "fig.add_trace(\n",
    "    go.Scatter(x=df.index, y=df.outflow_level, name=\"Outflow Level\", mode=\"lines\"),\n",
    "    secondary_y=True,\n",
    ")\n",
    "\n",
    "# fig = px.line(df, x=df.index, y=df.water_level, title=\"Water level\", )\n",
    "# fig.show()"
   ]
  },
  {
   "cell_type": "code",
   "execution_count": null,
   "metadata": {
    "pycharm": {
     "name": "#%%\n"
    }
   },
   "outputs": [],
   "source": [
    "df"
   ]
  },
  {
   "cell_type": "code",
   "execution_count": null,
   "metadata": {
    "pycharm": {
     "name": "#%%\n"
    }
   },
   "outputs": [],
   "source": [
    "# if pump is on\n",
    "alpha = (m.pi * (0.564189584**2)) * 1000"
   ]
  },
  {
   "cell_type": "code",
   "execution_count": null,
   "metadata": {
    "pycharm": {
     "name": "#%%\n"
    }
   },
   "outputs": [],
   "source": [
    "def calc_inflow(df):\n",
    "    window = 28\n",
    "    return (alpha * df.water_level.diff().rolling(window=window).mean()) + (1000 * df.outflow_level.rolling(window=window).mean() )/ 3600"
   ]
  },
  {
   "cell_type": "code",
   "execution_count": null,
   "metadata": {
    "pycharm": {
     "name": "#%%\n"
    }
   },
   "outputs": [],
   "source": [
    "df['inflow'] = calc_inflow(df)"
   ]
  },
  {
   "cell_type": "code",
   "execution_count": null,
   "metadata": {
    "pycharm": {
     "is_executing": true,
     "name": "#%%\n"
    }
   },
   "outputs": [],
   "source": [
    "df"
   ]
  },
  {
   "cell_type": "code",
   "execution_count": null,
   "metadata": {
    "pycharm": {
     "name": "#%%\n"
    }
   },
   "outputs": [],
   "source": [
    "fig = make_subplots(specs=[[{\"secondary_y\": True}]])\n",
    "\n",
    "fig.add_trace(\n",
    "    go.Scatter(x=df.index, y=df.current_tot, name=\"Current Tot\", mode=\"lines\"),\n",
    "    secondary_y=False,\n",
    ")\n",
    "# fig.add_trace(\n",
    "#     go.Scatter(x=df.index, y=df.current_tot, name=\"Current [TOT]\", mode=\"lines\"),\n",
    "#     secondary_y=False,\n",
    "# )\n",
    "fig.add_trace(\n",
    "    go.Scatter(x=df.index, y=df.inflow, name=\"Inflow\", mode=\"lines\"),\n",
    "    secondary_y=True,\n",
    ")"
   ]
  },
  {
   "cell_type": "code",
   "execution_count": null,
   "metadata": {
    "pycharm": {
     "name": "#%%\n"
    }
   },
   "outputs": [],
   "source": [
    "df.loc[df.outflow_level > 0]"
   ]
  }
 ],
 "metadata": {
  "kernelspec": {
   "display_name": "Python 3 (ipykernel)",
   "language": "python",
   "name": "python3"
  },
  "language_info": {
   "codemirror_mode": {
    "name": "ipython",
    "version": 3
   },
   "file_extension": ".py",
   "mimetype": "text/x-python",
   "name": "python",
   "nbconvert_exporter": "python",
   "pygments_lexer": "ipython3",
   "version": "3.9.7"
  }
 },
 "nbformat": 4,
 "nbformat_minor": 1
}