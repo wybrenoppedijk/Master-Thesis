{
 "cells": [
  {
   "cell_type": "code",
   "execution_count": 17,
   "outputs": [],
   "source": [
    "import os\n",
    "from glob import glob\n",
    "import pandas as pd\n",
    "import re\n",
    "\n",
    "import datetime\n",
    "from pumping_station_enum import PUMPING_STATION_ENUM as ps\n",
    "import numpy as np\n",
    "from tqdm import tqdm"
   ],
   "metadata": {
    "collapsed": false,
    "pycharm": {
     "name": "#%%\n"
    }
   }
  },
  {
   "cell_type": "code",
   "execution_count": 2,
   "outputs": [],
   "source": [
    "df = pd.read_pickle('../../output/no_interpolation_all.pkl', compression='gzip')"
   ],
   "metadata": {
    "collapsed": false,
    "pycharm": {
     "name": "#%%\n"
    }
   }
  },
  {
   "cell_type": "code",
   "execution_count": 3,
   "outputs": [],
   "source": [
    "df = df[df.pumping_station == ps.PST232]"
   ],
   "metadata": {
    "collapsed": false,
    "pycharm": {
     "name": "#%%\n"
    }
   }
  },
  {
   "cell_type": "code",
   "execution_count": 4,
   "outputs": [],
   "source": [
    "df['current_1'] = df.apply(lambda r: r.currents[0], axis=1)\n",
    "df['current_2'] = df.apply(lambda r: r.currents[1], axis=1)\n",
    "df.drop(columns=['currents', 'pumping_station'], inplace=True)"
   ],
   "metadata": {
    "collapsed": false,
    "pycharm": {
     "name": "#%%\n"
    }
   }
  },
  {
   "cell_type": "code",
   "execution_count": 5,
   "outputs": [
    {
     "data": {
      "text/plain": "                         water_level  outflow_level  current_tot  current_1  \\\ntime                                                                          \n2020-05-01 00:00:00.000         1.13            0.0          0.0        0.0   \n2020-05-01 00:01:31.268         1.15            0.0          0.0        0.0   \n2020-05-01 00:05:41.157         1.17            0.0          0.0        0.0   \n2020-05-01 00:11:02.430         1.19            0.0          0.0        0.0   \n2020-05-01 00:15:12.358         1.21            0.0          0.0        0.0   \n...                              ...            ...          ...        ...   \n2021-08-31 23:55:44.561         0.72            0.0          0.0        0.0   \n2021-08-31 23:55:56.089         0.71            0.0          0.0        0.0   \n2021-08-31 23:56:07.602         0.72            0.0          0.0        0.0   \n2021-08-31 23:57:50.968         0.73            0.0          0.0        0.0   \n2021-08-31 23:59:34.645         0.74            0.0          0.0        0.0   \n\n                         current_2  \ntime                                \n2020-05-01 00:00:00.000        0.0  \n2020-05-01 00:01:31.268        0.0  \n2020-05-01 00:05:41.157        0.0  \n2020-05-01 00:11:02.430        0.0  \n2020-05-01 00:15:12.358        0.0  \n...                            ...  \n2021-08-31 23:55:44.561        0.0  \n2021-08-31 23:55:56.089        0.0  \n2021-08-31 23:56:07.602        0.0  \n2021-08-31 23:57:50.968        0.0  \n2021-08-31 23:59:34.645        0.0  \n\n[1407518 rows x 5 columns]",
      "text/html": "<div>\n<style scoped>\n    .dataframe tbody tr th:only-of-type {\n        vertical-align: middle;\n    }\n\n    .dataframe tbody tr th {\n        vertical-align: top;\n    }\n\n    .dataframe thead th {\n        text-align: right;\n    }\n</style>\n<table border=\"1\" class=\"dataframe\">\n  <thead>\n    <tr style=\"text-align: right;\">\n      <th></th>\n      <th>water_level</th>\n      <th>outflow_level</th>\n      <th>current_tot</th>\n      <th>current_1</th>\n      <th>current_2</th>\n    </tr>\n    <tr>\n      <th>time</th>\n      <th></th>\n      <th></th>\n      <th></th>\n      <th></th>\n      <th></th>\n    </tr>\n  </thead>\n  <tbody>\n    <tr>\n      <th>2020-05-01 00:00:00.000</th>\n      <td>1.13</td>\n      <td>0.0</td>\n      <td>0.0</td>\n      <td>0.0</td>\n      <td>0.0</td>\n    </tr>\n    <tr>\n      <th>2020-05-01 00:01:31.268</th>\n      <td>1.15</td>\n      <td>0.0</td>\n      <td>0.0</td>\n      <td>0.0</td>\n      <td>0.0</td>\n    </tr>\n    <tr>\n      <th>2020-05-01 00:05:41.157</th>\n      <td>1.17</td>\n      <td>0.0</td>\n      <td>0.0</td>\n      <td>0.0</td>\n      <td>0.0</td>\n    </tr>\n    <tr>\n      <th>2020-05-01 00:11:02.430</th>\n      <td>1.19</td>\n      <td>0.0</td>\n      <td>0.0</td>\n      <td>0.0</td>\n      <td>0.0</td>\n    </tr>\n    <tr>\n      <th>2020-05-01 00:15:12.358</th>\n      <td>1.21</td>\n      <td>0.0</td>\n      <td>0.0</td>\n      <td>0.0</td>\n      <td>0.0</td>\n    </tr>\n    <tr>\n      <th>...</th>\n      <td>...</td>\n      <td>...</td>\n      <td>...</td>\n      <td>...</td>\n      <td>...</td>\n    </tr>\n    <tr>\n      <th>2021-08-31 23:55:44.561</th>\n      <td>0.72</td>\n      <td>0.0</td>\n      <td>0.0</td>\n      <td>0.0</td>\n      <td>0.0</td>\n    </tr>\n    <tr>\n      <th>2021-08-31 23:55:56.089</th>\n      <td>0.71</td>\n      <td>0.0</td>\n      <td>0.0</td>\n      <td>0.0</td>\n      <td>0.0</td>\n    </tr>\n    <tr>\n      <th>2021-08-31 23:56:07.602</th>\n      <td>0.72</td>\n      <td>0.0</td>\n      <td>0.0</td>\n      <td>0.0</td>\n      <td>0.0</td>\n    </tr>\n    <tr>\n      <th>2021-08-31 23:57:50.968</th>\n      <td>0.73</td>\n      <td>0.0</td>\n      <td>0.0</td>\n      <td>0.0</td>\n      <td>0.0</td>\n    </tr>\n    <tr>\n      <th>2021-08-31 23:59:34.645</th>\n      <td>0.74</td>\n      <td>0.0</td>\n      <td>0.0</td>\n      <td>0.0</td>\n      <td>0.0</td>\n    </tr>\n  </tbody>\n</table>\n<p>1407518 rows × 5 columns</p>\n</div>"
     },
     "execution_count": 5,
     "metadata": {},
     "output_type": "execute_result"
    }
   ],
   "source": [
    "df"
   ],
   "metadata": {
    "collapsed": false,
    "pycharm": {
     "name": "#%%\n"
    }
   }
  },
  {
   "cell_type": "markdown",
   "source": [
    "Current of 100 on one or both of the motors:"
   ],
   "metadata": {
    "collapsed": false
   }
  },
  {
   "cell_type": "code",
   "execution_count": 6,
   "outputs": [],
   "source": [
    "df_c = df[(df.current_1 == 100) | (df.current_2 == 100)]"
   ],
   "metadata": {
    "collapsed": false,
    "pycharm": {
     "name": "#%%\n"
    }
   }
  },
  {
   "cell_type": "code",
   "execution_count": 7,
   "outputs": [
    {
     "data": {
      "text/plain": "                         water_level  outflow_level  current_tot  current_1  \\\ntime                                                                          \n2020-10-14 09:33:46.615         0.55          51.12        200.0      100.0   \n2020-10-14 09:34:02.387         0.65          51.12        200.0      100.0   \n2020-10-14 09:34:17.753         0.74           0.00        200.0      100.0   \n2020-10-14 09:34:27.986         0.79           0.00        200.0      100.0   \n2020-10-14 09:34:38.235         0.87           0.00        200.0      100.0   \n...                              ...            ...          ...        ...   \n2021-02-22 15:27:49.776         0.71         500.00        200.0      100.0   \n2021-02-22 15:28:35.418         0.72         500.00        200.0      100.0   \n2021-02-22 15:28:58.893         0.73         500.00        200.0      100.0   \n2021-02-22 15:29:21.386         0.74         500.00        200.0      100.0   \n2021-05-18 09:16:25.964         0.63           0.00        200.0      100.0   \n\n                         current_2  \ntime                                \n2020-10-14 09:33:46.615      100.0  \n2020-10-14 09:34:02.387      100.0  \n2020-10-14 09:34:17.753      100.0  \n2020-10-14 09:34:27.986      100.0  \n2020-10-14 09:34:38.235      100.0  \n...                            ...  \n2021-02-22 15:27:49.776      100.0  \n2021-02-22 15:28:35.418      100.0  \n2021-02-22 15:28:58.893      100.0  \n2021-02-22 15:29:21.386      100.0  \n2021-05-18 09:16:25.964      100.0  \n\n[7681 rows x 5 columns]",
      "text/html": "<div>\n<style scoped>\n    .dataframe tbody tr th:only-of-type {\n        vertical-align: middle;\n    }\n\n    .dataframe tbody tr th {\n        vertical-align: top;\n    }\n\n    .dataframe thead th {\n        text-align: right;\n    }\n</style>\n<table border=\"1\" class=\"dataframe\">\n  <thead>\n    <tr style=\"text-align: right;\">\n      <th></th>\n      <th>water_level</th>\n      <th>outflow_level</th>\n      <th>current_tot</th>\n      <th>current_1</th>\n      <th>current_2</th>\n    </tr>\n    <tr>\n      <th>time</th>\n      <th></th>\n      <th></th>\n      <th></th>\n      <th></th>\n      <th></th>\n    </tr>\n  </thead>\n  <tbody>\n    <tr>\n      <th>2020-10-14 09:33:46.615</th>\n      <td>0.55</td>\n      <td>51.12</td>\n      <td>200.0</td>\n      <td>100.0</td>\n      <td>100.0</td>\n    </tr>\n    <tr>\n      <th>2020-10-14 09:34:02.387</th>\n      <td>0.65</td>\n      <td>51.12</td>\n      <td>200.0</td>\n      <td>100.0</td>\n      <td>100.0</td>\n    </tr>\n    <tr>\n      <th>2020-10-14 09:34:17.753</th>\n      <td>0.74</td>\n      <td>0.00</td>\n      <td>200.0</td>\n      <td>100.0</td>\n      <td>100.0</td>\n    </tr>\n    <tr>\n      <th>2020-10-14 09:34:27.986</th>\n      <td>0.79</td>\n      <td>0.00</td>\n      <td>200.0</td>\n      <td>100.0</td>\n      <td>100.0</td>\n    </tr>\n    <tr>\n      <th>2020-10-14 09:34:38.235</th>\n      <td>0.87</td>\n      <td>0.00</td>\n      <td>200.0</td>\n      <td>100.0</td>\n      <td>100.0</td>\n    </tr>\n    <tr>\n      <th>...</th>\n      <td>...</td>\n      <td>...</td>\n      <td>...</td>\n      <td>...</td>\n      <td>...</td>\n    </tr>\n    <tr>\n      <th>2021-02-22 15:27:49.776</th>\n      <td>0.71</td>\n      <td>500.00</td>\n      <td>200.0</td>\n      <td>100.0</td>\n      <td>100.0</td>\n    </tr>\n    <tr>\n      <th>2021-02-22 15:28:35.418</th>\n      <td>0.72</td>\n      <td>500.00</td>\n      <td>200.0</td>\n      <td>100.0</td>\n      <td>100.0</td>\n    </tr>\n    <tr>\n      <th>2021-02-22 15:28:58.893</th>\n      <td>0.73</td>\n      <td>500.00</td>\n      <td>200.0</td>\n      <td>100.0</td>\n      <td>100.0</td>\n    </tr>\n    <tr>\n      <th>2021-02-22 15:29:21.386</th>\n      <td>0.74</td>\n      <td>500.00</td>\n      <td>200.0</td>\n      <td>100.0</td>\n      <td>100.0</td>\n    </tr>\n    <tr>\n      <th>2021-05-18 09:16:25.964</th>\n      <td>0.63</td>\n      <td>0.00</td>\n      <td>200.0</td>\n      <td>100.0</td>\n      <td>100.0</td>\n    </tr>\n  </tbody>\n</table>\n<p>7681 rows × 5 columns</p>\n</div>"
     },
     "execution_count": 7,
     "metadata": {},
     "output_type": "execute_result"
    }
   ],
   "source": [
    "df_c"
   ],
   "metadata": {
    "collapsed": false,
    "pycharm": {
     "name": "#%%\n"
    }
   }
  },
  {
   "cell_type": "code",
   "execution_count": 8,
   "outputs": [
    {
     "data": {
      "text/plain": "time\n2020-10-14      36\n2020-12-09       2\n2020-12-14     926\n2020-12-15    1158\n2020-12-16    2025\n2020-12-17    2455\n2020-12-18     983\n2021-01-09      66\n2021-02-22      29\n2021-05-18       1\nName: count, dtype: int64"
     },
     "execution_count": 8,
     "metadata": {},
     "output_type": "execute_result"
    }
   ],
   "source": [
    "df_cg = df_c['current_tot'].resample('D').count().rename('count')\n",
    "df_cg = df_cg[df_cg > 0]\n",
    "df_cg"
   ],
   "metadata": {
    "collapsed": false,
    "pycharm": {
     "name": "#%%\n"
    }
   }
  },
  {
   "cell_type": "code",
   "execution_count": 9,
   "outputs": [
    {
     "name": "stdout",
     "output_type": "stream",
     "text": [
      "7681 occurences spread out over 10 days\n"
     ]
    }
   ],
   "source": [
    "print(f'{len(df_c)} occurences spread out over {len(df_cg)} days')"
   ],
   "metadata": {
    "collapsed": false,
    "pycharm": {
     "name": "#%%\n"
    }
   }
  },
  {
   "cell_type": "markdown",
   "source": [
    "There one consecutive between 2020-12-14 and 2020-12-18 where p1 sensor fails most of the time, but sometimes works"
   ],
   "metadata": {
    "collapsed": false
   }
  },
  {
   "cell_type": "code",
   "execution_count": 10,
   "outputs": [],
   "source": [
    "df_problem_20201214_20201218 = df['2020-12-14':'2020-12-18']"
   ],
   "metadata": {
    "collapsed": false,
    "pycharm": {
     "name": "#%%\n"
    }
   }
  },
  {
   "cell_type": "markdown",
   "source": [
    "# Calculate average outflow when p1 or p2 or (p1+p2) is active\n",
    "## Create TURNED-ON cycles"
   ],
   "metadata": {
    "collapsed": false
   }
  },
  {
   "cell_type": "code",
   "execution_count": 40,
   "outputs": [
    {
     "data": {
      "text/plain": "                         water_level  outflow_level  current_tot  current_1  \\\ntime                                                                          \n2020-11-01 01:19:25.855         1.25           0.00          7.4        7.4   \n2020-11-01 01:19:30.972         1.25           0.00          8.6        8.6   \n2020-11-01 01:19:32.579         1.22          55.44          8.6        8.6   \n2020-11-01 01:19:37.696         1.20          55.44          8.6        8.6   \n2020-11-01 01:19:42.672         1.17          55.44          8.6        8.6   \n...                              ...            ...          ...        ...   \n2020-11-24 08:55:43.316         0.57          59.04          8.6        8.6   \n2020-11-24 08:55:54.829         0.51          59.04          8.6        8.6   \n2020-11-24 10:05:28.314         0.21           0.00         21.8       21.8   \n2020-11-24 10:05:29.609         0.21          59.04         21.8       21.8   \n2020-11-24 10:13:19.793        10.00         500.00          8.8        8.8   \n\n                         current_2  \ntime                                \n2020-11-01 01:19:25.855        0.0  \n2020-11-01 01:19:30.972        0.0  \n2020-11-01 01:19:32.579        0.0  \n2020-11-01 01:19:37.696        0.0  \n2020-11-01 01:19:42.672        0.0  \n...                            ...  \n2020-11-24 08:55:43.316        0.0  \n2020-11-24 08:55:54.829        0.0  \n2020-11-24 10:05:28.314        0.0  \n2020-11-24 10:05:29.609        0.0  \n2020-11-24 10:13:19.793        0.0  \n\n[5740 rows x 5 columns]",
      "text/html": "<div>\n<style scoped>\n    .dataframe tbody tr th:only-of-type {\n        vertical-align: middle;\n    }\n\n    .dataframe tbody tr th {\n        vertical-align: top;\n    }\n\n    .dataframe thead th {\n        text-align: right;\n    }\n</style>\n<table border=\"1\" class=\"dataframe\">\n  <thead>\n    <tr style=\"text-align: right;\">\n      <th></th>\n      <th>water_level</th>\n      <th>outflow_level</th>\n      <th>current_tot</th>\n      <th>current_1</th>\n      <th>current_2</th>\n    </tr>\n    <tr>\n      <th>time</th>\n      <th></th>\n      <th></th>\n      <th></th>\n      <th></th>\n      <th></th>\n    </tr>\n  </thead>\n  <tbody>\n    <tr>\n      <th>2020-11-01 01:19:25.855</th>\n      <td>1.25</td>\n      <td>0.00</td>\n      <td>7.4</td>\n      <td>7.4</td>\n      <td>0.0</td>\n    </tr>\n    <tr>\n      <th>2020-11-01 01:19:30.972</th>\n      <td>1.25</td>\n      <td>0.00</td>\n      <td>8.6</td>\n      <td>8.6</td>\n      <td>0.0</td>\n    </tr>\n    <tr>\n      <th>2020-11-01 01:19:32.579</th>\n      <td>1.22</td>\n      <td>55.44</td>\n      <td>8.6</td>\n      <td>8.6</td>\n      <td>0.0</td>\n    </tr>\n    <tr>\n      <th>2020-11-01 01:19:37.696</th>\n      <td>1.20</td>\n      <td>55.44</td>\n      <td>8.6</td>\n      <td>8.6</td>\n      <td>0.0</td>\n    </tr>\n    <tr>\n      <th>2020-11-01 01:19:42.672</th>\n      <td>1.17</td>\n      <td>55.44</td>\n      <td>8.6</td>\n      <td>8.6</td>\n      <td>0.0</td>\n    </tr>\n    <tr>\n      <th>...</th>\n      <td>...</td>\n      <td>...</td>\n      <td>...</td>\n      <td>...</td>\n      <td>...</td>\n    </tr>\n    <tr>\n      <th>2020-11-24 08:55:43.316</th>\n      <td>0.57</td>\n      <td>59.04</td>\n      <td>8.6</td>\n      <td>8.6</td>\n      <td>0.0</td>\n    </tr>\n    <tr>\n      <th>2020-11-24 08:55:54.829</th>\n      <td>0.51</td>\n      <td>59.04</td>\n      <td>8.6</td>\n      <td>8.6</td>\n      <td>0.0</td>\n    </tr>\n    <tr>\n      <th>2020-11-24 10:05:28.314</th>\n      <td>0.21</td>\n      <td>0.00</td>\n      <td>21.8</td>\n      <td>21.8</td>\n      <td>0.0</td>\n    </tr>\n    <tr>\n      <th>2020-11-24 10:05:29.609</th>\n      <td>0.21</td>\n      <td>59.04</td>\n      <td>21.8</td>\n      <td>21.8</td>\n      <td>0.0</td>\n    </tr>\n    <tr>\n      <th>2020-11-24 10:13:19.793</th>\n      <td>10.00</td>\n      <td>500.00</td>\n      <td>8.8</td>\n      <td>8.8</td>\n      <td>0.0</td>\n    </tr>\n  </tbody>\n</table>\n<p>5740 rows × 5 columns</p>\n</div>"
     },
     "execution_count": 40,
     "metadata": {},
     "output_type": "execute_result"
    }
   ],
   "source": [
    "# Correct period:\n",
    "df_correct = df['2020-11-01':'2020-11-30']\n",
    "df_correct[(df_correct.current_1 > 0) & (df_correct.current_2 == 0)]"
   ],
   "metadata": {
    "collapsed": false,
    "pycharm": {
     "name": "#%%\n"
    }
   }
  },
  {
   "cell_type": "code",
   "execution_count": 48,
   "outputs": [
    {
     "name": "stderr",
     "output_type": "stream",
     "text": [
      "  1%|          | 7527/1407518 [00:01<04:27, 5242.25it/s]\n"
     ]
    },
    {
     "ename": "Exception",
     "evalue": "Impossible state with 2020-05-04 17:05:27.642000",
     "output_type": "error",
     "traceback": [
      "\u001B[0;31m---------------------------------------------------------------------------\u001B[0m",
      "\u001B[0;31mException\u001B[0m                                 Traceback (most recent call last)",
      "Input \u001B[0;32mIn [20]\u001B[0m, in \u001B[0;36m<module>\u001B[0;34m\u001B[0m\n\u001B[1;32m    105\u001B[0m         append(cycle_count, cycle_step, \u001B[38;5;124m\"\u001B[39m\u001B[38;5;124m[P2]\u001B[39m\u001B[38;5;124m\"\u001B[39m,\u001B[38;5;124m\"\u001B[39m\u001B[38;5;124m[P1,P2][P2]\u001B[39m\u001B[38;5;124m\"\u001B[39m)\n\u001B[1;32m    106\u001B[0m     \u001B[38;5;28;01melse\u001B[39;00m:\n\u001B[0;32m--> 107\u001B[0m         \u001B[38;5;28;01mraise\u001B[39;00m \u001B[38;5;167;01mException\u001B[39;00m(\u001B[38;5;124mf\u001B[39m\u001B[38;5;124m\"\u001B[39m\u001B[38;5;124mImpossible state with \u001B[39m\u001B[38;5;132;01m{\u001B[39;00mdate\u001B[38;5;132;01m}\u001B[39;00m\u001B[38;5;124m\"\u001B[39m)\n\u001B[1;32m    108\u001B[0m \u001B[38;5;66;03m# No Transition: Stable on P1, P2 or P1,P2\u001B[39;00m\n\u001B[1;32m    109\u001B[0m \u001B[38;5;28;01melif\u001B[39;00m flowing_current(now\u001B[38;5;241m.\u001B[39mcurrent_tot):  \u001B[38;5;66;03m# CURRENT STABLE ON\u001B[39;00m\n",
      "\u001B[0;31mException\u001B[0m: Impossible state with 2020-05-04 17:05:27.642000"
     ]
    },
    {
     "name": "stderr",
     "output_type": "stream",
     "text": [
      "100%|█████████▉| 1407515/1407518 [04:35<00:00, 5100.63it/s]\n"
     ]
    },
    {
     "ename": "IndexError",
     "evalue": "single positional indexer is out-of-bounds",
     "output_type": "error",
     "traceback": [
      "\u001B[0;31m---------------------------------------------------------------------------\u001B[0m",
      "\u001B[0;31mIndexError\u001B[0m                                Traceback (most recent call last)",
      "Input \u001B[0;32mIn [48]\u001B[0m, in \u001B[0;36m<module>\u001B[0;34m\u001B[0m\n\u001B[1;32m     47\u001B[0m     append(np\u001B[38;5;241m.\u001B[39mnan, np\u001B[38;5;241m.\u001B[39mnan, \u001B[38;5;124m\"\u001B[39m\u001B[38;5;124m\"\u001B[39m, \u001B[38;5;124m\"\u001B[39m\u001B[38;5;124m\"\u001B[39m)\n\u001B[1;32m     48\u001B[0m previous, previous_l2, previous_l3 \u001B[38;5;241m=\u001B[39m df\u001B[38;5;241m.\u001B[39miloc[ix \u001B[38;5;241m-\u001B[39m \u001B[38;5;241m1\u001B[39m], df\u001B[38;5;241m.\u001B[39miloc[ix \u001B[38;5;241m-\u001B[39m \u001B[38;5;241m2\u001B[39m], df\u001B[38;5;241m.\u001B[39miloc[ix \u001B[38;5;241m-\u001B[39m \u001B[38;5;241m3\u001B[39m]\n\u001B[0;32m---> 49\u001B[0m \u001B[38;5;28mnext\u001B[39m, next_l2, next_l3 \u001B[38;5;241m=\u001B[39m df\u001B[38;5;241m.\u001B[39miloc[ix \u001B[38;5;241m+\u001B[39m \u001B[38;5;241m1\u001B[39m],df\u001B[38;5;241m.\u001B[39miloc[ix \u001B[38;5;241m+\u001B[39m \u001B[38;5;241m2\u001B[39m],\u001B[43mdf\u001B[49m\u001B[38;5;241;43m.\u001B[39;49m\u001B[43miloc\u001B[49m\u001B[43m[\u001B[49m\u001B[43mix\u001B[49m\u001B[43m \u001B[49m\u001B[38;5;241;43m+\u001B[39;49m\u001B[43m \u001B[49m\u001B[38;5;241;43m3\u001B[39;49m\u001B[43m]\u001B[49m\n\u001B[1;32m     51\u001B[0m \u001B[38;5;66;03m# No outflow and motors are disabled\u001B[39;00m\n\u001B[1;32m     52\u001B[0m \u001B[38;5;28;01mif\u001B[39;00m (now\u001B[38;5;241m.\u001B[39mcurrent_tot \u001B[38;5;241m==\u001B[39m \u001B[38;5;241m0\u001B[39m) \u001B[38;5;241m&\u001B[39m (now\u001B[38;5;241m.\u001B[39moutflow_level \u001B[38;5;241m==\u001B[39m \u001B[38;5;241m0\u001B[39m):\n",
      "File \u001B[0;32m~/miniforge3/envs/MLOPS/lib/python3.9/site-packages/pandas/core/indexing.py:931\u001B[0m, in \u001B[0;36m_LocationIndexer.__getitem__\u001B[0;34m(self, key)\u001B[0m\n\u001B[1;32m    928\u001B[0m axis \u001B[38;5;241m=\u001B[39m \u001B[38;5;28mself\u001B[39m\u001B[38;5;241m.\u001B[39maxis \u001B[38;5;129;01mor\u001B[39;00m \u001B[38;5;241m0\u001B[39m\n\u001B[1;32m    930\u001B[0m maybe_callable \u001B[38;5;241m=\u001B[39m com\u001B[38;5;241m.\u001B[39mapply_if_callable(key, \u001B[38;5;28mself\u001B[39m\u001B[38;5;241m.\u001B[39mobj)\n\u001B[0;32m--> 931\u001B[0m \u001B[38;5;28;01mreturn\u001B[39;00m \u001B[38;5;28;43mself\u001B[39;49m\u001B[38;5;241;43m.\u001B[39;49m\u001B[43m_getitem_axis\u001B[49m\u001B[43m(\u001B[49m\u001B[43mmaybe_callable\u001B[49m\u001B[43m,\u001B[49m\u001B[43m \u001B[49m\u001B[43maxis\u001B[49m\u001B[38;5;241;43m=\u001B[39;49m\u001B[43maxis\u001B[49m\u001B[43m)\u001B[49m\n",
      "File \u001B[0;32m~/miniforge3/envs/MLOPS/lib/python3.9/site-packages/pandas/core/indexing.py:1566\u001B[0m, in \u001B[0;36m_iLocIndexer._getitem_axis\u001B[0;34m(self, key, axis)\u001B[0m\n\u001B[1;32m   1563\u001B[0m     \u001B[38;5;28;01mraise\u001B[39;00m \u001B[38;5;167;01mTypeError\u001B[39;00m(\u001B[38;5;124m\"\u001B[39m\u001B[38;5;124mCannot index by location index with a non-integer key\u001B[39m\u001B[38;5;124m\"\u001B[39m)\n\u001B[1;32m   1565\u001B[0m \u001B[38;5;66;03m# validate the location\u001B[39;00m\n\u001B[0;32m-> 1566\u001B[0m \u001B[38;5;28;43mself\u001B[39;49m\u001B[38;5;241;43m.\u001B[39;49m\u001B[43m_validate_integer\u001B[49m\u001B[43m(\u001B[49m\u001B[43mkey\u001B[49m\u001B[43m,\u001B[49m\u001B[43m \u001B[49m\u001B[43maxis\u001B[49m\u001B[43m)\u001B[49m\n\u001B[1;32m   1568\u001B[0m \u001B[38;5;28;01mreturn\u001B[39;00m \u001B[38;5;28mself\u001B[39m\u001B[38;5;241m.\u001B[39mobj\u001B[38;5;241m.\u001B[39m_ixs(key, axis\u001B[38;5;241m=\u001B[39maxis)\n",
      "File \u001B[0;32m~/miniforge3/envs/MLOPS/lib/python3.9/site-packages/pandas/core/indexing.py:1500\u001B[0m, in \u001B[0;36m_iLocIndexer._validate_integer\u001B[0;34m(self, key, axis)\u001B[0m\n\u001B[1;32m   1498\u001B[0m len_axis \u001B[38;5;241m=\u001B[39m \u001B[38;5;28mlen\u001B[39m(\u001B[38;5;28mself\u001B[39m\u001B[38;5;241m.\u001B[39mobj\u001B[38;5;241m.\u001B[39m_get_axis(axis))\n\u001B[1;32m   1499\u001B[0m \u001B[38;5;28;01mif\u001B[39;00m key \u001B[38;5;241m>\u001B[39m\u001B[38;5;241m=\u001B[39m len_axis \u001B[38;5;129;01mor\u001B[39;00m key \u001B[38;5;241m<\u001B[39m \u001B[38;5;241m-\u001B[39mlen_axis:\n\u001B[0;32m-> 1500\u001B[0m     \u001B[38;5;28;01mraise\u001B[39;00m \u001B[38;5;167;01mIndexError\u001B[39;00m(\u001B[38;5;124m\"\u001B[39m\u001B[38;5;124msingle positional indexer is out-of-bounds\u001B[39m\u001B[38;5;124m\"\u001B[39m)\n",
      "\u001B[0;31mIndexError\u001B[0m: single positional indexer is out-of-bounds"
     ]
    }
   ],
   "source": [
    "current_tolerance = 0\n",
    "current_change_threshold = 1\n",
    "\n",
    "outflow_tolerance = 0\n",
    "outflow_delay, outflow_change_threshold = 2, 10\n",
    "\n",
    "# Fields added as column to DF\n",
    "cycle_nrs = []  # Which cycle number. NaN means no cycle\n",
    "cycle_steps = []  # How far are we progressed in current cycle\n",
    "cycle_states = []  # [P1], [P2], or [P1+P2]\n",
    "cycle_transitions = []  # [][P1], [][P2], [][P1+P2], [P1][P1+P2], [P2][P1+P2], [P1+P2][P1], [P1+P2][P2], [P1][], [P2][], [P1+P2][],\n",
    "errors = []\n",
    "\n",
    "cycle_count = 0\n",
    "cycle_step = 0\n",
    "\n",
    "def append(cycle_nr, cycle_step_l, cycle_state, cycle_transition):\n",
    "    cycle_nrs.append(cycle_nr)\n",
    "    cycle_steps.append(cycle_step_l)\n",
    "    cycle_states.append(cycle_state)\n",
    "    cycle_transitions.append(cycle_transition)\n",
    "    errors.append(None)\n",
    "    global cycle_step\n",
    "    cycle_step += 1\n",
    "\n",
    "def append_error(e):\n",
    "    cycle_nrs.append(np.nan)\n",
    "    cycle_steps.append(np.nan)\n",
    "    cycle_states.append(None)\n",
    "    cycle_transitions.append(None)\n",
    "    errors.append(e)\n",
    "    global cycle_step\n",
    "    cycle_step += 1\n",
    "\n",
    "\n",
    "def flowing_current(c):\n",
    "    return c > current_tolerance\n",
    "\n",
    "\n",
    "def flowing_outflow(o):\n",
    "    return o > outflow_tolerance\n",
    "\n",
    "\n",
    "for ix, (date, now) in tqdm(enumerate(df.iterrows()), total=len(df)):\n",
    "    # Skip first 3 rows and last row  => We cannot compare to previous rows\n",
    "    if (ix < 2) | (ix > len(df)-2):\n",
    "        append(np.nan, np.nan, \"\", \"\")\n",
    "    previous, previous_l2, previous_l3 = df.iloc[ix - 1], df.iloc[ix - 2], df.iloc[ix - 3]\n",
    "    next, next_l2, next_l3 = df.iloc[ix + 1],df.iloc[ix + 2],df.iloc[ix + 3]\n",
    "\n",
    "    # No outflow and motors are disabled\n",
    "    if (now.current_tot == 0) & (now.outflow_level == 0):\n",
    "        append(np.nan, np.nan, \"\", \"\")\n",
    "\n",
    "    # Check for State Changes:\n",
    "    # ==================================================================================\n",
    "    # Transition:  [][P1], [][P2], [][P1+P2], [P1][P1+P2], [P2][P1+P2],  # CURRENT INCREASE\n",
    "    if flowing_current(now.current_tot) & (now.current_tot - previous.current_tot > current_change_threshold):\n",
    "        if flowing_outflow(now.outflow_level):\n",
    "            append_error(\"Expected delay in outflow not found\")\n",
    "            continue\n",
    "        if not flowing_outflow(next_l3.outflow_level):\n",
    "            append_error(\"Outflow does not start after 3 samples\")\n",
    "            continue\n",
    "        # Transition:  [][P1], [][P2], [][P1+P2]\n",
    "        if not flowing_current(previous.current_tot):\n",
    "            if not (flowing_current(now.current_1) | flowing_current(now.current_2)):\n",
    "                append_error(\"Increase in current, but pumps are disabled\")\n",
    "                continue\n",
    "            # Transition:  [][P1]\n",
    "            if (flowing_current(now.current_1)) & (not flowing_current(now.current_2)):\n",
    "                append(cycle_count, cycle_step, \"[P1]\",\"[][P1]\")\n",
    "            # Transition:  [][P2]\n",
    "            elif (flowing_current(now.current_2)) & (not flowing_current(now.current_1)):\n",
    "                append(cycle_count, cycle_step, \"[P2]\",\"[][P2]\")\n",
    "            # Transition:  [][P1+P2]\n",
    "            elif (flowing_current(now.current_2)) & (flowing_current(now.current_1)):\n",
    "                append(cycle_count, cycle_step, \"[P1,P2]\",\"[][P1,P2]\")\n",
    "            else:\n",
    "                raise Exception(f\"Impossible state with {date}\")\n",
    "\n",
    "        # Transition:  [P1][P1+P2], [P2][P1+P2]\n",
    "        else:\n",
    "            both_draw_current = flowing_current(now.current_1) & flowing_current(previous.current_2)\n",
    "            if not both_draw_current:\n",
    "                append_error(\"Current increased but a second pump is not activated\")\n",
    "                continue\n",
    "            # Transition:  [P1][P1+P2]\n",
    "            if (flowing_current(previous.current_1)) & (not flowing_current(previous.current_2)):\n",
    "                append(cycle_count, cycle_step, \"[P1,P2]\",\"[P1][P1,P2]\")\n",
    "            # Transition:  [P2][P1+P2]\n",
    "            elif (flowing_current(previous.current_2)) & (not flowing_current(previous.current_1)):\n",
    "                append(cycle_count, cycle_step, \"[P1,P2]\",\"[P2][P1,P2]\")\n",
    "            else:\n",
    "                raise Exception(f\"Impossible state with {date}\")\n",
    "    # Transition:  [P1+P2][P1], [P1+P2][P2]                     # CURRENT DECREASE\n",
    "    elif flowing_current(now.current_tot) & (previous.current_tot - now.current_tot > current_change_threshold):\n",
    "        if flowing_current(now.current_1) & flowing_current(now.current_2):\n",
    "            append_error(\"Current decreased but both pumps still in operation\")\n",
    "            continue\n",
    "        # Transition:  [P1+P2][P1]\n",
    "        if (flowing_current(now.current_1)) & (not flowing_current(now.current_2)):\n",
    "            append(cycle_count, cycle_step, \"[P1]\",\"[P1,P2][P1]\")\n",
    "        if (flowing_current(now.current_2)) & (not flowing_current(now.current_1)):\n",
    "            append(cycle_count, cycle_step, \"[P2]\",\"[P1,P2][P2]\")\n",
    "        else:\n",
    "            raise Exception(f\"Impossible state with {date}\")\n",
    "    # No Transition: Stable on P1, P2 or P1,P2\n",
    "    elif flowing_current(now.current_tot):  # CURRENT STABLE ON\n",
    "        if not abs(previous.current_tot - now.current_tot) <= current_change_threshold:\n",
    "            append_error(\"Current is fluctuating\")\n",
    "            continue\n",
    "        if not flowing_outflow(now.outflow_level):\n",
    "            append_error(\"Pump(s) is running dry\")\n",
    "            continue\n",
    "        if not next.water_level < now.water_level:\n",
    "            append_error('Water level does not decrease while pumps are on for a while')\n",
    "            continue\n",
    "        if (flowing_current(now.current_1)) & (not flowing_current(now.current_2)):\n",
    "            append(cycle_count, cycle_step, \"[P1]\",\"\")\n",
    "        elif (flowing_current(now.current_2)) & (not flowing_current(now.current_1)):\n",
    "            append(cycle_count, cycle_step, \"[P2]\",\"\")\n",
    "        elif (flowing_current(now.current_2)) & (flowing_current(now.current_1)):\n",
    "            append(cycle_count, cycle_step, \"[P1,P2]\",\"\")\n",
    "        else:\n",
    "            raise Exception(f\"Impossible state with {date}\")\n",
    "    # Transition:  [P1][], [P2][], [P1+P2][]\n",
    "    elif not flowing_current(now.current_tot):\n",
    "        # Transition:  [P1][], [P2][], [P1+P2][]\n",
    "        if flowing_outflow(now.outflow_level):\n",
    "            if not flowing_current(previous_l3.current_tot):\n",
    "                append_error(\"Pump is emitting water but operation stopped long time ago\")\n",
    "                continue\n",
    "            # Transition:  [P1][]\n",
    "            if (flowing_current(previous_l3.current_1)) & (not flowing_current(previous_l3.current_2)):\n",
    "                append(cycle_count, cycle_step, \"[P1]\",\"[P1][]\")\n",
    "            # Transition:  [P2][]\n",
    "            elif (flowing_current(previous_l3.current_2)) & (not flowing_current(previous_l3.current_1)):\n",
    "                append(cycle_count, cycle_step, \"[P2]\",\"[P2][]\")\n",
    "            # Transition:  [P1+P2][]\n",
    "            elif (flowing_current(previous_l3.current_1)) & (flowing_current(previous_l3.current_2)):\n",
    "                append(cycle_count, cycle_step, \"[P1,P2]\",\"[P1,P2][]\")\n",
    "            else:\n",
    "                raise Exception(f\"Impossible state with {date}\")\n",
    "        else:\n",
    "            if flowing_outflow(previous.outflow_level):\n",
    "                cycle_count += 1\n",
    "                append(np.nan, np.nan, None, None)\n",
    "            else:\n",
    "                if not next.water_level > now.water_level:\n",
    "                    append_error(\"Water level should be rising\")\n",
    "                    continue\n",
    "                append(np.nan, np.nan, None, None)\n",
    "    else:\n",
    "        raise Exception(f\"Impossible state with {date}\")\n"
   ],
   "metadata": {
    "collapsed": false,
    "pycharm": {
     "name": "#%%\n"
    }
   }
  },
  {
   "cell_type": "code",
   "execution_count": null,
   "outputs": [],
   "source": [
    "df_cycles = pd.DataFrame()"
   ],
   "metadata": {
    "collapsed": false,
    "pycharm": {
     "name": "#%%\n"
    }
   }
  }
 ],
 "metadata": {
  "kernelspec": {
   "display_name": "Python 3",
   "language": "python",
   "name": "python3"
  },
  "language_info": {
   "codemirror_mode": {
    "name": "ipython",
    "version": 2
   },
   "file_extension": ".py",
   "mimetype": "text/x-python",
   "name": "python",
   "nbconvert_exporter": "python",
   "pygments_lexer": "ipython2",
   "version": "2.7.6"
  }
 },
 "nbformat": 4,
 "nbformat_minor": 0
}