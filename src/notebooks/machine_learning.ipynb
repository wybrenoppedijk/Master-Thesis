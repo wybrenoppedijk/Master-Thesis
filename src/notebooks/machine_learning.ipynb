{
 "cells": [
  {
   "cell_type": "code",
   "execution_count": 1,
   "metadata": {
    "collapsed": true
   },
   "outputs": [],
   "source": [
    "import warnings\n",
    "warnings.simplefilter(action='ignore', category=FutureWarning)\n",
    "import pandas as pd\n",
    "pd.options.mode.chained_assignment = None\n",
    "import  numpy as np\n",
    "import seaborn as sns\n",
    "import plotly.express as px\n",
    "import plotly.graph_objects as go\n",
    "from xgboost import XGBRegressor\n",
    "import lightgbm as lgb\n",
    "\n",
    "from sklearn.model_selection import train_test_split\n",
    "from sklearn.tree import DecisionTreeRegressor\n",
    "from sklearn.dummy import DummyRegressor\n",
    "from sklearn.model_selection import cross_val_score, GridSearchCV\n",
    "from sklearn.metrics import mean_squared_error\n",
    "from sklearn.ensemble import RandomForestRegressor\n",
    "from sklearn.svm import SVR\n"
   ]
  },
  {
   "cell_type": "code",
   "execution_count": 2,
   "outputs": [],
   "source": [
    "df = pd.read_pickle('../../output/239-3600-we-wa.pkl', compression='gzip')"
   ],
   "metadata": {
    "collapsed": false,
    "pycharm": {
     "name": "#%%\n"
    }
   }
  },
  {
   "cell_type": "markdown",
   "source": [
    "# Filter out the columns"
   ],
   "metadata": {
    "collapsed": false
   }
  },
  {
   "cell_type": "code",
   "execution_count": 3,
   "outputs": [],
   "source": [
    "df_r = df[['prcp', 'clean_water_usage_day', 'outflow_level']]"
   ],
   "metadata": {
    "collapsed": false,
    "pycharm": {
     "name": "#%%\n"
    }
   }
  },
  {
   "cell_type": "markdown",
   "source": [
    "# Add Features\n",
    "- Precipitation [-1H]\n",
    "- Month\n",
    "- Hour\n",
    "- \\(Sea tide\\)\n",
    "- \\(Holiday\\)"
   ],
   "metadata": {
    "collapsed": false
   }
  },
  {
   "cell_type": "code",
   "execution_count": 4,
   "outputs": [],
   "source": [
    "# Add prcp from previous row for each row:\n",
    "df_r['prcp_prev'] = df_r.prcp.shift(1)"
   ],
   "metadata": {
    "collapsed": false,
    "pycharm": {
     "name": "#%%\n"
    }
   }
  },
  {
   "cell_type": "code",
   "execution_count": 5,
   "outputs": [],
   "source": [
    "# Set month number from datetime index:\n",
    "df_r['month'] = df_r.index.month"
   ],
   "metadata": {
    "collapsed": false,
    "pycharm": {
     "name": "#%%\n"
    }
   }
  },
  {
   "cell_type": "code",
   "execution_count": 6,
   "outputs": [],
   "source": [
    "# Add hour from datetime index:\n",
    "df_r['hour'] = df_r.index.hour"
   ],
   "metadata": {
    "collapsed": false,
    "pycharm": {
     "name": "#%%\n"
    }
   }
  },
  {
   "cell_type": "code",
   "execution_count": 7,
   "outputs": [],
   "source": [
    "df_r = df_r.reset_index()\n",
    "df_r = df_r.rename(columns={'index': 'datetime'})"
   ],
   "metadata": {
    "collapsed": false,
    "pycharm": {
     "name": "#%%\n"
    }
   }
  },
  {
   "cell_type": "code",
   "execution_count": 8,
   "outputs": [],
   "source": [
    "df_r = df_r.dropna()"
   ],
   "metadata": {
    "collapsed": false,
    "pycharm": {
     "name": "#%%\n"
    }
   }
  },
  {
   "cell_type": "markdown",
   "source": [
    "# Learning"
   ],
   "metadata": {
    "collapsed": false
   }
  },
  {
   "cell_type": "code",
   "execution_count": 9,
   "outputs": [],
   "source": [
    "train, test = train_test_split(df_r, test_size=0.2, random_state=1)\n",
    "X, y = df_r.drop(['outflow_level', 'datetime'], axis=1).to_numpy(), df_r.outflow_level.to_numpy()\n",
    "train_X = train.drop(['outflow_level','datetime'], axis=1).to_numpy()\n",
    "train_y = train.outflow_level.to_numpy()\n",
    "test_X = test.drop(['outflow_level', 'datetime'], axis=1).to_numpy()\n",
    "test_y = test.outflow_level.to_numpy()"
   ],
   "metadata": {
    "collapsed": false,
    "pycharm": {
     "name": "#%%\n"
    }
   }
  },
  {
   "cell_type": "markdown",
   "source": [
    "# Grid Search CV for LightGBM"
   ],
   "metadata": {
    "collapsed": false
   }
  },
  {
   "cell_type": "code",
   "execution_count": 10,
   "outputs": [],
   "source": [
    "# parameters = {\n",
    "#     'boosting_type': ['gbdt', 'dart'],\n",
    "#     'max_depth': [1, 5, 10, 20, 50, 100],\n",
    "#     'num_leaves': [8,10, 20,30],\n",
    "#     'learning_rate': [0.01,0.05, 0.1, 0.5, 1.0],\n",
    "#     'n_estimators': [50,100,200,300],\n",
    "# }\n",
    "# scoring = 'neg_mean_squared_error'\n",
    "# gs = GridSearchCV(lgb.sklearn.LGBMRegressor(objective='regression'), parameters, cv=5, scoring=scoring, n_jobs=8)\n",
    "# gs.fit(train_X, train_y)\n",
    "# gs.best_params_, gs.best_score_"
   ],
   "metadata": {
    "collapsed": false,
    "pycharm": {
     "name": "#%%\n"
    }
   }
  },
  {
   "cell_type": "markdown",
   "source": [
    "# Grid Search CV for XGBoost"
   ],
   "metadata": {
    "collapsed": false
   }
  },
  {
   "cell_type": "code",
   "execution_count": 11,
   "outputs": [],
   "source": [
    "# parameters = {\n",
    "#     'max_depth': [1,2,3],\n",
    "#     'n_estimators': [35,50,60,100],\n",
    "#     'eta': [0.05, 0.1, 0.2, 0.5],\n",
    "#     'subsample': [1.0],\n",
    "#     'colsample_bytree': [1.0],\n",
    "# }\n",
    "# gs = GridSearchCV(XGBRegressor(objective='reg:squarederror'), parameters, cv=5, scoring=scoring, n_jobs=8)\n",
    "# gs.fit(train_X, train_y)\n",
    "# gs.best_params_, gs.best_score_"
   ],
   "metadata": {
    "collapsed": false,
    "pycharm": {
     "name": "#%%\n"
    }
   }
  },
  {
   "cell_type": "markdown",
   "source": [
    "# Grid Search CV for Decision Tree"
   ],
   "metadata": {
    "collapsed": false
   }
  },
  {
   "cell_type": "code",
   "execution_count": 12,
   "outputs": [],
   "source": [
    "# parameters = {\n",
    "#     'max_depth': [1,2,3],\n",
    "#     'min_samples_split': [2,3,4],\n",
    "#     'min_samples_leaf': [1,2,3],\n",
    "# }\n",
    "# gs = GridSearchCV(DecisionTreeRegressor(), parameters, cv=5, scoring=scoring, n_jobs=8)\n",
    "# gs.fit(train_X, train_y)\n",
    "# gs.best_params_, gs.best_score_"
   ],
   "metadata": {
    "collapsed": false,
    "pycharm": {
     "name": "#%%\n"
    }
   }
  },
  {
   "cell_type": "markdown",
   "source": [
    "# Grid Search CV for Random Forest"
   ],
   "metadata": {
    "collapsed": false
   }
  },
  {
   "cell_type": "code",
   "execution_count": 13,
   "outputs": [],
   "source": [
    "# parameters = {\n",
    "#     'max_depth': [1,2,3],\n",
    "#     'min_samples_split': [2,3,4],\n",
    "#     'min_samples_leaf': [1,2,3],\n",
    "# }\n",
    "# gs = GridSearchCV(RandomForestRegressor(), parameters, cv=5, scoring=scoring, n_jobs=8)\n",
    "# gs.fit(train_X, train_y)\n",
    "# gs.best_params_, gs.best_score_"
   ],
   "metadata": {
    "collapsed": false,
    "pycharm": {
     "name": "#%%\n"
    }
   }
  },
  {
   "cell_type": "markdown",
   "source": [
    "# Grid Search CV for SVR"
   ],
   "metadata": {
    "collapsed": false
   }
  },
  {
   "cell_type": "code",
   "execution_count": 14,
   "outputs": [],
   "source": [
    "# parameters = {\n",
    "#     'kernel': ['rbf', 'linear', 'poly'],\n",
    "#     'C': [0.1, 1, 10, 100],\n",
    "# }\n",
    "# gs = GridSearchCV(SVR(), parameters, cv=5, scoring=scoring, n_jobs=8)\n",
    "# gs.fit(train_X, train_y)\n",
    "# gs.best_params_, gs.best_score_"
   ],
   "metadata": {
    "collapsed": false,
    "pycharm": {
     "name": "#%%\n"
    }
   }
  },
  {
   "cell_type": "markdown",
   "source": [
    "# Validation"
   ],
   "metadata": {
    "collapsed": false
   }
  },
  {
   "cell_type": "code",
   "execution_count": 15,
   "outputs": [
    {
     "name": "stdout",
     "output_type": "stream",
     "text": [
      "Mean-CV score: 200.07\t Test score: 223.39\n",
      "Mean-CV score: 158.77\t Test score: 175.97\n",
      "Mean-CV score: 171.03\t Test score: 169.82\n"
     ]
    },
    {
     "name": "stderr",
     "output_type": "stream",
     "text": [
      "/Users/nielstiben/miniforge3/envs/MLOPS/lib/python3.9/site-packages/xgboost/compat.py:36: FutureWarning: pandas.Int64Index is deprecated and will be removed from pandas in a future version. Use pandas.Index with the appropriate dtype instead.\n",
      "  from pandas import MultiIndex, Int64Index\n",
      "/Users/nielstiben/miniforge3/envs/MLOPS/lib/python3.9/site-packages/xgboost/compat.py:36: FutureWarning: pandas.Int64Index is deprecated and will be removed from pandas in a future version. Use pandas.Index with the appropriate dtype instead.\n",
      "  from pandas import MultiIndex, Int64Index\n",
      "/Users/nielstiben/miniforge3/envs/MLOPS/lib/python3.9/site-packages/xgboost/compat.py:36: FutureWarning: pandas.Int64Index is deprecated and will be removed from pandas in a future version. Use pandas.Index with the appropriate dtype instead.\n",
      "  from pandas import MultiIndex, Int64Index\n",
      "/Users/nielstiben/miniforge3/envs/MLOPS/lib/python3.9/site-packages/xgboost/compat.py:36: FutureWarning: pandas.Int64Index is deprecated and will be removed from pandas in a future version. Use pandas.Index with the appropriate dtype instead.\n",
      "  from pandas import MultiIndex, Int64Index\n",
      "/Users/nielstiben/miniforge3/envs/MLOPS/lib/python3.9/site-packages/xgboost/compat.py:36: FutureWarning: pandas.Int64Index is deprecated and will be removed from pandas in a future version. Use pandas.Index with the appropriate dtype instead.\n",
      "  from pandas import MultiIndex, Int64Index\n"
     ]
    },
    {
     "name": "stdout",
     "output_type": "stream",
     "text": [
      "Mean-CV score: 152.71\t Test score: 158.64\n",
      "Mean-CV score: 142.13\t Test score: 149.01\n"
     ]
    }
   ],
   "source": [
    "regr_list = [\n",
    "    DummyRegressor(strategy='mean'),\n",
    "    RandomForestRegressor(max_depth=3, min_samples_split=3, min_samples_leaf=1),\n",
    "    DecisionTreeRegressor(max_depth=5),\n",
    "    XGBRegressor(objective='reg:squarederror', max_depth=3, n_estimators=60, eta=0.2, subsample=1, colsample_bytree=1),\n",
    "    lgb.sklearn.LGBMRegressor(objective='regression', boosting_type='dart', max_depth=20, num_leaves=20, learning_rate=0.1, n_estimators=200),\n",
    "]\n",
    "\n",
    "def get_score(regr):\n",
    "    score_cv = cross_val_score(regr, train_X, train_y, cv=5, scoring='neg_mean_squared_error', n_jobs=-1)\n",
    "    regr.fit(train_X, train_y)\n",
    "    score_test = mean_squared_error(test_y, y_pred=regr.predict(test_X))\n",
    "    print(\"Mean-CV score: {:.2f}\\t Test score: {:.2f}\".format(np.mean(-score_cv), score_test))\n",
    "\n",
    "for regr in regr_list:\n",
    "    get_score(regr)"
   ],
   "metadata": {
    "collapsed": false,
    "pycharm": {
     "name": "#%%\n"
    }
   }
  },
  {
   "cell_type": "code",
   "execution_count": 16,
   "outputs": [],
   "source": [
    "regr = lgb.sklearn.LGBMRegressor(objective='regression', boosting_type='dart', max_depth=20, num_leaves=20, learning_rate=0.1, n_estimators=200)\n",
    "# regr.fit(train_X, train_y)"
   ],
   "metadata": {
    "collapsed": false,
    "pycharm": {
     "name": "#%%\n"
    }
   }
  },
  {
   "cell_type": "code",
   "execution_count": 17,
   "outputs": [
    {
     "data": {
      "text/plain": "LGBMRegressor(boosting_type='dart', max_depth=20, n_estimators=200,\n              num_leaves=20, objective='regression')"
     },
     "execution_count": 17,
     "metadata": {},
     "output_type": "execute_result"
    }
   ],
   "source": [
    "regr.fit(train_X, train_y)"
   ],
   "metadata": {
    "collapsed": false,
    "pycharm": {
     "name": "#%%\n"
    }
   }
  },
  {
   "cell_type": "markdown",
   "source": [
    "# Output Results"
   ],
   "metadata": {
    "collapsed": false
   }
  },
  {
   "cell_type": "code",
   "execution_count": null,
   "outputs": [],
   "source": [
    "y_pred = regr.predict(test_X)\n",
    "df_pred = pd.DataFrame(test.datetime)\n",
    "df_pred['y'] = y_pred\n",
    "df_pred['Type'] = 'Predicted'\n",
    "\n",
    "df_true = pd.DataFrame(test.datetime)\n",
    "df_true['y'] = test_y\n",
    "df_true['Type'] = 'True'\n",
    "\n",
    "# Merge the two dataframes\n",
    "df_pred_true = pd.concat([df_pred, df_true])"
   ],
   "metadata": {
    "collapsed": false,
    "pycharm": {
     "name": "#%%\n",
     "is_executing": true
    }
   }
  },
  {
   "cell_type": "code",
   "execution_count": null,
   "outputs": [],
   "source": [
    "# Plot the true data against the predicted data on scatter plot\n",
    "fig = px.scatter(\n",
    "    df_pred_true,\n",
    "    x=\"datetime\",\n",
    "    y=\"y\",\n",
    "    color=\"Type\",\n",
    "    title=\"Predicted vs True\",\n",
    "    color_discrete_sequence=px.colors.qualitative.Light24\n",
    ")\n",
    "fig.show()"
   ],
   "metadata": {
    "collapsed": false,
    "pycharm": {
     "name": "#%%\n",
     "is_executing": true
    }
   }
  },
  {
   "cell_type": "code",
   "execution_count": null,
   "outputs": [],
   "source": [
    "y_pred = regr.predict(test_X)\n",
    "df = pd.DataFrame(test.datetime)\n",
    "df['pred'] = y_pred\n",
    "df['true'] = test_y\n",
    "df['difference'] = df.true - df.pred"
   ],
   "metadata": {
    "collapsed": false,
    "pycharm": {
     "name": "#%%\n",
     "is_executing": true
    }
   }
  },
  {
   "cell_type": "code",
   "execution_count": null,
   "outputs": [],
   "source": [
    "fig = go.Figure(\n",
    "    data=go.Scatter(\n",
    "        x=df.datetime,\n",
    "        y=df.true,\n",
    "        mode='markers',\n",
    "        error_y=dict(\n",
    "            type='data',\n",
    "            symmetric=False,\n",
    "            array=-df.difference.to_numpy(),\n",
    "            color='red'\n",
    "        ),\n",
    "        marker=dict(color='rgba(0, 181, 30, 1)', size=8)\n",
    "    ),\n",
    ")\n",
    "fig.update_layout(title_text=\"Error range - green dot is ground truth\",)\n",
    "fig.show()"
   ],
   "metadata": {
    "collapsed": false,
    "pycharm": {
     "name": "#%%\n",
     "is_executing": true
    }
   }
  },
  {
   "cell_type": "code",
   "execution_count": null,
   "outputs": [],
   "source": [],
   "metadata": {
    "collapsed": false,
    "pycharm": {
     "name": "#%%\n",
     "is_executing": true
    }
   }
  }
 ],
 "metadata": {
  "kernelspec": {
   "display_name": "Python 3",
   "language": "python",
   "name": "python3"
  },
  "language_info": {
   "codemirror_mode": {
    "name": "ipython",
    "version": 2
   },
   "file_extension": ".py",
   "mimetype": "text/x-python",
   "name": "python",
   "nbconvert_exporter": "python",
   "pygments_lexer": "ipython2",
   "version": "2.7.6"
  }
 },
 "nbformat": 4,
 "nbformat_minor": 0
}