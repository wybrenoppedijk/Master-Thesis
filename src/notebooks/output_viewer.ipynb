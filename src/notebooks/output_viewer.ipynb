{
 "cells": [
  {
   "cell_type": "code",
   "execution_count": 1,
   "metadata": {
    "collapsed": true
   },
   "outputs": [],
   "source": [
    "import pandas as pd\n",
    "from src.pumping_station_enum import PUMPING_STATION_ENUM as ps"
   ]
  },
  {
   "cell_type": "code",
   "execution_count": 2,
   "outputs": [],
   "source": [
    "# df = pd.read_pickle('../../output/all_interpolated_60.pkl', compression='gzip')\n",
    "df = pd.read_pickle('../../output/239-va.pkl', compression='gzip')"
   ],
   "metadata": {
    "collapsed": false,
    "pycharm": {
     "name": "#%%\n"
    }
   }
  },
  {
   "cell_type": "code",
   "execution_count": 3,
   "outputs": [
    {
     "data": {
      "text/plain": "                         water_level  outflow_level  cycle_nr  cycle_step  \\\ntime                                                                        \n2020-04-23 12:00:00.000        1.624           0.00      <NA>        <NA>   \n2020-04-23 12:54:10.276        0.000          51.40      <NA>        <NA>   \n2020-04-23 12:54:15.690        0.000          48.28      <NA>        <NA>   \n2020-04-23 12:54:20.495        0.000          49.91      <NA>        <NA>   \n2020-04-23 12:54:25.206        0.000          50.45         0           4   \n...                              ...            ...       ...         ...   \n2021-02-23 11:58:42.821        0.819          49.70    287182         121   \n2021-02-23 11:58:49.262        0.810          49.72      <NA>        <NA>   \n2021-02-23 11:58:56.949        0.794          49.87      <NA>        <NA>   \n2021-02-23 11:59:03.244        0.780          49.64      <NA>        <NA>   \n2021-02-23 11:59:08.275        0.780          49.64      <NA>        <NA>   \n\n                        cycle_state cycle_state_transition error  \\\ntime                                                               \n2020-04-23 12:00:00.000        None                   None  None   \n2020-04-23 12:54:10.276        None                   None  None   \n2020-04-23 12:54:15.690        None                   None  None   \n2020-04-23 12:54:20.495        None                   None  None   \n2020-04-23 12:54:25.206        [P1]                   None  None   \n...                             ...                    ...   ...   \n2021-02-23 11:58:42.821        [P1]                   None  None   \n2021-02-23 11:58:49.262        None                   None  None   \n2021-02-23 11:58:56.949        None                   None  None   \n2021-02-23 11:59:03.244        None                   None  None   \n2021-02-23 11:59:08.275        None                   None  None   \n\n                             currents  current_tot  \\\ntime                                                 \n2020-04-23 12:00:00.000   [0.02, 0.0]         0.02   \n2020-04-23 12:54:10.276  [23.72, 0.0]        23.72   \n2020-04-23 12:54:15.690  [23.79, 0.0]        23.79   \n2020-04-23 12:54:20.495  [23.84, 0.0]        23.84   \n2020-04-23 12:54:25.206  [23.81, 0.0]        23.81   \n...                               ...          ...   \n2021-02-23 11:58:42.821  [23.43, 0.0]        23.43   \n2021-02-23 11:58:49.262  [23.39, 0.0]        23.39   \n2021-02-23 11:58:56.949  [23.39, 0.0]        23.39   \n2021-02-23 11:59:03.244  [23.37, 0.0]        23.37   \n2021-02-23 11:59:08.275  [23.37, 0.0]        23.37   \n\n                                     pumping_station  \ntime                                                  \n2020-04-23 12:00:00.000  PUMPING_STATION_ENUM.PST239  \n2020-04-23 12:54:10.276  PUMPING_STATION_ENUM.PST239  \n2020-04-23 12:54:15.690  PUMPING_STATION_ENUM.PST239  \n2020-04-23 12:54:20.495  PUMPING_STATION_ENUM.PST239  \n2020-04-23 12:54:25.206  PUMPING_STATION_ENUM.PST239  \n...                                              ...  \n2021-02-23 11:58:42.821  PUMPING_STATION_ENUM.PST239  \n2021-02-23 11:58:49.262  PUMPING_STATION_ENUM.PST239  \n2021-02-23 11:58:56.949  PUMPING_STATION_ENUM.PST239  \n2021-02-23 11:59:03.244  PUMPING_STATION_ENUM.PST239  \n2021-02-23 11:59:08.275  PUMPING_STATION_ENUM.PST239  \n\n[4805341 rows x 10 columns]",
      "text/html": "<div>\n<style scoped>\n    .dataframe tbody tr th:only-of-type {\n        vertical-align: middle;\n    }\n\n    .dataframe tbody tr th {\n        vertical-align: top;\n    }\n\n    .dataframe thead th {\n        text-align: right;\n    }\n</style>\n<table border=\"1\" class=\"dataframe\">\n  <thead>\n    <tr style=\"text-align: right;\">\n      <th></th>\n      <th>water_level</th>\n      <th>outflow_level</th>\n      <th>cycle_nr</th>\n      <th>cycle_step</th>\n      <th>cycle_state</th>\n      <th>cycle_state_transition</th>\n      <th>error</th>\n      <th>currents</th>\n      <th>current_tot</th>\n      <th>pumping_station</th>\n    </tr>\n    <tr>\n      <th>time</th>\n      <th></th>\n      <th></th>\n      <th></th>\n      <th></th>\n      <th></th>\n      <th></th>\n      <th></th>\n      <th></th>\n      <th></th>\n      <th></th>\n    </tr>\n  </thead>\n  <tbody>\n    <tr>\n      <th>2020-04-23 12:00:00.000</th>\n      <td>1.624</td>\n      <td>0.00</td>\n      <td>&lt;NA&gt;</td>\n      <td>&lt;NA&gt;</td>\n      <td>None</td>\n      <td>None</td>\n      <td>None</td>\n      <td>[0.02, 0.0]</td>\n      <td>0.02</td>\n      <td>PUMPING_STATION_ENUM.PST239</td>\n    </tr>\n    <tr>\n      <th>2020-04-23 12:54:10.276</th>\n      <td>0.000</td>\n      <td>51.40</td>\n      <td>&lt;NA&gt;</td>\n      <td>&lt;NA&gt;</td>\n      <td>None</td>\n      <td>None</td>\n      <td>None</td>\n      <td>[23.72, 0.0]</td>\n      <td>23.72</td>\n      <td>PUMPING_STATION_ENUM.PST239</td>\n    </tr>\n    <tr>\n      <th>2020-04-23 12:54:15.690</th>\n      <td>0.000</td>\n      <td>48.28</td>\n      <td>&lt;NA&gt;</td>\n      <td>&lt;NA&gt;</td>\n      <td>None</td>\n      <td>None</td>\n      <td>None</td>\n      <td>[23.79, 0.0]</td>\n      <td>23.79</td>\n      <td>PUMPING_STATION_ENUM.PST239</td>\n    </tr>\n    <tr>\n      <th>2020-04-23 12:54:20.495</th>\n      <td>0.000</td>\n      <td>49.91</td>\n      <td>&lt;NA&gt;</td>\n      <td>&lt;NA&gt;</td>\n      <td>None</td>\n      <td>None</td>\n      <td>None</td>\n      <td>[23.84, 0.0]</td>\n      <td>23.84</td>\n      <td>PUMPING_STATION_ENUM.PST239</td>\n    </tr>\n    <tr>\n      <th>2020-04-23 12:54:25.206</th>\n      <td>0.000</td>\n      <td>50.45</td>\n      <td>0</td>\n      <td>4</td>\n      <td>[P1]</td>\n      <td>None</td>\n      <td>None</td>\n      <td>[23.81, 0.0]</td>\n      <td>23.81</td>\n      <td>PUMPING_STATION_ENUM.PST239</td>\n    </tr>\n    <tr>\n      <th>...</th>\n      <td>...</td>\n      <td>...</td>\n      <td>...</td>\n      <td>...</td>\n      <td>...</td>\n      <td>...</td>\n      <td>...</td>\n      <td>...</td>\n      <td>...</td>\n      <td>...</td>\n    </tr>\n    <tr>\n      <th>2021-02-23 11:58:42.821</th>\n      <td>0.819</td>\n      <td>49.70</td>\n      <td>287182</td>\n      <td>121</td>\n      <td>[P1]</td>\n      <td>None</td>\n      <td>None</td>\n      <td>[23.43, 0.0]</td>\n      <td>23.43</td>\n      <td>PUMPING_STATION_ENUM.PST239</td>\n    </tr>\n    <tr>\n      <th>2021-02-23 11:58:49.262</th>\n      <td>0.810</td>\n      <td>49.72</td>\n      <td>&lt;NA&gt;</td>\n      <td>&lt;NA&gt;</td>\n      <td>None</td>\n      <td>None</td>\n      <td>None</td>\n      <td>[23.39, 0.0]</td>\n      <td>23.39</td>\n      <td>PUMPING_STATION_ENUM.PST239</td>\n    </tr>\n    <tr>\n      <th>2021-02-23 11:58:56.949</th>\n      <td>0.794</td>\n      <td>49.87</td>\n      <td>&lt;NA&gt;</td>\n      <td>&lt;NA&gt;</td>\n      <td>None</td>\n      <td>None</td>\n      <td>None</td>\n      <td>[23.39, 0.0]</td>\n      <td>23.39</td>\n      <td>PUMPING_STATION_ENUM.PST239</td>\n    </tr>\n    <tr>\n      <th>2021-02-23 11:59:03.244</th>\n      <td>0.780</td>\n      <td>49.64</td>\n      <td>&lt;NA&gt;</td>\n      <td>&lt;NA&gt;</td>\n      <td>None</td>\n      <td>None</td>\n      <td>None</td>\n      <td>[23.37, 0.0]</td>\n      <td>23.37</td>\n      <td>PUMPING_STATION_ENUM.PST239</td>\n    </tr>\n    <tr>\n      <th>2021-02-23 11:59:08.275</th>\n      <td>0.780</td>\n      <td>49.64</td>\n      <td>&lt;NA&gt;</td>\n      <td>&lt;NA&gt;</td>\n      <td>None</td>\n      <td>None</td>\n      <td>None</td>\n      <td>[23.37, 0.0]</td>\n      <td>23.37</td>\n      <td>PUMPING_STATION_ENUM.PST239</td>\n    </tr>\n  </tbody>\n</table>\n<p>4805341 rows × 10 columns</p>\n</div>"
     },
     "execution_count": 3,
     "metadata": {},
     "output_type": "execute_result"
    }
   ],
   "source": [
    "# df_r = df[['pumping_station','water_level', 'outflow_level','currents','current_tot','cycle_nr', 'cycle_step','cycle_state', 'cycle_state_transition','error' ]]\n",
    "\n",
    "df"
   ],
   "metadata": {
    "collapsed": false,
    "pycharm": {
     "name": "#%%\n"
    }
   }
  },
  {
   "cell_type": "code",
   "execution_count": 73,
   "outputs": [],
   "source": [
    "i = df.index[0]"
   ],
   "metadata": {
    "collapsed": false,
    "pycharm": {
     "name": "#%%\n"
    }
   }
  },
  {
   "cell_type": "code",
   "execution_count": 55,
   "outputs": [
    {
     "data": {
      "text/plain": "pumping_station    PUMPING_STATION_ENUM.PST232\nwater_level                               1.13\nName: 2020-05-01 00:00:00, dtype: object"
     },
     "execution_count": 55,
     "metadata": {},
     "output_type": "execute_result"
    }
   ],
   "source": [
    "df.loc[i, ['pumping_station', 'water_level']]\n"
   ],
   "metadata": {
    "collapsed": false,
    "pycharm": {
     "name": "#%%\n"
    }
   }
  },
  {
   "cell_type": "code",
   "execution_count": 5,
   "outputs": [],
   "source": [
    "df_rr = df[['water_level', 'outflow_level','currents','current_tot','cycle_step','error']]"
   ],
   "metadata": {
    "collapsed": false,
    "pycharm": {
     "name": "#%%\n"
    }
   }
  }
 ],
 "metadata": {
  "kernelspec": {
   "display_name": "Python 3",
   "language": "python",
   "name": "python3"
  },
  "language_info": {
   "codemirror_mode": {
    "name": "ipython",
    "version": 2
   },
   "file_extension": ".py",
   "mimetype": "text/x-python",
   "name": "python",
   "nbconvert_exporter": "python",
   "pygments_lexer": "ipython2",
   "version": "2.7.6"
  }
 },
 "nbformat": 4,
 "nbformat_minor": 0
}