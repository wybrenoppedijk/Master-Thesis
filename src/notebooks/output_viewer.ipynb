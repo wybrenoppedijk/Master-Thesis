{
 "cells": [
  {
   "cell_type": "code",
   "execution_count": 23,
   "metadata": {
    "collapsed": true
   },
   "outputs": [],
   "source": [
    "import pandas as pd"
   ]
  },
  {
   "cell_type": "code",
   "execution_count": 27,
   "outputs": [],
   "source": [
    "df = pd.read_pickle('../../output/pst240-2.pkl', compression='gzip')"
   ],
   "metadata": {
    "collapsed": false,
    "pycharm": {
     "name": "#%%\n"
    }
   }
  },
  {
   "cell_type": "code",
   "execution_count": 28,
   "outputs": [
    {
     "data": {
      "text/plain": "                                     pumping_station  water_level  \\\ntime                                                                \n2020-05-06 11:00:00.000  PUMPING_STATION_ENUM.PST240        1.126   \n2020-05-06 11:08:54.596  PUMPING_STATION_ENUM.PST240        0.377   \n2020-05-06 11:08:59.323  PUMPING_STATION_ENUM.PST240        0.378   \n2020-05-06 11:09:04.471  PUMPING_STATION_ENUM.PST240        0.375   \n2020-05-06 11:09:11.054  PUMPING_STATION_ENUM.PST240        0.374   \n...                                              ...          ...   \n2020-05-31 23:59:41.840  PUMPING_STATION_ENUM.PST240        0.373   \n2020-05-31 23:59:46.240  PUMPING_STATION_ENUM.PST240        0.372   \n2020-05-31 23:59:50.514  PUMPING_STATION_ENUM.PST240        0.373   \n2020-05-31 23:59:54.882  PUMPING_STATION_ENUM.PST240        0.372   \n2020-05-31 23:59:59.297  PUMPING_STATION_ENUM.PST240        0.375   \n\n                         outflow_level           currents  current_tot  \\\ntime                                                                     \n2020-05-06 11:00:00.000           52.8  [0.0, 0.0, 24.28]        24.28   \n2020-05-06 11:08:54.596            0.0  [0.06, 0.02, 0.0]         0.08   \n2020-05-06 11:08:59.323            0.0  [0.06, 0.02, 0.0]         0.08   \n2020-05-06 11:09:04.471            0.0  [0.06, 0.02, 0.0]         0.08   \n2020-05-06 11:09:11.054            0.0  [0.06, 0.02, 0.0]         0.08   \n...                                ...                ...          ...   \n2020-05-31 23:59:41.840            0.0  [0.06, 0.02, 0.0]         0.08   \n2020-05-31 23:59:46.240            0.0  [0.06, 0.02, 0.0]         0.08   \n2020-05-31 23:59:50.514            0.0  [0.06, 0.02, 0.0]         0.08   \n2020-05-31 23:59:54.882            0.0  [0.06, 0.02, 0.0]         0.08   \n2020-05-31 23:59:59.297            0.0  [0.06, 0.02, 0.0]         0.08   \n\n                         cycle_nr  cycle_step cycle_state  \\\ntime                                                        \n2020-05-06 11:00:00.000      <NA>        <NA>        None   \n2020-05-06 11:08:54.596      <NA>        <NA>        None   \n2020-05-06 11:08:59.323      <NA>        <NA>        None   \n2020-05-06 11:09:04.471      <NA>        <NA>        None   \n2020-05-06 11:09:11.054      <NA>        <NA>        None   \n...                           ...         ...         ...   \n2020-05-31 23:59:41.840      <NA>        <NA>        None   \n2020-05-31 23:59:46.240      <NA>        <NA>        None   \n2020-05-31 23:59:50.514      <NA>        <NA>        None   \n2020-05-31 23:59:54.882      <NA>        <NA>        None   \n2020-05-31 23:59:59.297      <NA>        <NA>        None   \n\n                        cycle_state_transition  \\\ntime                                             \n2020-05-06 11:00:00.000                   None   \n2020-05-06 11:08:54.596                   None   \n2020-05-06 11:08:59.323                   None   \n2020-05-06 11:09:04.471                   None   \n2020-05-06 11:09:11.054                   None   \n...                                        ...   \n2020-05-31 23:59:41.840                   None   \n2020-05-31 23:59:46.240                   None   \n2020-05-31 23:59:50.514                   None   \n2020-05-31 23:59:54.882                   None   \n2020-05-31 23:59:59.297                   None   \n\n                                                         error  \ntime                                                            \n2020-05-06 11:00:00.000                                   None  \n2020-05-06 11:08:54.596                                   None  \n2020-05-06 11:08:59.323                                   None  \n2020-05-06 11:09:04.471                                   None  \n2020-05-06 11:09:11.054  Current is not within boundaries [P1]  \n...                                                        ...  \n2020-05-31 23:59:41.840  Current is not within boundaries [P1]  \n2020-05-31 23:59:46.240                                   None  \n2020-05-31 23:59:50.514                                   None  \n2020-05-31 23:59:54.882                                   None  \n2020-05-31 23:59:59.297                                   None  \n\n[484459 rows x 10 columns]",
      "text/html": "<div>\n<style scoped>\n    .dataframe tbody tr th:only-of-type {\n        vertical-align: middle;\n    }\n\n    .dataframe tbody tr th {\n        vertical-align: top;\n    }\n\n    .dataframe thead th {\n        text-align: right;\n    }\n</style>\n<table border=\"1\" class=\"dataframe\">\n  <thead>\n    <tr style=\"text-align: right;\">\n      <th></th>\n      <th>pumping_station</th>\n      <th>water_level</th>\n      <th>outflow_level</th>\n      <th>currents</th>\n      <th>current_tot</th>\n      <th>cycle_nr</th>\n      <th>cycle_step</th>\n      <th>cycle_state</th>\n      <th>cycle_state_transition</th>\n      <th>error</th>\n    </tr>\n    <tr>\n      <th>time</th>\n      <th></th>\n      <th></th>\n      <th></th>\n      <th></th>\n      <th></th>\n      <th></th>\n      <th></th>\n      <th></th>\n      <th></th>\n      <th></th>\n    </tr>\n  </thead>\n  <tbody>\n    <tr>\n      <th>2020-05-06 11:00:00.000</th>\n      <td>PUMPING_STATION_ENUM.PST240</td>\n      <td>1.126</td>\n      <td>52.8</td>\n      <td>[0.0, 0.0, 24.28]</td>\n      <td>24.28</td>\n      <td>&lt;NA&gt;</td>\n      <td>&lt;NA&gt;</td>\n      <td>None</td>\n      <td>None</td>\n      <td>None</td>\n    </tr>\n    <tr>\n      <th>2020-05-06 11:08:54.596</th>\n      <td>PUMPING_STATION_ENUM.PST240</td>\n      <td>0.377</td>\n      <td>0.0</td>\n      <td>[0.06, 0.02, 0.0]</td>\n      <td>0.08</td>\n      <td>&lt;NA&gt;</td>\n      <td>&lt;NA&gt;</td>\n      <td>None</td>\n      <td>None</td>\n      <td>None</td>\n    </tr>\n    <tr>\n      <th>2020-05-06 11:08:59.323</th>\n      <td>PUMPING_STATION_ENUM.PST240</td>\n      <td>0.378</td>\n      <td>0.0</td>\n      <td>[0.06, 0.02, 0.0]</td>\n      <td>0.08</td>\n      <td>&lt;NA&gt;</td>\n      <td>&lt;NA&gt;</td>\n      <td>None</td>\n      <td>None</td>\n      <td>None</td>\n    </tr>\n    <tr>\n      <th>2020-05-06 11:09:04.471</th>\n      <td>PUMPING_STATION_ENUM.PST240</td>\n      <td>0.375</td>\n      <td>0.0</td>\n      <td>[0.06, 0.02, 0.0]</td>\n      <td>0.08</td>\n      <td>&lt;NA&gt;</td>\n      <td>&lt;NA&gt;</td>\n      <td>None</td>\n      <td>None</td>\n      <td>None</td>\n    </tr>\n    <tr>\n      <th>2020-05-06 11:09:11.054</th>\n      <td>PUMPING_STATION_ENUM.PST240</td>\n      <td>0.374</td>\n      <td>0.0</td>\n      <td>[0.06, 0.02, 0.0]</td>\n      <td>0.08</td>\n      <td>&lt;NA&gt;</td>\n      <td>&lt;NA&gt;</td>\n      <td>None</td>\n      <td>None</td>\n      <td>Current is not within boundaries [P1]</td>\n    </tr>\n    <tr>\n      <th>...</th>\n      <td>...</td>\n      <td>...</td>\n      <td>...</td>\n      <td>...</td>\n      <td>...</td>\n      <td>...</td>\n      <td>...</td>\n      <td>...</td>\n      <td>...</td>\n      <td>...</td>\n    </tr>\n    <tr>\n      <th>2020-05-31 23:59:41.840</th>\n      <td>PUMPING_STATION_ENUM.PST240</td>\n      <td>0.373</td>\n      <td>0.0</td>\n      <td>[0.06, 0.02, 0.0]</td>\n      <td>0.08</td>\n      <td>&lt;NA&gt;</td>\n      <td>&lt;NA&gt;</td>\n      <td>None</td>\n      <td>None</td>\n      <td>Current is not within boundaries [P1]</td>\n    </tr>\n    <tr>\n      <th>2020-05-31 23:59:46.240</th>\n      <td>PUMPING_STATION_ENUM.PST240</td>\n      <td>0.372</td>\n      <td>0.0</td>\n      <td>[0.06, 0.02, 0.0]</td>\n      <td>0.08</td>\n      <td>&lt;NA&gt;</td>\n      <td>&lt;NA&gt;</td>\n      <td>None</td>\n      <td>None</td>\n      <td>None</td>\n    </tr>\n    <tr>\n      <th>2020-05-31 23:59:50.514</th>\n      <td>PUMPING_STATION_ENUM.PST240</td>\n      <td>0.373</td>\n      <td>0.0</td>\n      <td>[0.06, 0.02, 0.0]</td>\n      <td>0.08</td>\n      <td>&lt;NA&gt;</td>\n      <td>&lt;NA&gt;</td>\n      <td>None</td>\n      <td>None</td>\n      <td>None</td>\n    </tr>\n    <tr>\n      <th>2020-05-31 23:59:54.882</th>\n      <td>PUMPING_STATION_ENUM.PST240</td>\n      <td>0.372</td>\n      <td>0.0</td>\n      <td>[0.06, 0.02, 0.0]</td>\n      <td>0.08</td>\n      <td>&lt;NA&gt;</td>\n      <td>&lt;NA&gt;</td>\n      <td>None</td>\n      <td>None</td>\n      <td>None</td>\n    </tr>\n    <tr>\n      <th>2020-05-31 23:59:59.297</th>\n      <td>PUMPING_STATION_ENUM.PST240</td>\n      <td>0.375</td>\n      <td>0.0</td>\n      <td>[0.06, 0.02, 0.0]</td>\n      <td>0.08</td>\n      <td>&lt;NA&gt;</td>\n      <td>&lt;NA&gt;</td>\n      <td>None</td>\n      <td>None</td>\n      <td>None</td>\n    </tr>\n  </tbody>\n</table>\n<p>484459 rows × 10 columns</p>\n</div>"
     },
     "execution_count": 28,
     "metadata": {},
     "output_type": "execute_result"
    }
   ],
   "source": [
    "df_r = df[['pumping_station','water_level', 'outflow_level','currents','current_tot','cycle_nr', 'cycle_step','cycle_state', 'cycle_state_transition','error' ]]\n",
    "df_r"
   ],
   "metadata": {
    "collapsed": false,
    "pycharm": {
     "name": "#%%\n"
    }
   }
  },
  {
   "cell_type": "code",
   "execution_count": null,
   "outputs": [],
   "source": [],
   "metadata": {
    "collapsed": false,
    "pycharm": {
     "name": "#%%\n"
    }
   }
  }
 ],
 "metadata": {
  "kernelspec": {
   "display_name": "Python 3",
   "language": "python",
   "name": "python3"
  },
  "language_info": {
   "codemirror_mode": {
    "name": "ipython",
    "version": 2
   },
   "file_extension": ".py",
   "mimetype": "text/x-python",
   "name": "python",
   "nbconvert_exporter": "python",
   "pygments_lexer": "ipython2",
   "version": "2.7.6"
  }
 },
 "nbformat": 4,
 "nbformat_minor": 0
}