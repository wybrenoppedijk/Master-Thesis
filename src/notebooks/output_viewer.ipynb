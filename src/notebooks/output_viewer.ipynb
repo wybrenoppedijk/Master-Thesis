{
 "cells": [
  {
   "cell_type": "code",
   "execution_count": 69,
   "metadata": {
    "collapsed": true
   },
   "outputs": [],
   "source": [
    "import pandas as pd\n",
    "from src.pumping_station_enum import PUMPING_STATION_ENUM as ps"
   ]
  },
  {
   "cell_type": "code",
   "execution_count": 70,
   "outputs": [],
   "source": [
    "# df = pd.read_pickle('../../output/all_interpolated_60.pkl', compression='gzip')\n",
    "df = pd.read_pickle('../../output/232.pkl', compression='gzip')"
   ],
   "metadata": {
    "collapsed": false,
    "pycharm": {
     "name": "#%%\n"
    }
   }
  },
  {
   "cell_type": "code",
   "execution_count": 72,
   "outputs": [
    {
     "data": {
      "text/plain": "                                     pumping_station  water_level  \\\ntime                                                                \n2020-05-01 00:00:00.000  PUMPING_STATION_ENUM.PST232         1.13   \n2020-05-01 00:01:31.268  PUMPING_STATION_ENUM.PST232         1.15   \n2020-05-01 00:05:41.157  PUMPING_STATION_ENUM.PST232         1.17   \n2020-05-01 00:11:02.430  PUMPING_STATION_ENUM.PST232         1.19   \n2020-05-01 00:15:12.358  PUMPING_STATION_ENUM.PST232         1.21   \n...                                              ...          ...   \n2021-08-31 23:55:44.561  PUMPING_STATION_ENUM.PST232         0.72   \n2021-08-31 23:55:56.089  PUMPING_STATION_ENUM.PST232         0.71   \n2021-08-31 23:56:07.602  PUMPING_STATION_ENUM.PST232         0.72   \n2021-08-31 23:57:50.968  PUMPING_STATION_ENUM.PST232         0.73   \n2021-08-31 23:59:34.645  PUMPING_STATION_ENUM.PST232         0.74   \n\n                         outflow_level    currents  current_tot  cycle_nr  \\\ntime                                                                        \n2020-05-01 00:00:00.000            0.0  [0.0, 0.0]          0.0      <NA>   \n2020-05-01 00:01:31.268            0.0  [0.0, 0.0]          0.0      <NA>   \n2020-05-01 00:05:41.157            0.0  [0.0, 0.0]          0.0      <NA>   \n2020-05-01 00:11:02.430            0.0  [0.0, 0.0]          0.0      <NA>   \n2020-05-01 00:15:12.358            0.0  [0.0, 0.0]          0.0      <NA>   \n...                                ...         ...          ...       ...   \n2021-08-31 23:55:44.561            0.0  [0.0, 0.0]          0.0      <NA>   \n2021-08-31 23:55:56.089            0.0  [0.0, 0.0]          0.0      <NA>   \n2021-08-31 23:56:07.602            0.0  [0.0, 0.0]          0.0      <NA>   \n2021-08-31 23:57:50.968            0.0  [0.0, 0.0]          0.0      <NA>   \n2021-08-31 23:59:34.645            0.0  [0.0, 0.0]          0.0      <NA>   \n\n                         cycle_step cycle_state cycle_state_transition error  \ntime                                                                          \n2020-05-01 00:00:00.000        <NA>        None                   None  None  \n2020-05-01 00:01:31.268        <NA>        None                   None  None  \n2020-05-01 00:05:41.157        <NA>        None                   None  None  \n2020-05-01 00:11:02.430        <NA>        None                   None  None  \n2020-05-01 00:15:12.358        <NA>        None                   None  None  \n...                             ...         ...                    ...   ...  \n2021-08-31 23:55:44.561        <NA>        None                   None  None  \n2021-08-31 23:55:56.089        <NA>        None                   None  None  \n2021-08-31 23:56:07.602        <NA>        None                   None  None  \n2021-08-31 23:57:50.968        <NA>        None                   None  None  \n2021-08-31 23:59:34.645        <NA>        None                   None  None  \n\n[1407518 rows x 10 columns]",
      "text/html": "<div>\n<style scoped>\n    .dataframe tbody tr th:only-of-type {\n        vertical-align: middle;\n    }\n\n    .dataframe tbody tr th {\n        vertical-align: top;\n    }\n\n    .dataframe thead th {\n        text-align: right;\n    }\n</style>\n<table border=\"1\" class=\"dataframe\">\n  <thead>\n    <tr style=\"text-align: right;\">\n      <th></th>\n      <th>pumping_station</th>\n      <th>water_level</th>\n      <th>outflow_level</th>\n      <th>currents</th>\n      <th>current_tot</th>\n      <th>cycle_nr</th>\n      <th>cycle_step</th>\n      <th>cycle_state</th>\n      <th>cycle_state_transition</th>\n      <th>error</th>\n    </tr>\n    <tr>\n      <th>time</th>\n      <th></th>\n      <th></th>\n      <th></th>\n      <th></th>\n      <th></th>\n      <th></th>\n      <th></th>\n      <th></th>\n      <th></th>\n      <th></th>\n    </tr>\n  </thead>\n  <tbody>\n    <tr>\n      <th>2020-05-01 00:00:00.000</th>\n      <td>PUMPING_STATION_ENUM.PST232</td>\n      <td>1.13</td>\n      <td>0.0</td>\n      <td>[0.0, 0.0]</td>\n      <td>0.0</td>\n      <td>&lt;NA&gt;</td>\n      <td>&lt;NA&gt;</td>\n      <td>None</td>\n      <td>None</td>\n      <td>None</td>\n    </tr>\n    <tr>\n      <th>2020-05-01 00:01:31.268</th>\n      <td>PUMPING_STATION_ENUM.PST232</td>\n      <td>1.15</td>\n      <td>0.0</td>\n      <td>[0.0, 0.0]</td>\n      <td>0.0</td>\n      <td>&lt;NA&gt;</td>\n      <td>&lt;NA&gt;</td>\n      <td>None</td>\n      <td>None</td>\n      <td>None</td>\n    </tr>\n    <tr>\n      <th>2020-05-01 00:05:41.157</th>\n      <td>PUMPING_STATION_ENUM.PST232</td>\n      <td>1.17</td>\n      <td>0.0</td>\n      <td>[0.0, 0.0]</td>\n      <td>0.0</td>\n      <td>&lt;NA&gt;</td>\n      <td>&lt;NA&gt;</td>\n      <td>None</td>\n      <td>None</td>\n      <td>None</td>\n    </tr>\n    <tr>\n      <th>2020-05-01 00:11:02.430</th>\n      <td>PUMPING_STATION_ENUM.PST232</td>\n      <td>1.19</td>\n      <td>0.0</td>\n      <td>[0.0, 0.0]</td>\n      <td>0.0</td>\n      <td>&lt;NA&gt;</td>\n      <td>&lt;NA&gt;</td>\n      <td>None</td>\n      <td>None</td>\n      <td>None</td>\n    </tr>\n    <tr>\n      <th>2020-05-01 00:15:12.358</th>\n      <td>PUMPING_STATION_ENUM.PST232</td>\n      <td>1.21</td>\n      <td>0.0</td>\n      <td>[0.0, 0.0]</td>\n      <td>0.0</td>\n      <td>&lt;NA&gt;</td>\n      <td>&lt;NA&gt;</td>\n      <td>None</td>\n      <td>None</td>\n      <td>None</td>\n    </tr>\n    <tr>\n      <th>...</th>\n      <td>...</td>\n      <td>...</td>\n      <td>...</td>\n      <td>...</td>\n      <td>...</td>\n      <td>...</td>\n      <td>...</td>\n      <td>...</td>\n      <td>...</td>\n      <td>...</td>\n    </tr>\n    <tr>\n      <th>2021-08-31 23:55:44.561</th>\n      <td>PUMPING_STATION_ENUM.PST232</td>\n      <td>0.72</td>\n      <td>0.0</td>\n      <td>[0.0, 0.0]</td>\n      <td>0.0</td>\n      <td>&lt;NA&gt;</td>\n      <td>&lt;NA&gt;</td>\n      <td>None</td>\n      <td>None</td>\n      <td>None</td>\n    </tr>\n    <tr>\n      <th>2021-08-31 23:55:56.089</th>\n      <td>PUMPING_STATION_ENUM.PST232</td>\n      <td>0.71</td>\n      <td>0.0</td>\n      <td>[0.0, 0.0]</td>\n      <td>0.0</td>\n      <td>&lt;NA&gt;</td>\n      <td>&lt;NA&gt;</td>\n      <td>None</td>\n      <td>None</td>\n      <td>None</td>\n    </tr>\n    <tr>\n      <th>2021-08-31 23:56:07.602</th>\n      <td>PUMPING_STATION_ENUM.PST232</td>\n      <td>0.72</td>\n      <td>0.0</td>\n      <td>[0.0, 0.0]</td>\n      <td>0.0</td>\n      <td>&lt;NA&gt;</td>\n      <td>&lt;NA&gt;</td>\n      <td>None</td>\n      <td>None</td>\n      <td>None</td>\n    </tr>\n    <tr>\n      <th>2021-08-31 23:57:50.968</th>\n      <td>PUMPING_STATION_ENUM.PST232</td>\n      <td>0.73</td>\n      <td>0.0</td>\n      <td>[0.0, 0.0]</td>\n      <td>0.0</td>\n      <td>&lt;NA&gt;</td>\n      <td>&lt;NA&gt;</td>\n      <td>None</td>\n      <td>None</td>\n      <td>None</td>\n    </tr>\n    <tr>\n      <th>2021-08-31 23:59:34.645</th>\n      <td>PUMPING_STATION_ENUM.PST232</td>\n      <td>0.74</td>\n      <td>0.0</td>\n      <td>[0.0, 0.0]</td>\n      <td>0.0</td>\n      <td>&lt;NA&gt;</td>\n      <td>&lt;NA&gt;</td>\n      <td>None</td>\n      <td>None</td>\n      <td>None</td>\n    </tr>\n  </tbody>\n</table>\n<p>1407518 rows × 10 columns</p>\n</div>"
     },
     "execution_count": 72,
     "metadata": {},
     "output_type": "execute_result"
    }
   ],
   "source": [
    "df_r = df[['pumping_station','water_level', 'outflow_level','currents','current_tot','cycle_nr', 'cycle_step','cycle_state', 'cycle_state_transition','error' ]]\n",
    "df_r = df_r[df_r.pumping_station == ps.PST232]\n",
    "df_r"
   ],
   "metadata": {
    "collapsed": false,
    "pycharm": {
     "name": "#%%\n"
    }
   }
  },
  {
   "cell_type": "code",
   "execution_count": 73,
   "outputs": [],
   "source": [
    "i = df.index[0]"
   ],
   "metadata": {
    "collapsed": false,
    "pycharm": {
     "name": "#%%\n"
    }
   }
  },
  {
   "cell_type": "code",
   "execution_count": 55,
   "outputs": [
    {
     "data": {
      "text/plain": "pumping_station    PUMPING_STATION_ENUM.PST232\nwater_level                               1.13\nName: 2020-05-01 00:00:00, dtype: object"
     },
     "execution_count": 55,
     "metadata": {},
     "output_type": "execute_result"
    }
   ],
   "source": [
    "df.loc[i, ['pumping_station', 'water_level']]\n"
   ],
   "metadata": {
    "collapsed": false,
    "pycharm": {
     "name": "#%%\n"
    }
   }
  },
  {
   "cell_type": "code",
   "execution_count": 5,
   "outputs": [],
   "source": [
    "df_rr = df[['water_level', 'outflow_level','currents','current_tot','cycle_step','error']]"
   ],
   "metadata": {
    "collapsed": false,
    "pycharm": {
     "name": "#%%\n"
    }
   }
  }
 ],
 "metadata": {
  "kernelspec": {
   "display_name": "Python 3",
   "language": "python",
   "name": "python3"
  },
  "language_info": {
   "codemirror_mode": {
    "name": "ipython",
    "version": 2
   },
   "file_extension": ".py",
   "mimetype": "text/x-python",
   "name": "python",
   "nbconvert_exporter": "python",
   "pygments_lexer": "ipython2",
   "version": "2.7.6"
  }
 },
 "nbformat": 4,
 "nbformat_minor": 0
}