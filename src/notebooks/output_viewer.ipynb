{
 "cells": [
  {
   "cell_type": "code",
   "execution_count": 2,
   "metadata": {
    "collapsed": true
   },
   "outputs": [],
   "source": [
    "import pandas as pd"
   ]
  },
  {
   "cell_type": "code",
   "execution_count": 3,
   "outputs": [],
   "source": [
    "df = pd.read_pickle('../../output/pst240-0.pkl', compression='gzip')"
   ],
   "metadata": {
    "collapsed": false,
    "pycharm": {
     "name": "#%%\n"
    }
   }
  },
  {
   "cell_type": "code",
   "execution_count": 4,
   "outputs": [
    {
     "data": {
      "text/plain": "                                     pumping_station  water_level  \\\ntime                                                                \n2020-05-06 11:00:00.000  PUMPING_STATION_ENUM.PST240        1.126   \n2020-05-06 11:08:54.596  PUMPING_STATION_ENUM.PST240        0.377   \n2020-05-06 11:08:59.323  PUMPING_STATION_ENUM.PST240        0.378   \n2020-05-06 11:09:04.471  PUMPING_STATION_ENUM.PST240        0.375   \n2020-05-06 11:09:11.054  PUMPING_STATION_ENUM.PST240        0.374   \n...                                              ...          ...   \n2020-05-07 13:00:33.675  PUMPING_STATION_ENUM.PST240        0.371   \n2020-05-07 13:00:37.933  PUMPING_STATION_ENUM.PST240        0.372   \n2020-05-07 13:00:42.567  PUMPING_STATION_ENUM.PST240        0.372   \n2020-05-07 13:00:47.106  PUMPING_STATION_ENUM.PST240        0.371   \n2020-05-07 13:00:51.459  PUMPING_STATION_ENUM.PST240        0.371   \n\n                         outflow_level           currents  current_tot  \\\ntime                                                                     \n2020-05-06 11:00:00.000           52.8  [0.0, 0.0, 24.28]        24.28   \n2020-05-06 11:08:54.596            0.0  [0.06, 0.02, 0.0]         0.08   \n2020-05-06 11:08:59.323            0.0  [0.06, 0.02, 0.0]         0.08   \n2020-05-06 11:09:04.471            0.0  [0.06, 0.02, 0.0]         0.08   \n2020-05-06 11:09:11.054            0.0  [0.06, 0.02, 0.0]         0.08   \n...                                ...                ...          ...   \n2020-05-07 13:00:33.675            0.0    [0.0, 0.0, 0.0]         0.00   \n2020-05-07 13:00:37.933            0.0  [0.06, 0.02, 0.0]         0.08   \n2020-05-07 13:00:42.567            0.0  [0.06, 0.02, 0.0]         0.08   \n2020-05-07 13:00:47.106            0.0  [0.06, 0.02, 0.0]         0.08   \n2020-05-07 13:00:51.459            0.0  [0.06, 0.02, 0.0]         0.08   \n\n                         cycle_nr  cycle_step cycle_state  \\\ntime                                                        \n2020-05-06 11:00:00.000      <NA>        <NA>        None   \n2020-05-06 11:08:54.596      <NA>        <NA>        None   \n2020-05-06 11:08:59.323      <NA>        <NA>        None   \n2020-05-06 11:09:04.471      <NA>        <NA>        None   \n2020-05-06 11:09:11.054         0           4        [P3]   \n...                           ...         ...         ...   \n2020-05-07 13:00:33.675      <NA>        <NA>        None   \n2020-05-07 13:00:37.933      <NA>        <NA>        None   \n2020-05-07 13:00:42.567      <NA>        <NA>        None   \n2020-05-07 13:00:47.106      <NA>        <NA>        None   \n2020-05-07 13:00:51.459      <NA>        <NA>        None   \n\n                        cycle_state_transition error  \ntime                                                  \n2020-05-06 11:00:00.000                   None  None  \n2020-05-06 11:08:54.596                   None  None  \n2020-05-06 11:08:59.323                   None  None  \n2020-05-06 11:09:04.471                   None  None  \n2020-05-06 11:09:11.054            [P1,P2][P3]  None  \n...                                        ...   ...  \n2020-05-07 13:00:33.675                   None  None  \n2020-05-07 13:00:37.933                   None  None  \n2020-05-07 13:00:42.567                   None  None  \n2020-05-07 13:00:47.106                   None  None  \n2020-05-07 13:00:51.459                   None  None  \n\n[20000 rows x 10 columns]",
      "text/html": "<div>\n<style scoped>\n    .dataframe tbody tr th:only-of-type {\n        vertical-align: middle;\n    }\n\n    .dataframe tbody tr th {\n        vertical-align: top;\n    }\n\n    .dataframe thead th {\n        text-align: right;\n    }\n</style>\n<table border=\"1\" class=\"dataframe\">\n  <thead>\n    <tr style=\"text-align: right;\">\n      <th></th>\n      <th>pumping_station</th>\n      <th>water_level</th>\n      <th>outflow_level</th>\n      <th>currents</th>\n      <th>current_tot</th>\n      <th>cycle_nr</th>\n      <th>cycle_step</th>\n      <th>cycle_state</th>\n      <th>cycle_state_transition</th>\n      <th>error</th>\n    </tr>\n    <tr>\n      <th>time</th>\n      <th></th>\n      <th></th>\n      <th></th>\n      <th></th>\n      <th></th>\n      <th></th>\n      <th></th>\n      <th></th>\n      <th></th>\n      <th></th>\n    </tr>\n  </thead>\n  <tbody>\n    <tr>\n      <th>2020-05-06 11:00:00.000</th>\n      <td>PUMPING_STATION_ENUM.PST240</td>\n      <td>1.126</td>\n      <td>52.8</td>\n      <td>[0.0, 0.0, 24.28]</td>\n      <td>24.28</td>\n      <td>&lt;NA&gt;</td>\n      <td>&lt;NA&gt;</td>\n      <td>None</td>\n      <td>None</td>\n      <td>None</td>\n    </tr>\n    <tr>\n      <th>2020-05-06 11:08:54.596</th>\n      <td>PUMPING_STATION_ENUM.PST240</td>\n      <td>0.377</td>\n      <td>0.0</td>\n      <td>[0.06, 0.02, 0.0]</td>\n      <td>0.08</td>\n      <td>&lt;NA&gt;</td>\n      <td>&lt;NA&gt;</td>\n      <td>None</td>\n      <td>None</td>\n      <td>None</td>\n    </tr>\n    <tr>\n      <th>2020-05-06 11:08:59.323</th>\n      <td>PUMPING_STATION_ENUM.PST240</td>\n      <td>0.378</td>\n      <td>0.0</td>\n      <td>[0.06, 0.02, 0.0]</td>\n      <td>0.08</td>\n      <td>&lt;NA&gt;</td>\n      <td>&lt;NA&gt;</td>\n      <td>None</td>\n      <td>None</td>\n      <td>None</td>\n    </tr>\n    <tr>\n      <th>2020-05-06 11:09:04.471</th>\n      <td>PUMPING_STATION_ENUM.PST240</td>\n      <td>0.375</td>\n      <td>0.0</td>\n      <td>[0.06, 0.02, 0.0]</td>\n      <td>0.08</td>\n      <td>&lt;NA&gt;</td>\n      <td>&lt;NA&gt;</td>\n      <td>None</td>\n      <td>None</td>\n      <td>None</td>\n    </tr>\n    <tr>\n      <th>2020-05-06 11:09:11.054</th>\n      <td>PUMPING_STATION_ENUM.PST240</td>\n      <td>0.374</td>\n      <td>0.0</td>\n      <td>[0.06, 0.02, 0.0]</td>\n      <td>0.08</td>\n      <td>0</td>\n      <td>4</td>\n      <td>[P3]</td>\n      <td>[P1,P2][P3]</td>\n      <td>None</td>\n    </tr>\n    <tr>\n      <th>...</th>\n      <td>...</td>\n      <td>...</td>\n      <td>...</td>\n      <td>...</td>\n      <td>...</td>\n      <td>...</td>\n      <td>...</td>\n      <td>...</td>\n      <td>...</td>\n      <td>...</td>\n    </tr>\n    <tr>\n      <th>2020-05-07 13:00:33.675</th>\n      <td>PUMPING_STATION_ENUM.PST240</td>\n      <td>0.371</td>\n      <td>0.0</td>\n      <td>[0.0, 0.0, 0.0]</td>\n      <td>0.00</td>\n      <td>&lt;NA&gt;</td>\n      <td>&lt;NA&gt;</td>\n      <td>None</td>\n      <td>None</td>\n      <td>None</td>\n    </tr>\n    <tr>\n      <th>2020-05-07 13:00:37.933</th>\n      <td>PUMPING_STATION_ENUM.PST240</td>\n      <td>0.372</td>\n      <td>0.0</td>\n      <td>[0.06, 0.02, 0.0]</td>\n      <td>0.08</td>\n      <td>&lt;NA&gt;</td>\n      <td>&lt;NA&gt;</td>\n      <td>None</td>\n      <td>None</td>\n      <td>None</td>\n    </tr>\n    <tr>\n      <th>2020-05-07 13:00:42.567</th>\n      <td>PUMPING_STATION_ENUM.PST240</td>\n      <td>0.372</td>\n      <td>0.0</td>\n      <td>[0.06, 0.02, 0.0]</td>\n      <td>0.08</td>\n      <td>&lt;NA&gt;</td>\n      <td>&lt;NA&gt;</td>\n      <td>None</td>\n      <td>None</td>\n      <td>None</td>\n    </tr>\n    <tr>\n      <th>2020-05-07 13:00:47.106</th>\n      <td>PUMPING_STATION_ENUM.PST240</td>\n      <td>0.371</td>\n      <td>0.0</td>\n      <td>[0.06, 0.02, 0.0]</td>\n      <td>0.08</td>\n      <td>&lt;NA&gt;</td>\n      <td>&lt;NA&gt;</td>\n      <td>None</td>\n      <td>None</td>\n      <td>None</td>\n    </tr>\n    <tr>\n      <th>2020-05-07 13:00:51.459</th>\n      <td>PUMPING_STATION_ENUM.PST240</td>\n      <td>0.371</td>\n      <td>0.0</td>\n      <td>[0.06, 0.02, 0.0]</td>\n      <td>0.08</td>\n      <td>&lt;NA&gt;</td>\n      <td>&lt;NA&gt;</td>\n      <td>None</td>\n      <td>None</td>\n      <td>None</td>\n    </tr>\n  </tbody>\n</table>\n<p>20000 rows × 10 columns</p>\n</div>"
     },
     "execution_count": 4,
     "metadata": {},
     "output_type": "execute_result"
    }
   ],
   "source": [
    "df_r = df[['pumping_station','water_level', 'outflow_level','currents','current_tot','cycle_nr', 'cycle_step','cycle_state', 'cycle_state_transition','error' ]]\n",
    "df_r"
   ],
   "metadata": {
    "collapsed": false,
    "pycharm": {
     "name": "#%%\n"
    }
   }
  },
  {
   "cell_type": "code",
   "execution_count": 5,
   "outputs": [],
   "source": [
    "df_rr = df[['water_level', 'outflow_level','currents','current_tot','cycle_step','error']]"
   ],
   "metadata": {
    "collapsed": false,
    "pycharm": {
     "name": "#%%\n"
    }
   }
  },
  {
   "cell_type": "code",
   "execution_count": 96,
   "outputs": [
    {
     "name": "stdout",
     "output_type": "stream",
     "text": [
      "ran in 1.0444059371948242 seconds\n"
     ]
    }
   ],
   "source": [
    "from time import time\n",
    "# TODO iat vs at.\n",
    "df_t = df_rr.copy()\n",
    "start = time()\n",
    "\n",
    "sample = df_rr.iloc[0]\n",
    "for ix, (date, now) in enumerate(df_t.iterrows()):\n",
    "    # df_t.at[date, 'current_tot'] = 69\n",
    "    a=df.iloc[ix]\n",
    "    a\n",
    "    a\n",
    "    a\n",
    "    a\n",
    "print(f\"ran in {time() - start} seconds\")"
   ],
   "metadata": {
    "collapsed": false,
    "pycharm": {
     "name": "#%%\n"
    }
   }
  },
  {
   "cell_type": "code",
   "execution_count": 24,
   "outputs": [
    {
     "name": "stdout",
     "output_type": "stream",
     "text": [
      "[0.0, 0.0, 24.28]\n",
      "ran in 711.4523923397064 seconds\n"
     ]
    }
   ],
   "source": [
    "for ix, obj in enumerate(df_t.itertuples()):\n",
    "    print(obj[3])\n",
    "    break\n",
    "    # print(obj)\n",
    "print(f\"ran in {time() - start} seconds\")"
   ],
   "metadata": {
    "collapsed": false,
    "pycharm": {
     "name": "#%%\n"
    }
   }
  },
  {
   "cell_type": "code",
   "execution_count": 88,
   "outputs": [
    {
     "data": {
      "text/plain": "Pandas(water_level=1.126, outflow_level=52.8, cycle_nr=<NA>, cycle_step=<NA>, cycle_state=None, cycle_state_transition=None, error=None, current_tot=24.28, currents=[0.0, 0.0, 24.28], pumping_station=<PUMPING_STATION_ENUM.PST240: 'PST240'>)"
     },
     "execution_count": 88,
     "metadata": {},
     "output_type": "execute_result"
    }
   ],
   "source": [
    "a = df[0:4].to_dict('records')\n",
    "a,b,c,d = list(df[0:4].itertuples(index=False))\n",
    "a"
   ],
   "metadata": {
    "collapsed": false,
    "pycharm": {
     "name": "#%%\n"
    }
   }
  },
  {
   "cell_type": "code",
   "execution_count": 91,
   "outputs": [
    {
     "ename": "TypeError",
     "evalue": "_get_value() missing 1 required positional argument: 'col'",
     "output_type": "error",
     "traceback": [
      "\u001B[0;31m---------------------------------------------------------------------------\u001B[0m",
      "\u001B[0;31mTypeError\u001B[0m                                 Traceback (most recent call last)",
      "Input \u001B[0;32mIn [91]\u001B[0m, in \u001B[0;36m<module>\u001B[0;34m\u001B[0m\n\u001B[0;32m----> 1\u001B[0m \u001B[43mdf\u001B[49m\u001B[38;5;241;43m.\u001B[39;49m\u001B[43mat\u001B[49m\u001B[43m[\u001B[49m\u001B[38;5;241;43m4\u001B[39;49m\u001B[43m]\u001B[49m\n",
      "File \u001B[0;32m~/miniforge3/envs/MLOPS/lib/python3.9/site-packages/pandas/core/indexing.py:2275\u001B[0m, in \u001B[0;36m_AtIndexer.__getitem__\u001B[0;34m(self, key)\u001B[0m\n\u001B[1;32m   2272\u001B[0m         \u001B[38;5;28;01mraise\u001B[39;00m \u001B[38;5;167;01mValueError\u001B[39;00m(\u001B[38;5;124m\"\u001B[39m\u001B[38;5;124mInvalid call for scalar access (getting)!\u001B[39m\u001B[38;5;124m\"\u001B[39m)\n\u001B[1;32m   2273\u001B[0m     \u001B[38;5;28;01mreturn\u001B[39;00m \u001B[38;5;28mself\u001B[39m\u001B[38;5;241m.\u001B[39mobj\u001B[38;5;241m.\u001B[39mloc[key]\n\u001B[0;32m-> 2275\u001B[0m \u001B[38;5;28;01mreturn\u001B[39;00m \u001B[38;5;28;43msuper\u001B[39;49m\u001B[43m(\u001B[49m\u001B[43m)\u001B[49m\u001B[38;5;241;43m.\u001B[39;49m\u001B[38;5;21;43m__getitem__\u001B[39;49m\u001B[43m(\u001B[49m\u001B[43mkey\u001B[49m\u001B[43m)\u001B[49m\n",
      "File \u001B[0;32m~/miniforge3/envs/MLOPS/lib/python3.9/site-packages/pandas/core/indexing.py:2222\u001B[0m, in \u001B[0;36m_ScalarAccessIndexer.__getitem__\u001B[0;34m(self, key)\u001B[0m\n\u001B[1;32m   2219\u001B[0m         \u001B[38;5;28;01mraise\u001B[39;00m \u001B[38;5;167;01mValueError\u001B[39;00m(\u001B[38;5;124m\"\u001B[39m\u001B[38;5;124mInvalid call for scalar access (getting)!\u001B[39m\u001B[38;5;124m\"\u001B[39m)\n\u001B[1;32m   2221\u001B[0m key \u001B[38;5;241m=\u001B[39m \u001B[38;5;28mself\u001B[39m\u001B[38;5;241m.\u001B[39m_convert_key(key)\n\u001B[0;32m-> 2222\u001B[0m \u001B[38;5;28;01mreturn\u001B[39;00m \u001B[38;5;28;43mself\u001B[39;49m\u001B[38;5;241;43m.\u001B[39;49m\u001B[43mobj\u001B[49m\u001B[38;5;241;43m.\u001B[39;49m\u001B[43m_get_value\u001B[49m\u001B[43m(\u001B[49m\u001B[38;5;241;43m*\u001B[39;49m\u001B[43mkey\u001B[49m\u001B[43m,\u001B[49m\u001B[43m \u001B[49m\u001B[43mtakeable\u001B[49m\u001B[38;5;241;43m=\u001B[39;49m\u001B[38;5;28;43mself\u001B[39;49m\u001B[38;5;241;43m.\u001B[39;49m\u001B[43m_takeable\u001B[49m\u001B[43m)\u001B[49m\n",
      "\u001B[0;31mTypeError\u001B[0m: _get_value() missing 1 required positional argument: 'col'"
     ]
    }
   ],
   "source": [
    "df.at[4]"
   ],
   "metadata": {
    "collapsed": false,
    "pycharm": {
     "name": "#%%\n"
    }
   }
  },
  {
   "cell_type": "code",
   "execution_count": null,
   "outputs": [],
   "source": [],
   "metadata": {
    "collapsed": false,
    "pycharm": {
     "name": "#%%\n"
    }
   }
  }
 ],
 "metadata": {
  "kernelspec": {
   "display_name": "Python 3",
   "language": "python",
   "name": "python3"
  },
  "language_info": {
   "codemirror_mode": {
    "name": "ipython",
    "version": 2
   },
   "file_extension": ".py",
   "mimetype": "text/x-python",
   "name": "python",
   "nbconvert_exporter": "python",
   "pygments_lexer": "ipython2",
   "version": "2.7.6"
  }
 },
 "nbformat": 4,
 "nbformat_minor": 0
}