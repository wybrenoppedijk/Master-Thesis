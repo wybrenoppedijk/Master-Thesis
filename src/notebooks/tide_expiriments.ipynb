{
 "cells": [
  {
   "cell_type": "code",
   "execution_count": 220,
   "metadata": {
    "collapsed": true
   },
   "outputs": [],
   "source": [
    "import pandas as pd\n",
    "pd.options.mode.chained_assignment = None\n",
    "import json\n",
    "from datetime import datetime\n"
   ]
  },
  {
   "cell_type": "markdown",
   "source": [
    "__Load JSON data__"
   ],
   "metadata": {
    "collapsed": false
   }
  },
  {
   "cell_type": "code",
   "execution_count": 221,
   "outputs": [],
   "source": [
    "d = json.load(open('../../data/ocean_data.json'))\n",
    "df = pd.DataFrame(d.get('features'))[['properties']]"
   ],
   "metadata": {
    "collapsed": false,
    "pycharm": {
     "name": "#%%\n"
    }
   }
  },
  {
   "cell_type": "code",
   "execution_count": 222,
   "outputs": [],
   "source": [
    "df.index = pd.to_datetime(df.properties.apply(lambda x: x.get('observed')))\n",
    "df.index = df.index.tz_localize(None)\n",
    "df['sea_level'] = df.properties.apply(lambda x: x.get('value'))\n",
    "\n",
    "# assert all rows have parameterId sea_reg\n",
    "df['parameter'] = df.properties.apply(lambda x: x.get('parameterId'))\n",
    "assert (df.parameter == 'sea_reg').all()\n",
    "df.drop(columns=['parameter', 'properties'], inplace=True)"
   ],
   "metadata": {
    "collapsed": false,
    "pycharm": {
     "name": "#%%\n"
    }
   }
  },
  {
   "cell_type": "markdown",
   "source": [
    "__Find measurements by date__"
   ],
   "metadata": {
    "collapsed": false
   }
  },
  {
   "cell_type": "code",
   "execution_count": 223,
   "outputs": [],
   "source": [
    "df_sea_level = df\n",
    "df_sea_level = df_sea_level.sort_index(axis=0)"
   ],
   "metadata": {
    "collapsed": false,
    "pycharm": {
     "name": "#%%\n"
    }
   }
  },
  {
   "cell_type": "markdown",
   "source": [
    "# Experimental"
   ],
   "metadata": {
    "collapsed": false
   }
  },
  {
   "cell_type": "code",
   "execution_count": 228,
   "outputs": [],
   "source": [
    "df = pd.read_pickle('../../output/239-3600-we-wa.pkl', compression='gzip')"
   ],
   "metadata": {
    "collapsed": false,
    "pycharm": {
     "name": "#%%\n"
    }
   }
  },
  {
   "cell_type": "code",
   "execution_count": 237,
   "outputs": [],
   "source": [
    "def get_sea_levels_row(date):\n",
    "    ix = df_sea_level.index.get_indexer([date], method='nearest')[0]\n",
    "    return df_sea_level.iloc[ix - 4: ix - 1].mean().iat[0],\\\n",
    "           df_sea_level.iloc[ix: ix + 3].mean().iat[0]\n",
    "\n",
    "def get_sea_levels(df_part):\n",
    "    df_part['tides'] = df_part.index.map(get_sea_levels_row)\n",
    "    df_part['sea_level_last_30min'] = df_part.tides.apply(lambda x: x[0])\n",
    "    df_part['sea_level_next_30min'] = df_part.tides.apply(lambda x: x[1])\n",
    "    return df_part\n",
    "\n",
    "pool = Pool(processes=4)\n"
   ],
   "metadata": {
    "collapsed": false,
    "pycharm": {
     "name": "#%%\n"
    }
   }
  },
  {
   "cell_type": "code",
   "execution_count": 238,
   "outputs": [
    {
     "data": {
      "text/plain": "                     water_level  outflow_level                   currents  \\\n2020-04-23 12:00:00     1.466236       4.533122  [2.1602753277777778, 0.0]   \n2020-04-23 13:00:00     0.000000      13.287046   [6.301382713888889, 0.0]   \n2020-04-23 14:00:00     0.000000       6.286903   [2.981136261111111, 0.0]   \n2020-04-23 15:00:00     0.000000      14.812008   [6.953821866666667, 0.0]   \n2020-04-23 16:00:00     0.000000      14.750702   [6.869975986111111, 0.0]   \n...                          ...            ...                        ...   \n2021-02-23 07:00:00     0.757506      22.834174  [10.967703544444445, 0.0]   \n2021-02-23 08:00:00     0.784109      28.277850  [13.413901605555555, 0.0]   \n2021-02-23 09:00:00     0.748224      22.573596           [10.810242, 0.0]   \n2021-02-23 10:00:00     0.801731      29.837787  [14.210679952777777, 0.0]   \n2021-02-23 11:00:00     0.805357      24.255535  [11.403469786111112, 0.0]   \n\n                     current_tot              pumping_station  temp  prcp  \\\n2020-04-23 12:00:00     2.160275  PUMPING_STATION_ENUM.PST239  11.0   0.0   \n2020-04-23 13:00:00     6.301383  PUMPING_STATION_ENUM.PST239  12.0   0.0   \n2020-04-23 14:00:00     2.981136  PUMPING_STATION_ENUM.PST239  13.0   0.0   \n2020-04-23 15:00:00     6.953822  PUMPING_STATION_ENUM.PST239  12.0   0.0   \n2020-04-23 16:00:00     6.869976  PUMPING_STATION_ENUM.PST239  12.0   0.0   \n...                          ...                          ...   ...   ...   \n2021-02-23 07:00:00    10.967704  PUMPING_STATION_ENUM.PST239   5.3   0.0   \n2021-02-23 08:00:00    13.413902  PUMPING_STATION_ENUM.PST239   5.6   0.0   \n2021-02-23 09:00:00    10.810242  PUMPING_STATION_ENUM.PST239   5.6   0.0   \n2021-02-23 10:00:00    14.210680  PUMPING_STATION_ENUM.PST239   5.5   0.0   \n2021-02-23 11:00:00    11.403470  PUMPING_STATION_ENUM.PST239   5.5   0.0   \n\n                     snow  clean_water_usage_day  \\\n2020-04-23 12:00:00   NaN                  447.0   \n2020-04-23 13:00:00   NaN                  447.0   \n2020-04-23 14:00:00   NaN                  447.0   \n2020-04-23 15:00:00   NaN                  447.0   \n2020-04-23 16:00:00   NaN                  447.0   \n...                   ...                    ...   \n2021-02-23 07:00:00   NaN                    NaN   \n2021-02-23 08:00:00   NaN                    NaN   \n2021-02-23 09:00:00   NaN                    NaN   \n2021-02-23 10:00:00   NaN                    NaN   \n2021-02-23 11:00:00   NaN                    NaN   \n\n                                                          tides  \\\n2020-04-23 12:00:00    (2.3333333333333335, 3.3333333333333335)   \n2020-04-23 13:00:00                    (4.0, 5.333333333333333)   \n2020-04-23 14:00:00                   (3.3333333333333335, 6.0)   \n2020-04-23 15:00:00      (5.333333333333333, 5.333333333333333)   \n2020-04-23 16:00:00                    (5.666666666666667, 6.0)   \n...                                                         ...   \n2021-02-23 07:00:00  (-24.666666666666668, -26.333333333333332)   \n2021-02-23 08:00:00                (-28.0, -27.666666666666668)   \n2021-02-23 09:00:00  (-29.333333333333332, -28.333333333333332)   \n2021-02-23 10:00:00                (-27.666666666666668, -30.0)   \n2021-02-23 11:00:00                (-31.0, -30.666666666666668)   \n\n                     sea_level_last_30min  sea_level_next_30min  \n2020-04-23 12:00:00              2.333333              3.333333  \n2020-04-23 13:00:00              4.000000              5.333333  \n2020-04-23 14:00:00              3.333333              6.000000  \n2020-04-23 15:00:00              5.333333              5.333333  \n2020-04-23 16:00:00              5.666667              6.000000  \n...                                   ...                   ...  \n2021-02-23 07:00:00            -24.666667            -26.333333  \n2021-02-23 08:00:00            -28.000000            -27.666667  \n2021-02-23 09:00:00            -29.333333            -28.333333  \n2021-02-23 10:00:00            -27.666667            -30.000000  \n2021-02-23 11:00:00            -31.000000            -30.666667  \n\n[5875 rows x 12 columns]",
      "text/html": "<div>\n<style scoped>\n    .dataframe tbody tr th:only-of-type {\n        vertical-align: middle;\n    }\n\n    .dataframe tbody tr th {\n        vertical-align: top;\n    }\n\n    .dataframe thead th {\n        text-align: right;\n    }\n</style>\n<table border=\"1\" class=\"dataframe\">\n  <thead>\n    <tr style=\"text-align: right;\">\n      <th></th>\n      <th>water_level</th>\n      <th>outflow_level</th>\n      <th>currents</th>\n      <th>current_tot</th>\n      <th>pumping_station</th>\n      <th>temp</th>\n      <th>prcp</th>\n      <th>snow</th>\n      <th>clean_water_usage_day</th>\n      <th>tides</th>\n      <th>sea_level_last_30min</th>\n      <th>sea_level_next_30min</th>\n    </tr>\n  </thead>\n  <tbody>\n    <tr>\n      <th>2020-04-23 12:00:00</th>\n      <td>1.466236</td>\n      <td>4.533122</td>\n      <td>[2.1602753277777778, 0.0]</td>\n      <td>2.160275</td>\n      <td>PUMPING_STATION_ENUM.PST239</td>\n      <td>11.0</td>\n      <td>0.0</td>\n      <td>NaN</td>\n      <td>447.0</td>\n      <td>(2.3333333333333335, 3.3333333333333335)</td>\n      <td>2.333333</td>\n      <td>3.333333</td>\n    </tr>\n    <tr>\n      <th>2020-04-23 13:00:00</th>\n      <td>0.000000</td>\n      <td>13.287046</td>\n      <td>[6.301382713888889, 0.0]</td>\n      <td>6.301383</td>\n      <td>PUMPING_STATION_ENUM.PST239</td>\n      <td>12.0</td>\n      <td>0.0</td>\n      <td>NaN</td>\n      <td>447.0</td>\n      <td>(4.0, 5.333333333333333)</td>\n      <td>4.000000</td>\n      <td>5.333333</td>\n    </tr>\n    <tr>\n      <th>2020-04-23 14:00:00</th>\n      <td>0.000000</td>\n      <td>6.286903</td>\n      <td>[2.981136261111111, 0.0]</td>\n      <td>2.981136</td>\n      <td>PUMPING_STATION_ENUM.PST239</td>\n      <td>13.0</td>\n      <td>0.0</td>\n      <td>NaN</td>\n      <td>447.0</td>\n      <td>(3.3333333333333335, 6.0)</td>\n      <td>3.333333</td>\n      <td>6.000000</td>\n    </tr>\n    <tr>\n      <th>2020-04-23 15:00:00</th>\n      <td>0.000000</td>\n      <td>14.812008</td>\n      <td>[6.953821866666667, 0.0]</td>\n      <td>6.953822</td>\n      <td>PUMPING_STATION_ENUM.PST239</td>\n      <td>12.0</td>\n      <td>0.0</td>\n      <td>NaN</td>\n      <td>447.0</td>\n      <td>(5.333333333333333, 5.333333333333333)</td>\n      <td>5.333333</td>\n      <td>5.333333</td>\n    </tr>\n    <tr>\n      <th>2020-04-23 16:00:00</th>\n      <td>0.000000</td>\n      <td>14.750702</td>\n      <td>[6.869975986111111, 0.0]</td>\n      <td>6.869976</td>\n      <td>PUMPING_STATION_ENUM.PST239</td>\n      <td>12.0</td>\n      <td>0.0</td>\n      <td>NaN</td>\n      <td>447.0</td>\n      <td>(5.666666666666667, 6.0)</td>\n      <td>5.666667</td>\n      <td>6.000000</td>\n    </tr>\n    <tr>\n      <th>...</th>\n      <td>...</td>\n      <td>...</td>\n      <td>...</td>\n      <td>...</td>\n      <td>...</td>\n      <td>...</td>\n      <td>...</td>\n      <td>...</td>\n      <td>...</td>\n      <td>...</td>\n      <td>...</td>\n      <td>...</td>\n    </tr>\n    <tr>\n      <th>2021-02-23 07:00:00</th>\n      <td>0.757506</td>\n      <td>22.834174</td>\n      <td>[10.967703544444445, 0.0]</td>\n      <td>10.967704</td>\n      <td>PUMPING_STATION_ENUM.PST239</td>\n      <td>5.3</td>\n      <td>0.0</td>\n      <td>NaN</td>\n      <td>NaN</td>\n      <td>(-24.666666666666668, -26.333333333333332)</td>\n      <td>-24.666667</td>\n      <td>-26.333333</td>\n    </tr>\n    <tr>\n      <th>2021-02-23 08:00:00</th>\n      <td>0.784109</td>\n      <td>28.277850</td>\n      <td>[13.413901605555555, 0.0]</td>\n      <td>13.413902</td>\n      <td>PUMPING_STATION_ENUM.PST239</td>\n      <td>5.6</td>\n      <td>0.0</td>\n      <td>NaN</td>\n      <td>NaN</td>\n      <td>(-28.0, -27.666666666666668)</td>\n      <td>-28.000000</td>\n      <td>-27.666667</td>\n    </tr>\n    <tr>\n      <th>2021-02-23 09:00:00</th>\n      <td>0.748224</td>\n      <td>22.573596</td>\n      <td>[10.810242, 0.0]</td>\n      <td>10.810242</td>\n      <td>PUMPING_STATION_ENUM.PST239</td>\n      <td>5.6</td>\n      <td>0.0</td>\n      <td>NaN</td>\n      <td>NaN</td>\n      <td>(-29.333333333333332, -28.333333333333332)</td>\n      <td>-29.333333</td>\n      <td>-28.333333</td>\n    </tr>\n    <tr>\n      <th>2021-02-23 10:00:00</th>\n      <td>0.801731</td>\n      <td>29.837787</td>\n      <td>[14.210679952777777, 0.0]</td>\n      <td>14.210680</td>\n      <td>PUMPING_STATION_ENUM.PST239</td>\n      <td>5.5</td>\n      <td>0.0</td>\n      <td>NaN</td>\n      <td>NaN</td>\n      <td>(-27.666666666666668, -30.0)</td>\n      <td>-27.666667</td>\n      <td>-30.000000</td>\n    </tr>\n    <tr>\n      <th>2021-02-23 11:00:00</th>\n      <td>0.805357</td>\n      <td>24.255535</td>\n      <td>[11.403469786111112, 0.0]</td>\n      <td>11.403470</td>\n      <td>PUMPING_STATION_ENUM.PST239</td>\n      <td>5.5</td>\n      <td>0.0</td>\n      <td>NaN</td>\n      <td>NaN</td>\n      <td>(-31.0, -30.666666666666668)</td>\n      <td>-31.000000</td>\n      <td>-30.666667</td>\n    </tr>\n  </tbody>\n</table>\n<p>5875 rows × 12 columns</p>\n</div>"
     },
     "execution_count": 238,
     "metadata": {},
     "output_type": "execute_result"
    }
   ],
   "source": [
    "df"
   ],
   "metadata": {
    "collapsed": false,
    "pycharm": {
     "name": "#%%\n"
    }
   }
  },
  {
   "cell_type": "code",
   "execution_count": 227,
   "outputs": [
    {
     "name": "stdout",
     "output_type": "stream",
     "text": [
      "2020-04-23 12:00:00    1.466236\n",
      "2020-04-23 13:00:00    0.000000\n",
      "2020-04-23 14:00:00    0.000000\n",
      "2020-04-23 15:00:00    0.000000\n",
      "2020-04-23 16:00:00    0.000000\n",
      "                         ...   \n",
      "2021-02-23 07:00:00    0.757506\n",
      "2021-02-23 08:00:00    0.784109\n",
      "2021-02-23 09:00:00    0.748224\n",
      "2021-02-23 10:00:00    0.801731\n",
      "2021-02-23 11:00:00    0.805357\n",
      "Name: water_level, Length: 5875, dtype: float642020-04-23 12:00:00     4.533122\n",
      "2020-04-23 13:00:00    13.287046\n",
      "2020-04-23 14:00:00     6.286903\n",
      "2020-04-23 15:00:00    14.812008\n",
      "2020-04-23 16:00:00    14.750702\n",
      "                         ...    \n",
      "2021-02-23 07:00:00    22.834174\n",
      "2021-02-23 08:00:00    28.277850\n",
      "2021-02-23 09:00:00    22.573596\n",
      "2021-02-23 10:00:00    29.837787\n",
      "2021-02-23 11:00:00    24.255535\n",
      "Name: outflow_level, Length: 5875, dtype: float64\n",
      "HOI\n",
      "\n",
      "HOI\n",
      "2020-04-23 12:00:00     2.160275\n",
      "2020-04-23 13:00:00     6.301383\n",
      "2020-04-23 14:00:00     2.981136\n",
      "2020-04-23 15:00:00     6.953822\n",
      "2020-04-23 16:00:00     6.869976\n",
      "                         ...    \n",
      "2021-02-23 07:00:00    10.967704\n",
      "2021-02-23 08:00:00    13.413902\n",
      "2021-02-23 09:00:00    10.810242\n",
      "2021-02-23 10:00:00    14.210680\n",
      "2021-02-23 11:00:00    11.403470\n",
      "Name: current_tot, Length: 5875, dtype: float64\n",
      "2020-04-23 12:00:00    PUMPING_STATION_ENUM.PST239\n",
      "2020-04-23 13:00:00    PUMPING_STATION_ENUM.PST239\n",
      "2020-04-23 14:00:00    PUMPING_STATION_ENUM.PST239\n",
      "2020-04-23 15:00:00    PUMPING_STATION_ENUM.PST239\n",
      "2020-04-23 16:00:00    PUMPING_STATION_ENUM.PST239\n",
      "                                  ...             \n",
      "2021-02-23 07:00:00    PUMPING_STATION_ENUM.PST239\n",
      "2021-02-23 08:00:00    PUMPING_STATION_ENUM.PST239\n",
      "2021-02-23 09:00:00    PUMPING_STATION_ENUM.PST239\n",
      "2021-02-23 10:00:00    PUMPING_STATION_ENUM.PST239\n",
      "2021-02-23 11:00:00    PUMPING_STATION_ENUM.PST239\n",
      "Name: pumping_station, Length: 5875, dtype: object2020-04-23 12:00:00    11.0\n",
      "2020-04-23 13:00:00    12.0\n",
      "2020-04-23 14:00:00    13.0\n",
      "2020-04-23 15:00:00    12.0\n",
      "2020-04-23 16:00:00    12.0\n",
      "                       ... \n",
      "2021-02-23 07:00:00     5.3\n",
      "2021-02-23 08:00:00     5.6\n",
      "2021-02-23 09:00:00     5.6\n",
      "2021-02-23 10:00:00     5.5\n",
      "2021-02-23 11:00:00     5.5\n",
      "Name: temp, Length: 5875, dtype: float64\n",
      "HOI\n",
      "HOI\n",
      "\n",
      "HOI\n",
      "2020-04-23 12:00:00    [2.1602753277777778, 0.0]\n",
      "2020-04-23 13:00:00     [6.301382713888889, 0.0]\n",
      "2020-04-23 14:00:00     [2.981136261111111, 0.0]\n",
      "2020-04-23 15:00:00     [6.953821866666667, 0.0]\n",
      "2020-04-23 16:00:00     [6.869975986111111, 0.0]\n",
      "                                 ...            \n",
      "2021-02-23 07:00:00    [10.967703544444445, 0.0]\n",
      "2021-02-23 08:00:00    [13.413901605555555, 0.0]\n",
      "2021-02-23 09:00:00             [10.810242, 0.0]\n",
      "2021-02-23 10:00:00    [14.210679952777777, 0.0]\n",
      "2021-02-23 11:00:00    [11.403469786111112, 0.0]\n",
      "Name: currents, Length: 5875, dtype: object2020-04-23 12:00:00    0.0\n",
      "2020-04-23 13:00:00    0.0\n",
      "2020-04-23 14:00:00    0.0\n",
      "2020-04-23 15:00:00    0.0\n",
      "2020-04-23 16:00:00    0.0\n",
      "                      ... \n",
      "2021-02-23 07:00:00    0.0\n",
      "2021-02-23 08:00:00    0.0\n",
      "2021-02-23 09:00:00    0.0\n",
      "2021-02-23 10:00:00    0.0\n",
      "2021-02-23 11:00:00    0.0\n",
      "Name: prcp, Length: 5875, dtype: float64\n",
      "\n",
      "2020-04-23 12:00:00   NaN\n",
      "2020-04-23 13:00:00   NaN\n",
      "2020-04-23 14:00:00   NaN\n",
      "2020-04-23 15:00:00   NaN\n",
      "2020-04-23 16:00:00   NaN\n",
      "                       ..\n",
      "2021-02-23 07:00:00   NaN\n",
      "2021-02-23 08:00:00   NaN\n",
      "2021-02-23 09:00:00   NaN\n",
      "2021-02-23 10:00:00   NaN\n",
      "2021-02-23 11:00:00   NaN\n",
      "Name: snow, Length: 5875, dtype: float64HOIHOI\n",
      "2020-04-23 12:00:00    447.0\n",
      "2020-04-23 13:00:00    447.0\n",
      "2020-04-23 14:00:00    447.0\n",
      "2020-04-23 15:00:00    447.0\n",
      "2020-04-23 16:00:00    447.0\n",
      "                       ...  \n",
      "2021-02-23 07:00:00      NaN\n",
      "2021-02-23 08:00:00      NaN\n",
      "2021-02-23 09:00:00      NaN\n",
      "2021-02-23 10:00:00      NaN\n",
      "2021-02-23 11:00:00      NaN\n",
      "Name: clean_water_usage_day, Length: 5875, dtype: float64\n",
      "\n",
      "\n",
      "HOIHOI\n",
      "2020-04-23 12:00:00   2020-04-23 12:00:00\n",
      "2020-04-23 13:00:00   2020-04-23 13:00:00\n",
      "2020-04-23 14:00:00   2020-04-23 14:00:00\n",
      "2020-04-23 15:00:00   2020-04-23 15:00:00\n",
      "2020-04-23 16:00:00   2020-04-23 16:00:00\n",
      "                              ...        \n",
      "2021-02-23 07:00:00   2021-02-23 07:00:00\n",
      "2021-02-23 08:00:00   2021-02-23 08:00:00\n",
      "2021-02-23 09:00:00   2021-02-23 09:00:00\n",
      "2021-02-23 10:00:00   2021-02-23 10:00:00\n",
      "2021-02-23 11:00:00   2021-02-23 11:00:00\n",
      "Name: date, Length: 5875, dtype: datetime64[ns]\n",
      "\n",
      "HOI\n"
     ]
    },
    {
     "ename": "AttributeError",
     "evalue": "'Series' object has no attribute 'date'",
     "output_type": "error",
     "traceback": [
      "\u001B[0;31m---------------------------------------------------------------------------\u001B[0m",
      "\u001B[0;31mRemoteTraceback\u001B[0m                           Traceback (most recent call last)",
      "\u001B[0;31mRemoteTraceback\u001B[0m: \n\"\"\"\nTraceback (most recent call last):\n  File \"/Users/nielstiben/miniforge3/envs/MLOPS/lib/python3.9/site-packages/multiprocess/pool.py\", line 125, in worker\n    result = (True, func(*args, **kwds))\n  File \"/Users/nielstiben/miniforge3/envs/MLOPS/lib/python3.9/site-packages/multiprocess/pool.py\", line 48, in mapstar\n    return list(map(*args))\n  File \"/var/folders/7k/w_y0ckl110zcdv_18lqmsgvm0000gn/T/ipykernel_7431/2804145777.py\", line 6, in get_sea_levels\n    date = row.date\n  File \"/Users/nielstiben/miniforge3/envs/MLOPS/lib/python3.9/site-packages/pandas/core/generic.py\", line 5575, in __getattr__\n    return object.__getattribute__(self, name)\nAttributeError: 'Series' object has no attribute 'date'\n\"\"\"",
      "\nThe above exception was the direct cause of the following exception:\n",
      "\u001B[0;31mAttributeError\u001B[0m                            Traceback (most recent call last)",
      "Input \u001B[0;32mIn [227]\u001B[0m, in \u001B[0;36m<cell line: 11>\u001B[0;34m()\u001B[0m\n\u001B[1;32m      8\u001B[0m     \u001B[38;5;28;01mreturn\u001B[39;00m (df_sea_level\u001B[38;5;241m.\u001B[39miloc[ix\u001B[38;5;241m-\u001B[39m\u001B[38;5;241m4\u001B[39m: ix\u001B[38;5;241m-\u001B[39m\u001B[38;5;241m1\u001B[39m]\u001B[38;5;241m.\u001B[39mmean()\u001B[38;5;241m.\u001B[39miat[\u001B[38;5;241m0\u001B[39m], df_sea_level\u001B[38;5;241m.\u001B[39miloc[ix: ix\u001B[38;5;241m+\u001B[39m\u001B[38;5;241m1\u001B[39m]\u001B[38;5;241m.\u001B[39mmean()\u001B[38;5;241m.\u001B[39miat[\u001B[38;5;241m0\u001B[39m])\n\u001B[1;32m     10\u001B[0m df[\u001B[38;5;124m'\u001B[39m\u001B[38;5;124mdate\u001B[39m\u001B[38;5;124m'\u001B[39m] \u001B[38;5;241m=\u001B[39m df\u001B[38;5;241m.\u001B[39mindex\n\u001B[0;32m---> 11\u001B[0m df[\u001B[38;5;124m'\u001B[39m\u001B[38;5;124mtides\u001B[39m\u001B[38;5;124m'\u001B[39m] \u001B[38;5;241m=\u001B[39m \u001B[43mdf\u001B[49m\u001B[38;5;241;43m.\u001B[39;49m\u001B[43mapply_parallel\u001B[49m\u001B[43m(\u001B[49m\u001B[43mget_sea_levels\u001B[49m\u001B[43m,\u001B[49m\u001B[43m \u001B[49m\u001B[43maxis\u001B[49m\u001B[38;5;241;43m=\u001B[39;49m\u001B[38;5;241;43m1\u001B[39;49m\u001B[43m,\u001B[49m\u001B[43m \u001B[49m\u001B[43mnum_processes\u001B[49m\u001B[38;5;241;43m=\u001B[39;49m\u001B[38;5;241;43m4\u001B[39;49m\u001B[43m)\u001B[49m\n\u001B[1;32m     12\u001B[0m df[\u001B[38;5;124m'\u001B[39m\u001B[38;5;124msea_level_last_30min\u001B[39m\u001B[38;5;124m'\u001B[39m] \u001B[38;5;241m=\u001B[39m df\u001B[38;5;241m.\u001B[39mtides\u001B[38;5;241m.\u001B[39mapply(\u001B[38;5;28;01mlambda\u001B[39;00m x: x[\u001B[38;5;241m0\u001B[39m])\n\u001B[1;32m     13\u001B[0m df[\u001B[38;5;124m'\u001B[39m\u001B[38;5;124msea_level_next_30min\u001B[39m\u001B[38;5;124m'\u001B[39m] \u001B[38;5;241m=\u001B[39m df\u001B[38;5;241m.\u001B[39mtides\u001B[38;5;241m.\u001B[39mapply(\u001B[38;5;28;01mlambda\u001B[39;00m x: x[\u001B[38;5;241m1\u001B[39m])\n",
      "File \u001B[0;32m~/miniforge3/envs/MLOPS/lib/python3.9/site-packages/multiprocesspandas/applyparallel.py:79\u001B[0m, in \u001B[0;36mdf_apply_parallel\u001B[0;34m(self, func, static_data, num_processes, axis)\u001B[0m\n\u001B[1;32m     77\u001B[0m         ret_list \u001B[38;5;241m=\u001B[39m p\u001B[38;5;241m.\u001B[39mmap(func, [row \u001B[38;5;28;01mfor\u001B[39;00m _, row \u001B[38;5;129;01min\u001B[39;00m \u001B[38;5;28mself\u001B[39m\u001B[38;5;241m.\u001B[39miterrows()])\n\u001B[1;32m     78\u001B[0m     \u001B[38;5;28;01melif\u001B[39;00m axis\u001B[38;5;241m==\u001B[39m\u001B[38;5;241m1\u001B[39m:\n\u001B[0;32m---> 79\u001B[0m         ret_list \u001B[38;5;241m=\u001B[39m \u001B[43mp\u001B[49m\u001B[38;5;241;43m.\u001B[39;49m\u001B[43mmap\u001B[49m\u001B[43m(\u001B[49m\u001B[43mfunc\u001B[49m\u001B[43m,\u001B[49m\u001B[43m \u001B[49m\u001B[43m[\u001B[49m\u001B[43mcol\u001B[49m\u001B[43m \u001B[49m\u001B[38;5;28;43;01mfor\u001B[39;49;00m\u001B[43m \u001B[49m\u001B[43m_\u001B[49m\u001B[43m,\u001B[49m\u001B[43m \u001B[49m\u001B[43mcol\u001B[49m\u001B[43m \u001B[49m\u001B[38;5;129;43;01min\u001B[39;49;00m\u001B[43m \u001B[49m\u001B[38;5;28;43mself\u001B[39;49m\u001B[38;5;241;43m.\u001B[39;49m\u001B[43mitems\u001B[49m\u001B[43m(\u001B[49m\u001B[43m)\u001B[49m\u001B[43m]\u001B[49m\u001B[43m)\u001B[49m\n\u001B[1;32m     80\u001B[0m \u001B[38;5;28;01mif\u001B[39;00m \u001B[38;5;28misinstance\u001B[39m(ret_list[\u001B[38;5;241m0\u001B[39m], pd\u001B[38;5;241m.\u001B[39mDataFrame) \u001B[38;5;129;01mor\u001B[39;00m \u001B[38;5;28misinstance\u001B[39m(ret_list[\u001B[38;5;241m0\u001B[39m], pd\u001B[38;5;241m.\u001B[39mDataFrame):\n\u001B[1;32m     81\u001B[0m     \u001B[38;5;28;01mif\u001B[39;00m axis\u001B[38;5;241m==\u001B[39m\u001B[38;5;241m0\u001B[39m:\n",
      "File \u001B[0;32m~/miniforge3/envs/MLOPS/lib/python3.9/site-packages/multiprocess/pool.py:364\u001B[0m, in \u001B[0;36mPool.map\u001B[0;34m(self, func, iterable, chunksize)\u001B[0m\n\u001B[1;32m    359\u001B[0m \u001B[38;5;28;01mdef\u001B[39;00m \u001B[38;5;21mmap\u001B[39m(\u001B[38;5;28mself\u001B[39m, func, iterable, chunksize\u001B[38;5;241m=\u001B[39m\u001B[38;5;28;01mNone\u001B[39;00m):\n\u001B[1;32m    360\u001B[0m     \u001B[38;5;124;03m'''\u001B[39;00m\n\u001B[1;32m    361\u001B[0m \u001B[38;5;124;03m    Apply `func` to each element in `iterable`, collecting the results\u001B[39;00m\n\u001B[1;32m    362\u001B[0m \u001B[38;5;124;03m    in a list that is returned.\u001B[39;00m\n\u001B[1;32m    363\u001B[0m \u001B[38;5;124;03m    '''\u001B[39;00m\n\u001B[0;32m--> 364\u001B[0m     \u001B[38;5;28;01mreturn\u001B[39;00m \u001B[38;5;28;43mself\u001B[39;49m\u001B[38;5;241;43m.\u001B[39;49m\u001B[43m_map_async\u001B[49m\u001B[43m(\u001B[49m\u001B[43mfunc\u001B[49m\u001B[43m,\u001B[49m\u001B[43m \u001B[49m\u001B[43miterable\u001B[49m\u001B[43m,\u001B[49m\u001B[43m \u001B[49m\u001B[43mmapstar\u001B[49m\u001B[43m,\u001B[49m\u001B[43m \u001B[49m\u001B[43mchunksize\u001B[49m\u001B[43m)\u001B[49m\u001B[38;5;241;43m.\u001B[39;49m\u001B[43mget\u001B[49m\u001B[43m(\u001B[49m\u001B[43m)\u001B[49m\n",
      "File \u001B[0;32m~/miniforge3/envs/MLOPS/lib/python3.9/site-packages/multiprocess/pool.py:771\u001B[0m, in \u001B[0;36mApplyResult.get\u001B[0;34m(self, timeout)\u001B[0m\n\u001B[1;32m    769\u001B[0m     \u001B[38;5;28;01mreturn\u001B[39;00m \u001B[38;5;28mself\u001B[39m\u001B[38;5;241m.\u001B[39m_value\n\u001B[1;32m    770\u001B[0m \u001B[38;5;28;01melse\u001B[39;00m:\n\u001B[0;32m--> 771\u001B[0m     \u001B[38;5;28;01mraise\u001B[39;00m \u001B[38;5;28mself\u001B[39m\u001B[38;5;241m.\u001B[39m_value\n",
      "\u001B[0;31mAttributeError\u001B[0m: 'Series' object has no attribute 'date'"
     ]
    }
   ],
   "source": [
    "from multiprocesspandas import applyparallel\n",
    "\n",
    "def get_sea_levels(row):\n",
    "    print(row)\n",
    "    print(\"HOI\")\n",
    "    date = row.date\n",
    "    ix = df_sea_level.index.get_indexer([date], method='nearest')[0]\n",
    "    return (df_sea_level.iloc[ix-4: ix-1].mean().iat[0], df_sea_level.iloc[ix: ix+1].mean().iat[0])\n",
    "\n",
    "df['date'] = df.index\n",
    "df['tides'] = df.apply_parallel(get_sea_levels, axis=1, num_processes=4)\n",
    "df['sea_level_last_30min'] = df.tides.apply(lambda x: x[0])\n",
    "df['sea_level_next_30min'] = df.tides.apply(lambda x: x[1])\n",
    "df.drop(columns=['tides'], inplace=True)\n",
    "df"
   ],
   "metadata": {
    "collapsed": false,
    "pycharm": {
     "name": "#%%\n"
    }
   }
  },
  {
   "cell_type": "code",
   "execution_count": 170,
   "outputs": [
    {
     "data": {
      "text/plain": "2.0"
     },
     "execution_count": 170,
     "metadata": {},
     "output_type": "execute_result"
    }
   ],
   "source": [
    "df_sea_level.iloc[56-4: 56-1].mean().iat[0]"
   ],
   "metadata": {
    "collapsed": false,
    "pycharm": {
     "name": "#%%\n"
    }
   }
  },
  {
   "cell_type": "code",
   "execution_count": null,
   "outputs": [],
   "source": [],
   "metadata": {
    "collapsed": false,
    "pycharm": {
     "name": "#%%\n"
    }
   }
  }
 ],
 "metadata": {
  "kernelspec": {
   "display_name": "Python 3",
   "language": "python",
   "name": "python3"
  },
  "language_info": {
   "codemirror_mode": {
    "name": "ipython",
    "version": 2
   },
   "file_extension": ".py",
   "mimetype": "text/x-python",
   "name": "python",
   "nbconvert_exporter": "python",
   "pygments_lexer": "ipython2",
   "version": "2.7.6"
  }
 },
 "nbformat": 4,
 "nbformat_minor": 0
}