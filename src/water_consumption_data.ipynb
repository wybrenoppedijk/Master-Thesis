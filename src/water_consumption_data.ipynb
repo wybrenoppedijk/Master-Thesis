{
 "cells": [
  {
   "cell_type": "code",
   "execution_count": 2,
   "metadata": {
    "collapsed": true
   },
   "outputs": [],
   "source": [
    "import pandas as pd\n",
    "import os\n",
    "from glob import glob\n",
    "import numpy as np\n",
    "from bs4 import BeautifulSoup"
   ]
  },
  {
   "cell_type": "code",
   "execution_count": 3,
   "outputs": [],
   "source": [
    "data_dir = 'data/VS__rapporter_Brogaard_VV_'"
   ],
   "metadata": {
    "collapsed": false,
    "pycharm": {
     "name": "#%%\n"
    }
   }
  },
  {
   "cell_type": "code",
   "execution_count": 43,
   "outputs": [
    {
     "data": {
      "text/plain": "'data/VS__rapporter_Brogaard_VV_/Brogaard juli 2020.html'"
     },
     "execution_count": 43,
     "metadata": {},
     "output_type": "execute_result"
    }
   ],
   "source": [
    "html_files = [html_file for html_file in glob(os.path.join(data_dir, '*.html'))]\n",
    "html = html_files[6]\n",
    "html"
   ],
   "metadata": {
    "collapsed": false,
    "pycharm": {
     "name": "#%%\n"
    }
   }
  },
  {
   "cell_type": "code",
   "execution_count": 67,
   "outputs": [
    {
     "data": {
      "text/plain": "         date  in_flow_total  out_flow_total  raw_water_flow_ponydalen  \\\n4  2020-07-01          683.0           692.0                     209.0   \n5  2020-07-02          748.0           724.0                     304.0   \n6  2020-07-03          736.0           703.0                     240.0   \n7  2020-07-04          680.0           684.0                     166.0   \n8  2020-07-05          764.0           730.0                     292.0   \n9  2020-07-06          759.0           744.0                     272.0   \n10 2020-07-07          842.0           804.0                     283.0   \n11 2020-07-08          846.0           816.0                     277.0   \n12 2020-07-09          908.0           838.0                     319.0   \n13 2020-07-10          871.0           817.0                     325.0   \n14 2020-07-11          877.0           861.0                     279.0   \n15 2020-07-12          892.0           863.0                     296.0   \n16 2020-07-13          800.0           768.0                     302.0   \n17 2020-07-14          888.0           818.0                     330.0   \n18 2020-07-15          852.0           854.0                     293.0   \n19 2020-07-16          867.0           860.0                     302.0   \n20 2020-07-17          789.0           786.0                     244.0   \n21 2020-07-18         1017.0           915.0                     338.0   \n22 2020-07-19          891.0           906.0                     235.0   \n23 2020-07-20          930.0           896.0                     282.0   \n24 2020-07-21         1004.0           930.0                     408.0   \n25 2020-07-22          965.0           941.0                     418.0   \n26 2020-07-23          981.0           962.0                     395.0   \n27 2020-07-24          920.0           864.0                     407.0   \n28 2020-07-25          885.0           875.0                     372.0   \n29 2020-07-26          875.0           831.0                     358.0   \n30 2020-07-27          854.0           813.0                     358.0   \n31 2020-07-28          814.0           800.0                     299.0   \n32 2020-07-29          879.0           828.0                     326.0   \n33 2020-07-30          868.0           846.0                     320.0   \n34 2020-07-31          864.0           847.0                     335.0   \n\n    raw_water_flow_maegård  raw_water_flow_sandkaas  \\\n4                    474.0                    197.0   \n5                    444.0                    218.0   \n6                    496.0                    207.0   \n7                    514.0                    189.0   \n8                    472.0                    211.0   \n9                    487.0                    211.0   \n10                   559.0                    233.0   \n11                   569.0                    227.0   \n12                   589.0                    245.0   \n13                   546.0                    230.0   \n14                   598.0                    242.0   \n15                   596.0                    248.0   \n16                   498.0                    225.0   \n17                   558.0                    220.0   \n18                   559.0                    241.0   \n19                   565.0                    245.0   \n20                   545.0                    212.0   \n21                   679.0                    250.0   \n22                   656.0                    251.0   \n23                   648.0                    255.0   \n24                   596.0                    264.0   \n25                   547.0                    257.0   \n26                   586.0                    251.0   \n27                   513.0                    234.0   \n28                   513.0                    233.0   \n29                   517.0                    232.0   \n30                   496.0                    226.0   \n31                   515.0                    230.0   \n32                   553.0                    237.0   \n33                   548.0                    245.0   \n34                   529.0                    244.0   \n\n    raw_water_flow_sandkaas_max  \n4                         159.0  \n5                         182.0  \n6                         182.0  \n7                         178.0  \n8                         183.0  \n9                         183.0  \n10                        202.0  \n11                        202.0  \n12                        219.0  \n13                        219.0  \n14                        217.0  \n15                        217.0  \n16                        248.0  \n17                        248.0  \n18                        216.0  \n19                        216.0  \n20                        227.0  \n21                        227.0  \n22                        217.0  \n23                        214.0  \n24                        221.0  \n25                        230.0  \n26                        230.0  \n27                        217.0  \n28                        215.0  \n29                        215.0  \n30                        219.0  \n31                        219.0  \n32                        211.0  \n33                        211.0  \n34                        234.0  ",
      "text/html": "<div>\n<style scoped>\n    .dataframe tbody tr th:only-of-type {\n        vertical-align: middle;\n    }\n\n    .dataframe tbody tr th {\n        vertical-align: top;\n    }\n\n    .dataframe thead th {\n        text-align: right;\n    }\n</style>\n<table border=\"1\" class=\"dataframe\">\n  <thead>\n    <tr style=\"text-align: right;\">\n      <th></th>\n      <th>date</th>\n      <th>in_flow_total</th>\n      <th>out_flow_total</th>\n      <th>raw_water_flow_ponydalen</th>\n      <th>raw_water_flow_maegård</th>\n      <th>raw_water_flow_sandkaas</th>\n      <th>raw_water_flow_sandkaas_max</th>\n    </tr>\n  </thead>\n  <tbody>\n    <tr>\n      <th>4</th>\n      <td>2020-07-01</td>\n      <td>683.0</td>\n      <td>692.0</td>\n      <td>209.0</td>\n      <td>474.0</td>\n      <td>197.0</td>\n      <td>159.0</td>\n    </tr>\n    <tr>\n      <th>5</th>\n      <td>2020-07-02</td>\n      <td>748.0</td>\n      <td>724.0</td>\n      <td>304.0</td>\n      <td>444.0</td>\n      <td>218.0</td>\n      <td>182.0</td>\n    </tr>\n    <tr>\n      <th>6</th>\n      <td>2020-07-03</td>\n      <td>736.0</td>\n      <td>703.0</td>\n      <td>240.0</td>\n      <td>496.0</td>\n      <td>207.0</td>\n      <td>182.0</td>\n    </tr>\n    <tr>\n      <th>7</th>\n      <td>2020-07-04</td>\n      <td>680.0</td>\n      <td>684.0</td>\n      <td>166.0</td>\n      <td>514.0</td>\n      <td>189.0</td>\n      <td>178.0</td>\n    </tr>\n    <tr>\n      <th>8</th>\n      <td>2020-07-05</td>\n      <td>764.0</td>\n      <td>730.0</td>\n      <td>292.0</td>\n      <td>472.0</td>\n      <td>211.0</td>\n      <td>183.0</td>\n    </tr>\n    <tr>\n      <th>9</th>\n      <td>2020-07-06</td>\n      <td>759.0</td>\n      <td>744.0</td>\n      <td>272.0</td>\n      <td>487.0</td>\n      <td>211.0</td>\n      <td>183.0</td>\n    </tr>\n    <tr>\n      <th>10</th>\n      <td>2020-07-07</td>\n      <td>842.0</td>\n      <td>804.0</td>\n      <td>283.0</td>\n      <td>559.0</td>\n      <td>233.0</td>\n      <td>202.0</td>\n    </tr>\n    <tr>\n      <th>11</th>\n      <td>2020-07-08</td>\n      <td>846.0</td>\n      <td>816.0</td>\n      <td>277.0</td>\n      <td>569.0</td>\n      <td>227.0</td>\n      <td>202.0</td>\n    </tr>\n    <tr>\n      <th>12</th>\n      <td>2020-07-09</td>\n      <td>908.0</td>\n      <td>838.0</td>\n      <td>319.0</td>\n      <td>589.0</td>\n      <td>245.0</td>\n      <td>219.0</td>\n    </tr>\n    <tr>\n      <th>13</th>\n      <td>2020-07-10</td>\n      <td>871.0</td>\n      <td>817.0</td>\n      <td>325.0</td>\n      <td>546.0</td>\n      <td>230.0</td>\n      <td>219.0</td>\n    </tr>\n    <tr>\n      <th>14</th>\n      <td>2020-07-11</td>\n      <td>877.0</td>\n      <td>861.0</td>\n      <td>279.0</td>\n      <td>598.0</td>\n      <td>242.0</td>\n      <td>217.0</td>\n    </tr>\n    <tr>\n      <th>15</th>\n      <td>2020-07-12</td>\n      <td>892.0</td>\n      <td>863.0</td>\n      <td>296.0</td>\n      <td>596.0</td>\n      <td>248.0</td>\n      <td>217.0</td>\n    </tr>\n    <tr>\n      <th>16</th>\n      <td>2020-07-13</td>\n      <td>800.0</td>\n      <td>768.0</td>\n      <td>302.0</td>\n      <td>498.0</td>\n      <td>225.0</td>\n      <td>248.0</td>\n    </tr>\n    <tr>\n      <th>17</th>\n      <td>2020-07-14</td>\n      <td>888.0</td>\n      <td>818.0</td>\n      <td>330.0</td>\n      <td>558.0</td>\n      <td>220.0</td>\n      <td>248.0</td>\n    </tr>\n    <tr>\n      <th>18</th>\n      <td>2020-07-15</td>\n      <td>852.0</td>\n      <td>854.0</td>\n      <td>293.0</td>\n      <td>559.0</td>\n      <td>241.0</td>\n      <td>216.0</td>\n    </tr>\n    <tr>\n      <th>19</th>\n      <td>2020-07-16</td>\n      <td>867.0</td>\n      <td>860.0</td>\n      <td>302.0</td>\n      <td>565.0</td>\n      <td>245.0</td>\n      <td>216.0</td>\n    </tr>\n    <tr>\n      <th>20</th>\n      <td>2020-07-17</td>\n      <td>789.0</td>\n      <td>786.0</td>\n      <td>244.0</td>\n      <td>545.0</td>\n      <td>212.0</td>\n      <td>227.0</td>\n    </tr>\n    <tr>\n      <th>21</th>\n      <td>2020-07-18</td>\n      <td>1017.0</td>\n      <td>915.0</td>\n      <td>338.0</td>\n      <td>679.0</td>\n      <td>250.0</td>\n      <td>227.0</td>\n    </tr>\n    <tr>\n      <th>22</th>\n      <td>2020-07-19</td>\n      <td>891.0</td>\n      <td>906.0</td>\n      <td>235.0</td>\n      <td>656.0</td>\n      <td>251.0</td>\n      <td>217.0</td>\n    </tr>\n    <tr>\n      <th>23</th>\n      <td>2020-07-20</td>\n      <td>930.0</td>\n      <td>896.0</td>\n      <td>282.0</td>\n      <td>648.0</td>\n      <td>255.0</td>\n      <td>214.0</td>\n    </tr>\n    <tr>\n      <th>24</th>\n      <td>2020-07-21</td>\n      <td>1004.0</td>\n      <td>930.0</td>\n      <td>408.0</td>\n      <td>596.0</td>\n      <td>264.0</td>\n      <td>221.0</td>\n    </tr>\n    <tr>\n      <th>25</th>\n      <td>2020-07-22</td>\n      <td>965.0</td>\n      <td>941.0</td>\n      <td>418.0</td>\n      <td>547.0</td>\n      <td>257.0</td>\n      <td>230.0</td>\n    </tr>\n    <tr>\n      <th>26</th>\n      <td>2020-07-23</td>\n      <td>981.0</td>\n      <td>962.0</td>\n      <td>395.0</td>\n      <td>586.0</td>\n      <td>251.0</td>\n      <td>230.0</td>\n    </tr>\n    <tr>\n      <th>27</th>\n      <td>2020-07-24</td>\n      <td>920.0</td>\n      <td>864.0</td>\n      <td>407.0</td>\n      <td>513.0</td>\n      <td>234.0</td>\n      <td>217.0</td>\n    </tr>\n    <tr>\n      <th>28</th>\n      <td>2020-07-25</td>\n      <td>885.0</td>\n      <td>875.0</td>\n      <td>372.0</td>\n      <td>513.0</td>\n      <td>233.0</td>\n      <td>215.0</td>\n    </tr>\n    <tr>\n      <th>29</th>\n      <td>2020-07-26</td>\n      <td>875.0</td>\n      <td>831.0</td>\n      <td>358.0</td>\n      <td>517.0</td>\n      <td>232.0</td>\n      <td>215.0</td>\n    </tr>\n    <tr>\n      <th>30</th>\n      <td>2020-07-27</td>\n      <td>854.0</td>\n      <td>813.0</td>\n      <td>358.0</td>\n      <td>496.0</td>\n      <td>226.0</td>\n      <td>219.0</td>\n    </tr>\n    <tr>\n      <th>31</th>\n      <td>2020-07-28</td>\n      <td>814.0</td>\n      <td>800.0</td>\n      <td>299.0</td>\n      <td>515.0</td>\n      <td>230.0</td>\n      <td>219.0</td>\n    </tr>\n    <tr>\n      <th>32</th>\n      <td>2020-07-29</td>\n      <td>879.0</td>\n      <td>828.0</td>\n      <td>326.0</td>\n      <td>553.0</td>\n      <td>237.0</td>\n      <td>211.0</td>\n    </tr>\n    <tr>\n      <th>33</th>\n      <td>2020-07-30</td>\n      <td>868.0</td>\n      <td>846.0</td>\n      <td>320.0</td>\n      <td>548.0</td>\n      <td>245.0</td>\n      <td>211.0</td>\n    </tr>\n    <tr>\n      <th>34</th>\n      <td>2020-07-31</td>\n      <td>864.0</td>\n      <td>847.0</td>\n      <td>335.0</td>\n      <td>529.0</td>\n      <td>244.0</td>\n      <td>234.0</td>\n    </tr>\n  </tbody>\n</table>\n</div>"
     },
     "execution_count": 67,
     "metadata": {},
     "output_type": "execute_result"
    }
   ],
   "source": [
    "df = pd.read_html(html, encoding='cp1252')[2]\n",
    "year = html.split(' ')[-1].split('.')[-2].split('[')[0]\n",
    "df = df[4:-3]\n",
    "df.columns = [\n",
    "    'date',\n",
    "    'in_flow_total',\n",
    "    'out_flow_total',\n",
    "    'raw_water_flow_ponydalen',\n",
    "    'raw_water_flow_maegård',\n",
    "    'raw_water_flow_sandkaas',\n",
    "    'raw_water_flow_sandkaas_max',\n",
    "]\n",
    "df = df.astype(\n",
    "    {\n",
    "        \"in_flow_total\": float,\n",
    "        \"out_flow_total\": float,\n",
    "        \"raw_water_flow_ponydalen\": float,\n",
    "        \"raw_water_flow_maegård\": float,\n",
    "        \"raw_water_flow_sandkaas\": float,\n",
    "        \"raw_water_flow_sandkaas_max\": float,\n",
    "    }\n",
    ")\n",
    "df.date = df.date.apply(lambda d: d + '-' + year)\n",
    "df.date = pd.to_datetime(df.date, format=\"%d-%m-%Y\")\n",
    "df"
   ],
   "metadata": {
    "collapsed": false,
    "pycharm": {
     "name": "#%%\n"
    }
   }
  },
  {
   "cell_type": "code",
   "execution_count": null,
   "outputs": [],
   "source": [],
   "metadata": {
    "collapsed": false,
    "pycharm": {
     "name": "#%%\n"
    }
   }
  },
  {
   "cell_type": "code",
   "execution_count": null,
   "outputs": [],
   "source": [],
   "metadata": {
    "collapsed": false,
    "pycharm": {
     "name": "#%%\n"
    }
   }
  }
 ],
 "metadata": {
  "kernelspec": {
   "display_name": "Python 3",
   "language": "python",
   "name": "python3"
  },
  "language_info": {
   "codemirror_mode": {
    "name": "ipython",
    "version": 2
   },
   "file_extension": ".py",
   "mimetype": "text/x-python",
   "name": "python",
   "nbconvert_exporter": "python",
   "pygments_lexer": "ipython2",
   "version": "2.7.6"
  }
 },
 "nbformat": 4,
 "nbformat_minor": 0
}